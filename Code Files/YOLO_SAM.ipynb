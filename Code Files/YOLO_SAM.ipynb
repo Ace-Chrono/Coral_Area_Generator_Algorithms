{
 "cells": [
  {
   "cell_type": "markdown",
   "metadata": {},
   "source": [
    "## Setup up CUDA for PyTorch\n",
    "#### *Must download CUDA drive from https://developer.nvidia.com/cuda-downloads and make a venv after in anaconda, not before. Then run the kernel below. "
   ]
  },
  {
   "cell_type": "code",
   "execution_count": 1,
   "metadata": {
    "colab": {
     "base_uri": "https://localhost:8080/"
    },
    "id": "BHn6z4moM24T",
    "outputId": "b04ddf72-2f9f-44cb-9c45-66c7fbfd30d6",
    "scrolled": true
   },
   "outputs": [
    {
     "name": "stdout",
     "output_type": "stream",
     "text": [
      "Looking in indexes: https://download.pytorch.org/whl/cu118\n",
      "Collecting torch==2.3.1\n",
      "  Using cached https://download.pytorch.org/whl/cu118/torch-2.3.1%2Bcu118-cp312-cp312-win_amd64.whl (2672.9 MB)\n",
      "Collecting torchvision==0.18.1\n",
      "  Using cached https://download.pytorch.org/whl/cu118/torchvision-0.18.1%2Bcu118-cp312-cp312-win_amd64.whl (4.9 MB)\n",
      "Collecting torchaudio==2.3.1\n",
      "  Using cached https://download.pytorch.org/whl/cu118/torchaudio-2.3.1%2Bcu118-cp312-cp312-win_amd64.whl (4.0 MB)\n",
      "Collecting filelock (from torch==2.3.1)\n",
      "  Using cached https://download.pytorch.org/whl/filelock-3.13.1-py3-none-any.whl (11 kB)\n",
      "Requirement already satisfied: typing-extensions>=4.8.0 in c:\\users\\richa_0\\anaconda3\\envs\\yolo_sam\\lib\\site-packages (from torch==2.3.1) (4.11.0)\n",
      "Collecting sympy (from torch==2.3.1)\n",
      "  Using cached https://download.pytorch.org/whl/sympy-1.12-py3-none-any.whl (5.7 MB)\n",
      "Collecting networkx (from torch==2.3.1)\n",
      "  Using cached https://download.pytorch.org/whl/networkx-3.2.1-py3-none-any.whl (1.6 MB)\n",
      "Requirement already satisfied: jinja2 in c:\\users\\richa_0\\anaconda3\\envs\\yolo_sam\\lib\\site-packages (from torch==2.3.1) (3.1.4)\n",
      "Collecting fsspec (from torch==2.3.1)\n",
      "  Using cached https://download.pytorch.org/whl/fsspec-2024.2.0-py3-none-any.whl (170 kB)\n",
      "Collecting mkl<=2021.4.0,>=2021.1.1 (from torch==2.3.1)\n",
      "  Using cached https://download.pytorch.org/whl/mkl-2021.4.0-py2.py3-none-win_amd64.whl (228.5 MB)\n",
      "Collecting numpy (from torchvision==0.18.1)\n",
      "  Using cached https://download.pytorch.org/whl/numpy-1.26.3-cp312-cp312-win_amd64.whl (15.5 MB)\n",
      "Collecting pillow!=8.3.*,>=5.3.0 (from torchvision==0.18.1)\n",
      "  Using cached https://download.pytorch.org/whl/pillow-10.2.0-cp312-cp312-win_amd64.whl (2.6 MB)\n",
      "Collecting intel-openmp==2021.* (from mkl<=2021.4.0,>=2021.1.1->torch==2.3.1)\n",
      "  Using cached https://download.pytorch.org/whl/intel_openmp-2021.4.0-py2.py3-none-win_amd64.whl (3.5 MB)\n",
      "Collecting tbb==2021.* (from mkl<=2021.4.0,>=2021.1.1->torch==2.3.1)\n",
      "  Using cached https://download.pytorch.org/whl/tbb-2021.11.0-py3-none-win_amd64.whl (298 kB)\n",
      "Requirement already satisfied: MarkupSafe>=2.0 in c:\\users\\richa_0\\anaconda3\\envs\\yolo_sam\\lib\\site-packages (from jinja2->torch==2.3.1) (2.1.3)\n",
      "Collecting mpmath>=0.19 (from sympy->torch==2.3.1)\n",
      "  Using cached https://download.pytorch.org/whl/mpmath-1.3.0-py3-none-any.whl (536 kB)\n",
      "Installing collected packages: tbb, mpmath, intel-openmp, sympy, pillow, numpy, networkx, mkl, fsspec, filelock, torch, torchvision, torchaudio\n",
      "Successfully installed filelock-3.13.1 fsspec-2024.2.0 intel-openmp-2021.4.0 mkl-2021.4.0 mpmath-1.3.0 networkx-3.2.1 numpy-1.26.3 pillow-10.2.0 sympy-1.12 tbb-2021.11.0 torch-2.3.1+cu118 torchaudio-2.3.1+cu118 torchvision-0.18.1+cu118\n"
     ]
    }
   ],
   "source": [
    "#!pip3 install torch torchvision torchaudio --index-url https://download.pytorch.org/whl/cu118\n",
    "#!pip install torch==2.2.0 torchvision==0.17.0 torchaudio==2.2.0 --index-url https://download.pytorch.org/whl/cu118\n",
    "!pip install torch==2.3.1 torchvision==0.18.1 torchaudio==2.3.1 --index-url https://download.pytorch.org/whl/cu118"
   ]
  },
  {
   "cell_type": "code",
   "execution_count": 1,
   "metadata": {
    "colab": {
     "base_uri": "https://localhost:8080/"
    },
    "id": "BHn6z4moM24T",
    "outputId": "b04ddf72-2f9f-44cb-9c45-66c7fbfd30d6"
   },
   "outputs": [
    {
     "name": "stdout",
     "output_type": "stream",
     "text": [
      "Wed Sep 11 17:07:22 2024       \n",
      "+-----------------------------------------------------------------------------------------+\n",
      "| NVIDIA-SMI 560.94                 Driver Version: 560.94         CUDA Version: 12.6     |\n",
      "|-----------------------------------------+------------------------+----------------------+\n",
      "| GPU  Name                  Driver-Model | Bus-Id          Disp.A | Volatile Uncorr. ECC |\n",
      "| Fan  Temp   Perf          Pwr:Usage/Cap |           Memory-Usage | GPU-Util  Compute M. |\n",
      "|                                         |                        |               MIG M. |\n",
      "|=========================================+========================+======================|\n",
      "|   0  NVIDIA GeForce RTX 3070 ...  WDDM  |   00000000:01:00.0  On |                  N/A |\n",
      "| N/A   65C    P8             19W /   86W |     611MiB /   8192MiB |      6%      Default |\n",
      "|                                         |                        |                  N/A |\n",
      "+-----------------------------------------+------------------------+----------------------+\n",
      "                                                                                         \n",
      "+-----------------------------------------------------------------------------------------+\n",
      "| Processes:                                                                              |\n",
      "|  GPU   GI   CI        PID   Type   Process name                              GPU Memory |\n",
      "|        ID   ID                                                               Usage      |\n",
      "|=========================================================================================|\n",
      "|    0   N/A  N/A      6724    C+G   C:\\Windows\\explorer.exe                     N/A      |\n",
      "|    0   N/A  N/A      7780    C+G   ...oogle\\Chrome\\Application\\chrome.exe      N/A      |\n",
      "|    0   N/A  N/A     12012    C+G   ...2txyewy\\StartMenuExperienceHost.exe      N/A      |\n",
      "|    0   N/A  N/A     12048    C+G   ...nt.CBS_cw5n1h2txyewy\\SearchHost.exe      N/A      |\n",
      "|    0   N/A  N/A     15504    C+G   ...ekyb3d8bbwe\\PhoneExperienceHost.exe      N/A      |\n",
      "|    0   N/A  N/A     16640    C+G   ...CBS_cw5n1h2txyewy\\TextInputHost.exe      N/A      |\n",
      "|    0   N/A  N/A     18288    C+G   ...a\\Local\\slack\\app-4.39.95\\slack.exe      N/A      |\n",
      "|    0   N/A  N/A     19032    C+G   ...5n1h2txyewy\\ShellExperienceHost.exe      N/A      |\n",
      "+-----------------------------------------------------------------------------------------+\n"
     ]
    }
   ],
   "source": [
    "!nvidia-smi"
   ]
  },
  {
   "cell_type": "markdown",
   "metadata": {
    "id": "2QqaZoirGcrf"
   },
   "source": [
    "## Setup SAM and YOLO"
   ]
  },
  {
   "cell_type": "code",
   "execution_count": 1,
   "metadata": {
    "colab": {
     "base_uri": "https://localhost:8080/"
    },
    "id": "MAxjKnlkO5bh",
    "outputId": "3d2788a7-e1fd-417c-c30d-22660b7a819a"
   },
   "outputs": [
    {
     "name": "stdout",
     "output_type": "stream",
     "text": [
      "Collecting git+https://github.com/facebookresearch/segment-anything.git\n",
      "  Cloning https://github.com/facebookresearch/segment-anything.git to c:\\users\\richa_0\\appdata\\local\\temp\\pip-req-build-ze8wxy0z\n",
      "  Resolved https://github.com/facebookresearch/segment-anything.git to commit 526fd066dea338ba2ca08886853bd37ffd6a8aec\n",
      "  Preparing metadata (setup.py): started\n",
      "  Preparing metadata (setup.py): finished with status 'done'\n",
      "Building wheels for collected packages: segment_anything\n",
      "  Building wheel for segment_anything (setup.py): started\n",
      "  Building wheel for segment_anything (setup.py): finished with status 'done'\n",
      "  Created wheel for segment_anything: filename=segment_anything-1.0-py3-none-any.whl size=36834 sha256=4741d85ef3d2610f54d63d610adaf35362f86788f0af5a99d07db2ea6613c594\n",
      "  Stored in directory: C:\\Users\\richa_0\\AppData\\Local\\Temp\\pip-ephem-wheel-cache-3ia712zs\\wheels\\29\\82\\ff\\04e2be9805a1cb48bec0b85b5a6da6b63f647645750a0e42d4\n",
      "Successfully built segment_anything\n",
      "Installing collected packages: segment_anything\n",
      "Successfully installed segment_anything-1.0\n"
     ]
    },
    {
     "name": "stderr",
     "output_type": "stream",
     "text": [
      "  Running command git clone --filter=blob:none --quiet https://github.com/facebookresearch/segment-anything.git 'C:\\Users\\richa_0\\AppData\\Local\\Temp\\pip-req-build-ze8wxy0z'\n"
     ]
    }
   ],
   "source": [
    "!pip install git+https://github.com/facebookresearch/segment-anything.git"
   ]
  },
  {
   "cell_type": "code",
   "execution_count": 3,
   "metadata": {
    "colab": {
     "base_uri": "https://localhost:8080/"
    },
    "id": "sjPaUgCCO_UN",
    "outputId": "606039a4-7f7a-4306-ffca-a8ff66eab626"
   },
   "outputs": [],
   "source": [
    "!pip install -q  supervision jupyter_bbox_widget roboflow dataclasses-json"
   ]
  },
  {
   "cell_type": "code",
   "execution_count": 4,
   "metadata": {
    "scrolled": true
   },
   "outputs": [
    {
     "name": "stdout",
     "output_type": "stream",
     "text": [
      "Collecting ultralytics\n",
      "  Downloading ultralytics-8.2.91-py3-none-any.whl.metadata (41 kB)\n",
      "Requirement already satisfied: numpy<2.0.0,>=1.23.0 in c:\\users\\richa_0\\anaconda3\\envs\\yolo_sam\\lib\\site-packages (from ultralytics) (1.26.3)\n",
      "Requirement already satisfied: matplotlib>=3.3.0 in c:\\users\\richa_0\\anaconda3\\envs\\yolo_sam\\lib\\site-packages (from ultralytics) (3.9.2)\n",
      "Collecting opencv-python>=4.6.0 (from ultralytics)\n",
      "  Using cached opencv_python-4.10.0.84-cp37-abi3-win_amd64.whl.metadata (20 kB)\n",
      "Requirement already satisfied: pillow>=7.1.2 in c:\\users\\richa_0\\anaconda3\\envs\\yolo_sam\\lib\\site-packages (from ultralytics) (10.2.0)\n",
      "Requirement already satisfied: pyyaml>=5.3.1 in c:\\users\\richa_0\\anaconda3\\envs\\yolo_sam\\lib\\site-packages (from ultralytics) (6.0.1)\n",
      "Requirement already satisfied: requests>=2.23.0 in c:\\users\\richa_0\\anaconda3\\envs\\yolo_sam\\lib\\site-packages (from ultralytics) (2.32.3)\n",
      "Requirement already satisfied: scipy>=1.4.1 in c:\\users\\richa_0\\anaconda3\\envs\\yolo_sam\\lib\\site-packages (from ultralytics) (1.14.1)\n",
      "Requirement already satisfied: torch>=1.8.0 in c:\\users\\richa_0\\anaconda3\\envs\\yolo_sam\\lib\\site-packages (from ultralytics) (2.3.1+cu118)\n",
      "Requirement already satisfied: torchvision>=0.9.0 in c:\\users\\richa_0\\anaconda3\\envs\\yolo_sam\\lib\\site-packages (from ultralytics) (0.18.1+cu118)\n",
      "Requirement already satisfied: tqdm>=4.64.0 in c:\\users\\richa_0\\anaconda3\\envs\\yolo_sam\\lib\\site-packages (from ultralytics) (4.66.5)\n",
      "Requirement already satisfied: psutil in c:\\users\\richa_0\\anaconda3\\envs\\yolo_sam\\lib\\site-packages (from ultralytics) (5.9.0)\n",
      "Collecting py-cpuinfo (from ultralytics)\n",
      "  Using cached py_cpuinfo-9.0.0-py3-none-any.whl.metadata (794 bytes)\n",
      "Collecting pandas>=1.1.4 (from ultralytics)\n",
      "  Using cached pandas-2.2.2-cp312-cp312-win_amd64.whl.metadata (19 kB)\n",
      "Collecting seaborn>=0.11.0 (from ultralytics)\n",
      "  Using cached seaborn-0.13.2-py3-none-any.whl.metadata (5.4 kB)\n",
      "Collecting ultralytics-thop>=2.0.0 (from ultralytics)\n",
      "  Downloading ultralytics_thop-2.0.6-py3-none-any.whl.metadata (9.1 kB)\n",
      "Requirement already satisfied: contourpy>=1.0.1 in c:\\users\\richa_0\\anaconda3\\envs\\yolo_sam\\lib\\site-packages (from matplotlib>=3.3.0->ultralytics) (1.3.0)\n",
      "Requirement already satisfied: cycler>=0.10 in c:\\users\\richa_0\\anaconda3\\envs\\yolo_sam\\lib\\site-packages (from matplotlib>=3.3.0->ultralytics) (0.12.1)\n",
      "Requirement already satisfied: fonttools>=4.22.0 in c:\\users\\richa_0\\anaconda3\\envs\\yolo_sam\\lib\\site-packages (from matplotlib>=3.3.0->ultralytics) (4.53.1)\n",
      "Requirement already satisfied: kiwisolver>=1.3.1 in c:\\users\\richa_0\\anaconda3\\envs\\yolo_sam\\lib\\site-packages (from matplotlib>=3.3.0->ultralytics) (1.4.7)\n",
      "Requirement already satisfied: packaging>=20.0 in c:\\users\\richa_0\\anaconda3\\envs\\yolo_sam\\lib\\site-packages (from matplotlib>=3.3.0->ultralytics) (24.1)\n",
      "Requirement already satisfied: pyparsing>=2.3.1 in c:\\users\\richa_0\\anaconda3\\envs\\yolo_sam\\lib\\site-packages (from matplotlib>=3.3.0->ultralytics) (3.1.4)\n",
      "Requirement already satisfied: python-dateutil>=2.7 in c:\\users\\richa_0\\anaconda3\\envs\\yolo_sam\\lib\\site-packages (from matplotlib>=3.3.0->ultralytics) (2.9.0.post0)\n",
      "Requirement already satisfied: pytz>=2020.1 in c:\\users\\richa_0\\anaconda3\\envs\\yolo_sam\\lib\\site-packages (from pandas>=1.1.4->ultralytics) (2024.1)\n",
      "Collecting tzdata>=2022.7 (from pandas>=1.1.4->ultralytics)\n",
      "  Using cached tzdata-2024.1-py2.py3-none-any.whl.metadata (1.4 kB)\n",
      "Requirement already satisfied: charset-normalizer<4,>=2 in c:\\users\\richa_0\\anaconda3\\envs\\yolo_sam\\lib\\site-packages (from requests>=2.23.0->ultralytics) (3.3.2)\n",
      "Requirement already satisfied: idna<4,>=2.5 in c:\\users\\richa_0\\anaconda3\\envs\\yolo_sam\\lib\\site-packages (from requests>=2.23.0->ultralytics) (3.7)\n",
      "Requirement already satisfied: urllib3<3,>=1.21.1 in c:\\users\\richa_0\\anaconda3\\envs\\yolo_sam\\lib\\site-packages (from requests>=2.23.0->ultralytics) (2.2.2)\n",
      "Requirement already satisfied: certifi>=2017.4.17 in c:\\users\\richa_0\\anaconda3\\envs\\yolo_sam\\lib\\site-packages (from requests>=2.23.0->ultralytics) (2024.8.30)\n",
      "Requirement already satisfied: filelock in c:\\users\\richa_0\\anaconda3\\envs\\yolo_sam\\lib\\site-packages (from torch>=1.8.0->ultralytics) (3.13.1)\n",
      "Requirement already satisfied: typing-extensions>=4.8.0 in c:\\users\\richa_0\\anaconda3\\envs\\yolo_sam\\lib\\site-packages (from torch>=1.8.0->ultralytics) (4.11.0)\n",
      "Requirement already satisfied: sympy in c:\\users\\richa_0\\anaconda3\\envs\\yolo_sam\\lib\\site-packages (from torch>=1.8.0->ultralytics) (1.12)\n",
      "Requirement already satisfied: networkx in c:\\users\\richa_0\\anaconda3\\envs\\yolo_sam\\lib\\site-packages (from torch>=1.8.0->ultralytics) (3.2.1)\n",
      "Requirement already satisfied: jinja2 in c:\\users\\richa_0\\anaconda3\\envs\\yolo_sam\\lib\\site-packages (from torch>=1.8.0->ultralytics) (3.1.4)\n",
      "Requirement already satisfied: fsspec in c:\\users\\richa_0\\anaconda3\\envs\\yolo_sam\\lib\\site-packages (from torch>=1.8.0->ultralytics) (2024.2.0)\n",
      "Requirement already satisfied: mkl<=2021.4.0,>=2021.1.1 in c:\\users\\richa_0\\anaconda3\\envs\\yolo_sam\\lib\\site-packages (from torch>=1.8.0->ultralytics) (2021.4.0)\n",
      "Requirement already satisfied: colorama in c:\\users\\richa_0\\anaconda3\\envs\\yolo_sam\\lib\\site-packages (from tqdm>=4.64.0->ultralytics) (0.4.6)\n",
      "Requirement already satisfied: intel-openmp==2021.* in c:\\users\\richa_0\\anaconda3\\envs\\yolo_sam\\lib\\site-packages (from mkl<=2021.4.0,>=2021.1.1->torch>=1.8.0->ultralytics) (2021.4.0)\n",
      "Requirement already satisfied: tbb==2021.* in c:\\users\\richa_0\\anaconda3\\envs\\yolo_sam\\lib\\site-packages (from mkl<=2021.4.0,>=2021.1.1->torch>=1.8.0->ultralytics) (2021.11.0)\n",
      "Requirement already satisfied: six>=1.5 in c:\\users\\richa_0\\anaconda3\\envs\\yolo_sam\\lib\\site-packages (from python-dateutil>=2.7->matplotlib>=3.3.0->ultralytics) (1.16.0)\n",
      "Requirement already satisfied: MarkupSafe>=2.0 in c:\\users\\richa_0\\anaconda3\\envs\\yolo_sam\\lib\\site-packages (from jinja2->torch>=1.8.0->ultralytics) (2.1.3)\n",
      "Requirement already satisfied: mpmath>=0.19 in c:\\users\\richa_0\\anaconda3\\envs\\yolo_sam\\lib\\site-packages (from sympy->torch>=1.8.0->ultralytics) (1.3.0)\n",
      "Downloading ultralytics-8.2.91-py3-none-any.whl (871 kB)\n",
      "   ---------------------------------------- 0.0/871.8 kB ? eta -:--:--\n",
      "   ---------------------------------------- 871.8/871.8 kB 7.8 MB/s eta 0:00:00\n",
      "Using cached opencv_python-4.10.0.84-cp37-abi3-win_amd64.whl (38.8 MB)\n",
      "Using cached pandas-2.2.2-cp312-cp312-win_amd64.whl (11.5 MB)\n",
      "Using cached seaborn-0.13.2-py3-none-any.whl (294 kB)\n",
      "Downloading ultralytics_thop-2.0.6-py3-none-any.whl (26 kB)\n",
      "Using cached py_cpuinfo-9.0.0-py3-none-any.whl (22 kB)\n",
      "Using cached tzdata-2024.1-py2.py3-none-any.whl (345 kB)\n",
      "Installing collected packages: py-cpuinfo, tzdata, opencv-python, pandas, ultralytics-thop, seaborn, ultralytics\n",
      "Successfully installed opencv-python-4.10.0.84 pandas-2.2.2 py-cpuinfo-9.0.0 seaborn-0.13.2 tzdata-2024.1 ultralytics-8.2.91 ultralytics-thop-2.0.6\n"
     ]
    }
   ],
   "source": [
    "!pip install ultralytics"
   ]
  },
  {
   "cell_type": "markdown",
   "metadata": {},
   "source": [
    "## Other Pip installs"
   ]
  },
  {
   "cell_type": "code",
   "execution_count": 5,
   "metadata": {},
   "outputs": [
    {
     "name": "stdout",
     "output_type": "stream",
     "text": [
      "Collecting imageio\n",
      "  Using cached imageio-2.35.1-py3-none-any.whl.metadata (4.9 kB)\n",
      "Requirement already satisfied: numpy in c:\\users\\richa_0\\anaconda3\\envs\\yolo_sam\\lib\\site-packages (from imageio) (1.26.3)\n",
      "Requirement already satisfied: pillow>=8.3.2 in c:\\users\\richa_0\\anaconda3\\envs\\yolo_sam\\lib\\site-packages (from imageio) (10.2.0)\n",
      "Using cached imageio-2.35.1-py3-none-any.whl (315 kB)\n",
      "Installing collected packages: imageio\n",
      "Successfully installed imageio-2.35.1\n"
     ]
    }
   ],
   "source": [
    "!pip install imageio"
   ]
  },
  {
   "cell_type": "markdown",
   "metadata": {
    "id": "ks5PKNw_G8dh"
   },
   "source": [
    "## Setup Computer and Dependencies"
   ]
  },
  {
   "cell_type": "code",
   "execution_count": 3,
   "metadata": {
    "colab": {
     "base_uri": "https://localhost:8080/"
    },
    "id": "UwLbgdDVQhMS",
    "outputId": "003cd6b8-24e8-47e3-981b-5e1c21bf6b7a"
   },
   "outputs": [
    {
     "name": "stdout",
     "output_type": "stream",
     "text": [
      "2.3.1+cu118\n",
      "cuda:0\n"
     ]
    }
   ],
   "source": [
    "import torch\n",
    "print(torch.__version__)\n",
    "DEVICE = torch.device('cuda:0' if torch.cuda.is_available() else 'cpu')\n",
    "print(DEVICE)"
   ]
  },
  {
   "cell_type": "code",
   "execution_count": 4,
   "metadata": {},
   "outputs": [],
   "source": [
    "MODEL_TYPE = \"vit_h\"\n",
    "from segment_anything import sam_model_registry, SamAutomaticMaskGenerator, SamPredictor # r\"C:\\Users\\richa_0\\Downloads\\sam_model_epoch_24.pth\"\n",
    "sam = sam_model_registry[MODEL_TYPE](checkpoint=r\"C:\\Users\\richa_0\\Documents\\Coral Research\\Machine Learning Models\\sam_vit_h_4b8939.pth\").to(device=DEVICE) "
   ]
  },
  {
   "cell_type": "markdown",
   "metadata": {
    "id": "oVMUpajOHV9l"
   },
   "source": [
    "#### Add more dependencies"
   ]
  },
  {
   "cell_type": "code",
   "execution_count": 5,
   "metadata": {
    "id": "5hFeInNqGCgg"
   },
   "outputs": [],
   "source": [
    "import numpy as np\n",
    "from PIL import Image\n",
    "from PIL.ExifTags import TAGS\n",
    "import matplotlib.pyplot as plt\n",
    "import matplotlib.patches as patches \n",
    "import torchvision\n",
    "import os\n",
    "import ultralytics\n",
    "from ultralytics import YOLO\n",
    "from matplotlib import pyplot as plt\n",
    "import pandas as pd\n",
    "import torch\n",
    "import supervision as sv\n",
    "from roboflow import Roboflow\n",
    "import imageio.v3 as iio\n",
    "import datetime\n",
    "import json\n",
    "import cv2"
   ]
  },
  {
   "cell_type": "markdown",
   "metadata": {},
   "source": [
    "## Train Custom YOLO V8"
   ]
  },
  {
   "cell_type": "code",
   "execution_count": 6,
   "metadata": {},
   "outputs": [],
   "source": [
    "import yaml\n",
    "model = YOLO('yolov8n.pt')\n",
    "name = \"50_epochs-\"\n",
    "project = \"C:/Users/richa_0/Documents/Coral Research/Machine Learning Models/2612.yolov8/results\""
   ]
  },
  {
   "cell_type": "code",
   "execution_count": 5,
   "metadata": {
    "scrolled": true
   },
   "outputs": [
    {
     "name": "stdout",
     "output_type": "stream",
     "text": [
      "New https://pypi.org/project/ultralytics/8.2.92 available  Update with 'pip install -U ultralytics'\n",
      "Ultralytics YOLOv8.2.91  Python-3.12.4 torch-2.3.1+cu118 CUDA:0 (NVIDIA GeForce RTX 3070 Ti Laptop GPU, 8192MiB)\n",
      "\u001b[34m\u001b[1mengine\\trainer: \u001b[0mtask=detect, mode=train, model=yolov8n.pt, data=C:\\Users\\richa_0\\Documents\\Coral Research\\Machine Learning Models\\2612.yolov8\\data.yaml, epochs=50, time=None, patience=0, batch=4, imgsz=640, save=True, save_period=-1, cache=False, device=None, workers=8, project=C:/Users/richa_0/Documents/Coral Research/Machine Learning Models/2612.yolov8/results, name=50_epochs-5, exist_ok=False, pretrained=True, optimizer=auto, verbose=True, seed=0, deterministic=True, single_cls=False, rect=False, cos_lr=False, close_mosaic=10, resume=False, amp=True, fraction=1.0, profile=False, freeze=None, multi_scale=False, overlap_mask=True, mask_ratio=4, dropout=0.0, val=True, split=val, save_json=False, save_hybrid=False, conf=None, iou=0.7, max_det=300, half=False, dnn=False, plots=True, source=None, vid_stride=1, stream_buffer=False, visualize=False, augment=False, agnostic_nms=False, classes=None, retina_masks=False, embed=None, show=False, save_frames=False, save_txt=False, save_conf=False, save_crop=False, show_labels=True, show_conf=True, show_boxes=True, line_width=None, format=torchscript, keras=False, optimize=False, int8=False, dynamic=False, simplify=False, opset=None, workspace=4, nms=False, lr0=0.01, lrf=0.01, momentum=0.937, weight_decay=0.0005, warmup_epochs=3.0, warmup_momentum=0.8, warmup_bias_lr=0.1, box=7.5, cls=0.5, dfl=1.5, pose=12.0, kobj=1.0, label_smoothing=0.0, nbs=64, hsv_h=0.015, hsv_s=0.7, hsv_v=0.4, degrees=0.0, translate=0.1, scale=0.5, shear=0.0, perspective=0.0, flipud=0.0, fliplr=0.5, bgr=0.0, mosaic=1.0, mixup=0.0, copy_paste=0.0, auto_augment=randaugment, erasing=0.4, crop_fraction=1.0, cfg=None, tracker=botsort.yaml, save_dir=C:\\Users\\richa_0\\Documents\\Coral Research\\Machine Learning Models\\2612.yolov8\\results\\50_epochs-5\n",
      "Overriding model.yaml nc=80 with nc=2\n",
      "\n",
      "                   from  n    params  module                                       arguments                     \n",
      "  0                  -1  1       464  ultralytics.nn.modules.conv.Conv             [3, 16, 3, 2]                 \n",
      "  1                  -1  1      4672  ultralytics.nn.modules.conv.Conv             [16, 32, 3, 2]                \n",
      "  2                  -1  1      7360  ultralytics.nn.modules.block.C2f             [32, 32, 1, True]             \n",
      "  3                  -1  1     18560  ultralytics.nn.modules.conv.Conv             [32, 64, 3, 2]                \n",
      "  4                  -1  2     49664  ultralytics.nn.modules.block.C2f             [64, 64, 2, True]             \n",
      "  5                  -1  1     73984  ultralytics.nn.modules.conv.Conv             [64, 128, 3, 2]               \n",
      "  6                  -1  2    197632  ultralytics.nn.modules.block.C2f             [128, 128, 2, True]           \n",
      "  7                  -1  1    295424  ultralytics.nn.modules.conv.Conv             [128, 256, 3, 2]              \n",
      "  8                  -1  1    460288  ultralytics.nn.modules.block.C2f             [256, 256, 1, True]           \n",
      "  9                  -1  1    164608  ultralytics.nn.modules.block.SPPF            [256, 256, 5]                 \n",
      " 10                  -1  1         0  torch.nn.modules.upsampling.Upsample         [None, 2, 'nearest']          \n",
      " 11             [-1, 6]  1         0  ultralytics.nn.modules.conv.Concat           [1]                           \n",
      " 12                  -1  1    148224  ultralytics.nn.modules.block.C2f             [384, 128, 1]                 \n",
      " 13                  -1  1         0  torch.nn.modules.upsampling.Upsample         [None, 2, 'nearest']          \n",
      " 14             [-1, 4]  1         0  ultralytics.nn.modules.conv.Concat           [1]                           \n",
      " 15                  -1  1     37248  ultralytics.nn.modules.block.C2f             [192, 64, 1]                  \n",
      " 16                  -1  1     36992  ultralytics.nn.modules.conv.Conv             [64, 64, 3, 2]                \n",
      " 17            [-1, 12]  1         0  ultralytics.nn.modules.conv.Concat           [1]                           \n",
      " 18                  -1  1    123648  ultralytics.nn.modules.block.C2f             [192, 128, 1]                 \n",
      " 19                  -1  1    147712  ultralytics.nn.modules.conv.Conv             [128, 128, 3, 2]              \n",
      " 20             [-1, 9]  1         0  ultralytics.nn.modules.conv.Concat           [1]                           \n",
      " 21                  -1  1    493056  ultralytics.nn.modules.block.C2f             [384, 256, 1]                 \n",
      " 22        [15, 18, 21]  1    751702  ultralytics.nn.modules.head.Detect           [2, [64, 128, 256]]           \n",
      "Model summary: 225 layers, 3,011,238 parameters, 3,011,222 gradients, 8.2 GFLOPs\n",
      "\n",
      "Transferred 319/355 items from pretrained weights\n",
      "Freezing layer 'model.22.dfl.conv.weight'\n",
      "\u001b[34m\u001b[1mAMP: \u001b[0mrunning Automatic Mixed Precision (AMP) checks with YOLOv8n...\n",
      "\u001b[34m\u001b[1mAMP: \u001b[0mchecks passed \n"
     ]
    },
    {
     "name": "stderr",
     "output_type": "stream",
     "text": [
      "\u001b[34m\u001b[1mtrain: \u001b[0mScanning C:\\Users\\richa_0\\Documents\\Coral Research\\Machine Learning Models\\2612.yolov8\\train\\labels.cache... 1788 images, 0 backgrounds, 0 corrupt: 100%|██████████| 1788/1788 [00:00<?, ?it/s]\n",
      "\u001b[34m\u001b[1mval: \u001b[0mScanning C:\\Users\\richa_0\\Documents\\Coral Research\\Machine Learning Models\\2612.yolov8\\valid\\labels.cache... 456 images, 0 backgrounds, 0 corrupt: 100%|██████████| 456/456 [00:00<?, ?it/s]\n"
     ]
    },
    {
     "name": "stdout",
     "output_type": "stream",
     "text": [
      "Plotting labels to C:\\Users\\richa_0\\Documents\\Coral Research\\Machine Learning Models\\2612.yolov8\\results\\50_epochs-5\\labels.jpg... \n",
      "\u001b[34m\u001b[1moptimizer:\u001b[0m 'optimizer=auto' found, ignoring 'lr0=0.01' and 'momentum=0.937' and determining best 'optimizer', 'lr0' and 'momentum' automatically... \n",
      "\u001b[34m\u001b[1moptimizer:\u001b[0m AdamW(lr=0.001667, momentum=0.9) with parameter groups 57 weight(decay=0.0), 64 weight(decay=0.0005), 63 bias(decay=0.0)\n",
      "Image sizes 640 train, 640 val\n",
      "Using 8 dataloader workers\n",
      "Logging results to \u001b[1mC:\\Users\\richa_0\\Documents\\Coral Research\\Machine Learning Models\\2612.yolov8\\results\\50_epochs-5\u001b[0m\n",
      "Starting training for 50 epochs...\n",
      "\n",
      "      Epoch    GPU_mem   box_loss   cls_loss   dfl_loss  Instances       Size\n"
     ]
    },
    {
     "name": "stderr",
     "output_type": "stream",
     "text": [
      "       1/50     0.872G     0.8931      1.814      1.234          5        640: 100%|██████████| 447/447 [00:29<00:00, 15.07it/s]\n",
      "                 Class     Images  Instances      Box(P          R      mAP50  mAP50-95): 100%|██████████| 57/57 [00:02<00:00, 19.21it/s]"
     ]
    },
    {
     "name": "stdout",
     "output_type": "stream",
     "text": [
      "                   all        456        456      0.924      0.871      0.955      0.749\n"
     ]
    },
    {
     "name": "stderr",
     "output_type": "stream",
     "text": [
      "\n"
     ]
    },
    {
     "name": "stdout",
     "output_type": "stream",
     "text": [
      "\n",
      "      Epoch    GPU_mem   box_loss   cls_loss   dfl_loss  Instances       Size\n"
     ]
    },
    {
     "name": "stderr",
     "output_type": "stream",
     "text": [
      "       2/50     0.877G     0.9176      1.278      1.234          4        640: 100%|██████████| 447/447 [00:24<00:00, 18.12it/s]\n",
      "                 Class     Images  Instances      Box(P          R      mAP50  mAP50-95): 100%|██████████| 57/57 [00:02<00:00, 21.99it/s]"
     ]
    },
    {
     "name": "stdout",
     "output_type": "stream",
     "text": [
      "                   all        456        456      0.938       0.83      0.948      0.761\n"
     ]
    },
    {
     "name": "stderr",
     "output_type": "stream",
     "text": [
      "\n"
     ]
    },
    {
     "name": "stdout",
     "output_type": "stream",
     "text": [
      "\n",
      "      Epoch    GPU_mem   box_loss   cls_loss   dfl_loss  Instances       Size\n"
     ]
    },
    {
     "name": "stderr",
     "output_type": "stream",
     "text": [
      "       3/50     0.877G     0.9175      1.041      1.251          7        640: 100%|██████████| 447/447 [00:24<00:00, 18.08it/s]\n",
      "                 Class     Images  Instances      Box(P          R      mAP50  mAP50-95): 100%|██████████| 57/57 [00:02<00:00, 19.76it/s]"
     ]
    },
    {
     "name": "stdout",
     "output_type": "stream",
     "text": [
      "                   all        456        456       0.93       0.88      0.952      0.758\n"
     ]
    },
    {
     "name": "stderr",
     "output_type": "stream",
     "text": [
      "\n"
     ]
    },
    {
     "name": "stdout",
     "output_type": "stream",
     "text": [
      "\n",
      "      Epoch    GPU_mem   box_loss   cls_loss   dfl_loss  Instances       Size\n"
     ]
    },
    {
     "name": "stderr",
     "output_type": "stream",
     "text": [
      "       4/50     0.875G     0.9029     0.9011      1.202          9        640: 100%|██████████| 447/447 [00:25<00:00, 17.31it/s]\n",
      "                 Class     Images  Instances      Box(P          R      mAP50  mAP50-95): 100%|██████████| 57/57 [00:02<00:00, 21.77it/s]\n"
     ]
    },
    {
     "name": "stdout",
     "output_type": "stream",
     "text": [
      "                   all        456        456      0.955        0.9      0.972      0.765\n",
      "\n",
      "      Epoch    GPU_mem   box_loss   cls_loss   dfl_loss  Instances       Size\n"
     ]
    },
    {
     "name": "stderr",
     "output_type": "stream",
     "text": [
      "       5/50     0.875G     0.8704     0.8122      1.194          7        640: 100%|██████████| 447/447 [00:25<00:00, 17.82it/s]\n",
      "                 Class     Images  Instances      Box(P          R      mAP50  mAP50-95): 100%|██████████| 57/57 [00:02<00:00, 21.33it/s]"
     ]
    },
    {
     "name": "stdout",
     "output_type": "stream",
     "text": [
      "                   all        456        456      0.948      0.964      0.987      0.789\n"
     ]
    },
    {
     "name": "stderr",
     "output_type": "stream",
     "text": [
      "\n"
     ]
    },
    {
     "name": "stdout",
     "output_type": "stream",
     "text": [
      "\n",
      "      Epoch    GPU_mem   box_loss   cls_loss   dfl_loss  Instances       Size\n"
     ]
    },
    {
     "name": "stderr",
     "output_type": "stream",
     "text": [
      "       6/50     0.872G     0.8537     0.7529      1.183          9        640: 100%|██████████| 447/447 [00:24<00:00, 18.27it/s]\n",
      "                 Class     Images  Instances      Box(P          R      mAP50  mAP50-95): 100%|██████████| 57/57 [00:02<00:00, 21.92it/s]"
     ]
    },
    {
     "name": "stdout",
     "output_type": "stream",
     "text": [
      "                   all        456        456      0.972      0.948      0.978      0.803\n"
     ]
    },
    {
     "name": "stderr",
     "output_type": "stream",
     "text": [
      "\n"
     ]
    },
    {
     "name": "stdout",
     "output_type": "stream",
     "text": [
      "\n",
      "      Epoch    GPU_mem   box_loss   cls_loss   dfl_loss  Instances       Size\n"
     ]
    },
    {
     "name": "stderr",
     "output_type": "stream",
     "text": [
      "       7/50     0.872G     0.8353     0.7436      1.171         10        640: 100%|██████████| 447/447 [00:28<00:00, 15.89it/s]\n",
      "                 Class     Images  Instances      Box(P          R      mAP50  mAP50-95): 100%|██████████| 57/57 [00:02<00:00, 20.72it/s]"
     ]
    },
    {
     "name": "stdout",
     "output_type": "stream",
     "text": [
      "                   all        456        456       0.94      0.957       0.98      0.815\n"
     ]
    },
    {
     "name": "stderr",
     "output_type": "stream",
     "text": [
      "\n"
     ]
    },
    {
     "name": "stdout",
     "output_type": "stream",
     "text": [
      "\n",
      "      Epoch    GPU_mem   box_loss   cls_loss   dfl_loss  Instances       Size\n"
     ]
    },
    {
     "name": "stderr",
     "output_type": "stream",
     "text": [
      "       8/50     0.872G     0.8266     0.6936      1.171          6        640: 100%|██████████| 447/447 [00:26<00:00, 16.84it/s]\n",
      "                 Class     Images  Instances      Box(P          R      mAP50  mAP50-95): 100%|██████████| 57/57 [00:02<00:00, 20.98it/s]"
     ]
    },
    {
     "name": "stdout",
     "output_type": "stream",
     "text": [
      "                   all        456        456      0.951       0.96      0.983       0.81\n"
     ]
    },
    {
     "name": "stderr",
     "output_type": "stream",
     "text": [
      "\n"
     ]
    },
    {
     "name": "stdout",
     "output_type": "stream",
     "text": [
      "\n",
      "      Epoch    GPU_mem   box_loss   cls_loss   dfl_loss  Instances       Size\n"
     ]
    },
    {
     "name": "stderr",
     "output_type": "stream",
     "text": [
      "       9/50     0.872G     0.7975      0.659      1.148         10        640: 100%|██████████| 447/447 [00:25<00:00, 17.23it/s]\n",
      "                 Class     Images  Instances      Box(P          R      mAP50  mAP50-95): 100%|██████████| 57/57 [00:02<00:00, 20.33it/s]"
     ]
    },
    {
     "name": "stdout",
     "output_type": "stream",
     "text": [
      "                   all        456        456       0.97      0.961      0.988      0.809\n"
     ]
    },
    {
     "name": "stderr",
     "output_type": "stream",
     "text": [
      "\n"
     ]
    },
    {
     "name": "stdout",
     "output_type": "stream",
     "text": [
      "\n",
      "      Epoch    GPU_mem   box_loss   cls_loss   dfl_loss  Instances       Size\n"
     ]
    },
    {
     "name": "stderr",
     "output_type": "stream",
     "text": [
      "      10/50     0.872G     0.7902     0.6452       1.15          9        640: 100%|██████████| 447/447 [00:30<00:00, 14.89it/s]\n",
      "                 Class     Images  Instances      Box(P          R      mAP50  mAP50-95): 100%|██████████| 57/57 [00:03<00:00, 17.31it/s]"
     ]
    },
    {
     "name": "stdout",
     "output_type": "stream",
     "text": [
      "                   all        456        456      0.955      0.949      0.986      0.819\n"
     ]
    },
    {
     "name": "stderr",
     "output_type": "stream",
     "text": [
      "\n"
     ]
    },
    {
     "name": "stdout",
     "output_type": "stream",
     "text": [
      "\n",
      "      Epoch    GPU_mem   box_loss   cls_loss   dfl_loss  Instances       Size\n"
     ]
    },
    {
     "name": "stderr",
     "output_type": "stream",
     "text": [
      "      11/50     0.851G     0.7671     0.6215      1.135          7        640: 100%|██████████| 447/447 [00:30<00:00, 14.52it/s]\n",
      "                 Class     Images  Instances      Box(P          R      mAP50  mAP50-95): 100%|██████████| 57/57 [00:03<00:00, 16.66it/s]\n"
     ]
    },
    {
     "name": "stdout",
     "output_type": "stream",
     "text": [
      "                   all        456        456      0.967       0.96      0.989      0.837\n",
      "\n",
      "      Epoch    GPU_mem   box_loss   cls_loss   dfl_loss  Instances       Size\n"
     ]
    },
    {
     "name": "stderr",
     "output_type": "stream",
     "text": [
      "      12/50     0.851G     0.7792     0.6114      1.143          7        640: 100%|██████████| 447/447 [00:27<00:00, 16.20it/s]\n",
      "                 Class     Images  Instances      Box(P          R      mAP50  mAP50-95): 100%|██████████| 57/57 [00:02<00:00, 20.37it/s]"
     ]
    },
    {
     "name": "stdout",
     "output_type": "stream",
     "text": [
      "                   all        456        456      0.973      0.969      0.986      0.834\n"
     ]
    },
    {
     "name": "stderr",
     "output_type": "stream",
     "text": [
      "\n"
     ]
    },
    {
     "name": "stdout",
     "output_type": "stream",
     "text": [
      "\n",
      "      Epoch    GPU_mem   box_loss   cls_loss   dfl_loss  Instances       Size\n"
     ]
    },
    {
     "name": "stderr",
     "output_type": "stream",
     "text": [
      "      13/50     0.851G      0.746     0.5834      1.121          9        640: 100%|██████████| 447/447 [00:27<00:00, 16.53it/s]\n",
      "                 Class     Images  Instances      Box(P          R      mAP50  mAP50-95): 100%|██████████| 57/57 [00:02<00:00, 20.46it/s]\n"
     ]
    },
    {
     "name": "stdout",
     "output_type": "stream",
     "text": [
      "                   all        456        456      0.971      0.956      0.989      0.828\n",
      "\n",
      "      Epoch    GPU_mem   box_loss   cls_loss   dfl_loss  Instances       Size\n"
     ]
    },
    {
     "name": "stderr",
     "output_type": "stream",
     "text": [
      "      14/50     0.851G     0.7554     0.5789      1.127          7        640: 100%|██████████| 447/447 [00:26<00:00, 16.68it/s]\n",
      "                 Class     Images  Instances      Box(P          R      mAP50  mAP50-95): 100%|██████████| 57/57 [00:02<00:00, 20.92it/s]"
     ]
    },
    {
     "name": "stdout",
     "output_type": "stream",
     "text": [
      "                   all        456        456      0.951      0.951      0.986      0.833\n"
     ]
    },
    {
     "name": "stderr",
     "output_type": "stream",
     "text": [
      "\n"
     ]
    },
    {
     "name": "stdout",
     "output_type": "stream",
     "text": [
      "\n",
      "      Epoch    GPU_mem   box_loss   cls_loss   dfl_loss  Instances       Size\n"
     ]
    },
    {
     "name": "stderr",
     "output_type": "stream",
     "text": [
      "      15/50     0.851G     0.7519     0.5846      1.128          8        640: 100%|██████████| 447/447 [00:26<00:00, 17.09it/s]\n",
      "                 Class     Images  Instances      Box(P          R      mAP50  mAP50-95): 100%|██████████| 57/57 [00:02<00:00, 20.17it/s]"
     ]
    },
    {
     "name": "stdout",
     "output_type": "stream",
     "text": [
      "                   all        456        456      0.973      0.947      0.989      0.834\n"
     ]
    },
    {
     "name": "stderr",
     "output_type": "stream",
     "text": [
      "\n"
     ]
    },
    {
     "name": "stdout",
     "output_type": "stream",
     "text": [
      "\n",
      "      Epoch    GPU_mem   box_loss   cls_loss   dfl_loss  Instances       Size\n"
     ]
    },
    {
     "name": "stderr",
     "output_type": "stream",
     "text": [
      "      16/50     0.851G     0.7435     0.5683      1.119          7        640: 100%|██████████| 447/447 [00:25<00:00, 17.44it/s]\n",
      "                 Class     Images  Instances      Box(P          R      mAP50  mAP50-95): 100%|██████████| 57/57 [00:02<00:00, 20.02it/s]"
     ]
    },
    {
     "name": "stdout",
     "output_type": "stream",
     "text": [
      "                   all        456        456      0.955      0.966      0.989      0.851\n"
     ]
    },
    {
     "name": "stderr",
     "output_type": "stream",
     "text": [
      "\n"
     ]
    },
    {
     "name": "stdout",
     "output_type": "stream",
     "text": [
      "\n",
      "      Epoch    GPU_mem   box_loss   cls_loss   dfl_loss  Instances       Size\n"
     ]
    },
    {
     "name": "stderr",
     "output_type": "stream",
     "text": [
      "      17/50     0.851G      0.701     0.5366      1.094          2        640: 100%|██████████| 447/447 [00:27<00:00, 16.22it/s]\n",
      "                 Class     Images  Instances      Box(P          R      mAP50  mAP50-95): 100%|██████████| 57/57 [00:02<00:00, 21.09it/s]"
     ]
    },
    {
     "name": "stdout",
     "output_type": "stream",
     "text": [
      "                   all        456        456      0.987      0.943      0.988      0.843\n"
     ]
    },
    {
     "name": "stderr",
     "output_type": "stream",
     "text": [
      "\n"
     ]
    },
    {
     "name": "stdout",
     "output_type": "stream",
     "text": [
      "\n",
      "      Epoch    GPU_mem   box_loss   cls_loss   dfl_loss  Instances       Size\n"
     ]
    },
    {
     "name": "stderr",
     "output_type": "stream",
     "text": [
      "      18/50     0.851G     0.7055     0.5219      1.096         12        640: 100%|██████████| 447/447 [00:25<00:00, 17.22it/s]\n",
      "                 Class     Images  Instances      Box(P          R      mAP50  mAP50-95): 100%|██████████| 57/57 [00:02<00:00, 21.33it/s]"
     ]
    },
    {
     "name": "stdout",
     "output_type": "stream",
     "text": [
      "                   all        456        456       0.97      0.967      0.993      0.849\n"
     ]
    },
    {
     "name": "stderr",
     "output_type": "stream",
     "text": [
      "\n"
     ]
    },
    {
     "name": "stdout",
     "output_type": "stream",
     "text": [
      "\n",
      "      Epoch    GPU_mem   box_loss   cls_loss   dfl_loss  Instances       Size\n"
     ]
    },
    {
     "name": "stderr",
     "output_type": "stream",
     "text": [
      "      19/50     0.851G     0.6911     0.5313      1.094         10        640: 100%|██████████| 447/447 [00:26<00:00, 16.84it/s]\n",
      "                 Class     Images  Instances      Box(P          R      mAP50  mAP50-95): 100%|██████████| 57/57 [00:03<00:00, 18.63it/s]"
     ]
    },
    {
     "name": "stdout",
     "output_type": "stream",
     "text": [
      "                   all        456        456      0.977      0.968      0.991      0.844\n"
     ]
    },
    {
     "name": "stderr",
     "output_type": "stream",
     "text": [
      "\n"
     ]
    },
    {
     "name": "stdout",
     "output_type": "stream",
     "text": [
      "\n",
      "      Epoch    GPU_mem   box_loss   cls_loss   dfl_loss  Instances       Size\n"
     ]
    },
    {
     "name": "stderr",
     "output_type": "stream",
     "text": [
      "      20/50     0.851G     0.6933     0.5121      1.083          7        640: 100%|██████████| 447/447 [00:29<00:00, 15.39it/s]\n",
      "                 Class     Images  Instances      Box(P          R      mAP50  mAP50-95): 100%|██████████| 57/57 [00:02<00:00, 20.62it/s]"
     ]
    },
    {
     "name": "stdout",
     "output_type": "stream",
     "text": [
      "                   all        456        456      0.978      0.969      0.991      0.841\n"
     ]
    },
    {
     "name": "stderr",
     "output_type": "stream",
     "text": [
      "\n"
     ]
    },
    {
     "name": "stdout",
     "output_type": "stream",
     "text": [
      "\n",
      "      Epoch    GPU_mem   box_loss   cls_loss   dfl_loss  Instances       Size\n"
     ]
    },
    {
     "name": "stderr",
     "output_type": "stream",
     "text": [
      "      21/50     0.851G     0.7041     0.5027      1.088          6        640: 100%|██████████| 447/447 [00:27<00:00, 16.46it/s]\n",
      "                 Class     Images  Instances      Box(P          R      mAP50  mAP50-95): 100%|██████████| 57/57 [00:02<00:00, 20.61it/s]"
     ]
    },
    {
     "name": "stdout",
     "output_type": "stream",
     "text": [
      "                   all        456        456      0.978      0.956      0.988      0.855\n"
     ]
    },
    {
     "name": "stderr",
     "output_type": "stream",
     "text": [
      "\n"
     ]
    },
    {
     "name": "stdout",
     "output_type": "stream",
     "text": [
      "\n",
      "      Epoch    GPU_mem   box_loss   cls_loss   dfl_loss  Instances       Size\n"
     ]
    },
    {
     "name": "stderr",
     "output_type": "stream",
     "text": [
      "      22/50     0.851G       0.69     0.4926      1.087          9        640: 100%|██████████| 447/447 [00:26<00:00, 16.86it/s]\n",
      "                 Class     Images  Instances      Box(P          R      mAP50  mAP50-95): 100%|██████████| 57/57 [00:02<00:00, 20.36it/s]"
     ]
    },
    {
     "name": "stdout",
     "output_type": "stream",
     "text": [
      "                   all        456        456      0.972      0.963       0.99      0.864\n"
     ]
    },
    {
     "name": "stderr",
     "output_type": "stream",
     "text": [
      "\n"
     ]
    },
    {
     "name": "stdout",
     "output_type": "stream",
     "text": [
      "\n",
      "      Epoch    GPU_mem   box_loss   cls_loss   dfl_loss  Instances       Size\n"
     ]
    },
    {
     "name": "stderr",
     "output_type": "stream",
     "text": [
      "      23/50     0.851G     0.6925     0.4946      1.085          9        640: 100%|██████████| 447/447 [00:26<00:00, 16.58it/s]\n",
      "                 Class     Images  Instances      Box(P          R      mAP50  mAP50-95): 100%|██████████| 57/57 [00:02<00:00, 20.26it/s]"
     ]
    },
    {
     "name": "stdout",
     "output_type": "stream",
     "text": [
      "                   all        456        456      0.969      0.978      0.993      0.859\n"
     ]
    },
    {
     "name": "stderr",
     "output_type": "stream",
     "text": [
      "\n"
     ]
    },
    {
     "name": "stdout",
     "output_type": "stream",
     "text": [
      "\n",
      "      Epoch    GPU_mem   box_loss   cls_loss   dfl_loss  Instances       Size\n"
     ]
    },
    {
     "name": "stderr",
     "output_type": "stream",
     "text": [
      "      24/50     0.851G     0.6803     0.5046      1.077          6        640: 100%|██████████| 447/447 [00:26<00:00, 17.06it/s]\n",
      "                 Class     Images  Instances      Box(P          R      mAP50  mAP50-95): 100%|██████████| 57/57 [00:02<00:00, 19.48it/s]"
     ]
    },
    {
     "name": "stdout",
     "output_type": "stream",
     "text": [
      "                   all        456        456      0.967      0.983      0.994      0.866\n"
     ]
    },
    {
     "name": "stderr",
     "output_type": "stream",
     "text": [
      "\n"
     ]
    },
    {
     "name": "stdout",
     "output_type": "stream",
     "text": [
      "\n",
      "      Epoch    GPU_mem   box_loss   cls_loss   dfl_loss  Instances       Size\n"
     ]
    },
    {
     "name": "stderr",
     "output_type": "stream",
     "text": [
      "      25/50     0.851G     0.6747     0.4807      1.076          5        640: 100%|██████████| 447/447 [00:26<00:00, 16.87it/s]\n",
      "                 Class     Images  Instances      Box(P          R      mAP50  mAP50-95): 100%|██████████| 57/57 [00:02<00:00, 20.79it/s]"
     ]
    },
    {
     "name": "stdout",
     "output_type": "stream",
     "text": [
      "                   all        456        456      0.968      0.967      0.992      0.867\n"
     ]
    },
    {
     "name": "stderr",
     "output_type": "stream",
     "text": [
      "\n"
     ]
    },
    {
     "name": "stdout",
     "output_type": "stream",
     "text": [
      "\n",
      "      Epoch    GPU_mem   box_loss   cls_loss   dfl_loss  Instances       Size\n"
     ]
    },
    {
     "name": "stderr",
     "output_type": "stream",
     "text": [
      "      26/50     0.851G      0.657      0.481      1.064          4        640: 100%|██████████| 447/447 [00:26<00:00, 17.01it/s]\n",
      "                 Class     Images  Instances      Box(P          R      mAP50  mAP50-95): 100%|██████████| 57/57 [00:02<00:00, 20.84it/s]"
     ]
    },
    {
     "name": "stdout",
     "output_type": "stream",
     "text": [
      "                   all        456        456      0.977      0.979      0.994      0.876\n"
     ]
    },
    {
     "name": "stderr",
     "output_type": "stream",
     "text": [
      "\n"
     ]
    },
    {
     "name": "stdout",
     "output_type": "stream",
     "text": [
      "\n",
      "      Epoch    GPU_mem   box_loss   cls_loss   dfl_loss  Instances       Size\n"
     ]
    },
    {
     "name": "stderr",
     "output_type": "stream",
     "text": [
      "      27/50     0.851G      0.683     0.4796       1.08          6        640: 100%|██████████| 447/447 [00:27<00:00, 16.38it/s]\n",
      "                 Class     Images  Instances      Box(P          R      mAP50  mAP50-95): 100%|██████████| 57/57 [00:02<00:00, 20.93it/s]\n"
     ]
    },
    {
     "name": "stdout",
     "output_type": "stream",
     "text": [
      "                   all        456        456      0.962       0.98       0.99      0.865\n",
      "\n",
      "      Epoch    GPU_mem   box_loss   cls_loss   dfl_loss  Instances       Size\n"
     ]
    },
    {
     "name": "stderr",
     "output_type": "stream",
     "text": [
      "      28/50     0.851G     0.6505     0.4643      1.069         12        640: 100%|██████████| 447/447 [00:28<00:00, 15.63it/s]\n",
      "                 Class     Images  Instances      Box(P          R      mAP50  mAP50-95): 100%|██████████| 57/57 [00:02<00:00, 19.92it/s]"
     ]
    },
    {
     "name": "stdout",
     "output_type": "stream",
     "text": [
      "                   all        456        456      0.975      0.972      0.993      0.872\n"
     ]
    },
    {
     "name": "stderr",
     "output_type": "stream",
     "text": [
      "\n"
     ]
    },
    {
     "name": "stdout",
     "output_type": "stream",
     "text": [
      "\n",
      "      Epoch    GPU_mem   box_loss   cls_loss   dfl_loss  Instances       Size\n"
     ]
    },
    {
     "name": "stderr",
     "output_type": "stream",
     "text": [
      "      29/50     0.851G     0.6466     0.4451      1.057         10        640: 100%|██████████| 447/447 [00:28<00:00, 15.54it/s]\n",
      "                 Class     Images  Instances      Box(P          R      mAP50  mAP50-95): 100%|██████████| 57/57 [00:02<00:00, 19.97it/s]"
     ]
    },
    {
     "name": "stdout",
     "output_type": "stream",
     "text": [
      "                   all        456        456      0.971      0.976      0.991      0.874\n"
     ]
    },
    {
     "name": "stderr",
     "output_type": "stream",
     "text": [
      "\n"
     ]
    },
    {
     "name": "stdout",
     "output_type": "stream",
     "text": [
      "\n",
      "      Epoch    GPU_mem   box_loss   cls_loss   dfl_loss  Instances       Size\n"
     ]
    },
    {
     "name": "stderr",
     "output_type": "stream",
     "text": [
      "      30/50     0.851G     0.6324     0.4441      1.064          8        640: 100%|██████████| 447/447 [00:27<00:00, 16.13it/s]\n",
      "                 Class     Images  Instances      Box(P          R      mAP50  mAP50-95): 100%|██████████| 57/57 [00:02<00:00, 21.26it/s]"
     ]
    },
    {
     "name": "stdout",
     "output_type": "stream",
     "text": [
      "                   all        456        456      0.966      0.978      0.993       0.88\n"
     ]
    },
    {
     "name": "stderr",
     "output_type": "stream",
     "text": [
      "\n"
     ]
    },
    {
     "name": "stdout",
     "output_type": "stream",
     "text": [
      "\n",
      "      Epoch    GPU_mem   box_loss   cls_loss   dfl_loss  Instances       Size\n"
     ]
    },
    {
     "name": "stderr",
     "output_type": "stream",
     "text": [
      "      31/50     0.851G     0.6416     0.4385      1.057          9        640: 100%|██████████| 447/447 [00:27<00:00, 16.46it/s]\n",
      "                 Class     Images  Instances      Box(P          R      mAP50  mAP50-95): 100%|██████████| 57/57 [00:02<00:00, 20.93it/s]"
     ]
    },
    {
     "name": "stdout",
     "output_type": "stream",
     "text": [
      "                   all        456        456      0.979      0.984      0.992      0.873\n"
     ]
    },
    {
     "name": "stderr",
     "output_type": "stream",
     "text": [
      "\n"
     ]
    },
    {
     "name": "stdout",
     "output_type": "stream",
     "text": [
      "\n",
      "      Epoch    GPU_mem   box_loss   cls_loss   dfl_loss  Instances       Size\n"
     ]
    },
    {
     "name": "stderr",
     "output_type": "stream",
     "text": [
      "      32/50     0.851G     0.6443     0.4509      1.067          7        640: 100%|██████████| 447/447 [00:26<00:00, 16.65it/s]\n",
      "                 Class     Images  Instances      Box(P          R      mAP50  mAP50-95): 100%|██████████| 57/57 [00:02<00:00, 20.93it/s]\n"
     ]
    },
    {
     "name": "stdout",
     "output_type": "stream",
     "text": [
      "                   all        456        456      0.966      0.979       0.99      0.869\n",
      "\n",
      "      Epoch    GPU_mem   box_loss   cls_loss   dfl_loss  Instances       Size\n"
     ]
    },
    {
     "name": "stderr",
     "output_type": "stream",
     "text": [
      "      33/50     0.851G     0.6302      0.423      1.053          9        640: 100%|██████████| 447/447 [00:26<00:00, 16.69it/s]\n",
      "                 Class     Images  Instances      Box(P          R      mAP50  mAP50-95): 100%|██████████| 57/57 [00:02<00:00, 20.75it/s]\n"
     ]
    },
    {
     "name": "stdout",
     "output_type": "stream",
     "text": [
      "                   all        456        456      0.978      0.973      0.988      0.857\n",
      "\n",
      "      Epoch    GPU_mem   box_loss   cls_loss   dfl_loss  Instances       Size\n"
     ]
    },
    {
     "name": "stderr",
     "output_type": "stream",
     "text": [
      "      34/50     0.851G     0.6385     0.4266      1.059          7        640: 100%|██████████| 447/447 [00:26<00:00, 16.76it/s]\n",
      "                 Class     Images  Instances      Box(P          R      mAP50  mAP50-95): 100%|██████████| 57/57 [00:02<00:00, 19.91it/s]"
     ]
    },
    {
     "name": "stdout",
     "output_type": "stream",
     "text": [
      "                   all        456        456       0.98      0.969       0.99      0.881\n"
     ]
    },
    {
     "name": "stderr",
     "output_type": "stream",
     "text": [
      "\n"
     ]
    },
    {
     "name": "stdout",
     "output_type": "stream",
     "text": [
      "\n",
      "      Epoch    GPU_mem   box_loss   cls_loss   dfl_loss  Instances       Size\n"
     ]
    },
    {
     "name": "stderr",
     "output_type": "stream",
     "text": [
      "      35/50     0.851G     0.6204     0.4186      1.045         10        640: 100%|██████████| 447/447 [00:28<00:00, 15.69it/s]\n",
      "                 Class     Images  Instances      Box(P          R      mAP50  mAP50-95): 100%|██████████| 57/57 [00:03<00:00, 18.71it/s]"
     ]
    },
    {
     "name": "stdout",
     "output_type": "stream",
     "text": [
      "                   all        456        456      0.979      0.968      0.992      0.885\n"
     ]
    },
    {
     "name": "stderr",
     "output_type": "stream",
     "text": [
      "\n"
     ]
    },
    {
     "name": "stdout",
     "output_type": "stream",
     "text": [
      "\n",
      "      Epoch    GPU_mem   box_loss   cls_loss   dfl_loss  Instances       Size\n"
     ]
    },
    {
     "name": "stderr",
     "output_type": "stream",
     "text": [
      "      36/50     0.851G      0.623     0.4262      1.057          3        640: 100%|██████████| 447/447 [00:28<00:00, 15.75it/s]\n",
      "                 Class     Images  Instances      Box(P          R      mAP50  mAP50-95): 100%|██████████| 57/57 [00:02<00:00, 19.87it/s]"
     ]
    },
    {
     "name": "stdout",
     "output_type": "stream",
     "text": [
      "                   all        456        456      0.965      0.984       0.99      0.876\n"
     ]
    },
    {
     "name": "stderr",
     "output_type": "stream",
     "text": [
      "\n"
     ]
    },
    {
     "name": "stdout",
     "output_type": "stream",
     "text": [
      "\n",
      "      Epoch    GPU_mem   box_loss   cls_loss   dfl_loss  Instances       Size\n"
     ]
    },
    {
     "name": "stderr",
     "output_type": "stream",
     "text": [
      "      37/50     0.851G     0.6064       0.41      1.039          7        640: 100%|██████████| 447/447 [00:28<00:00, 15.53it/s]\n",
      "                 Class     Images  Instances      Box(P          R      mAP50  mAP50-95): 100%|██████████| 57/57 [00:03<00:00, 18.65it/s]\n"
     ]
    },
    {
     "name": "stdout",
     "output_type": "stream",
     "text": [
      "                   all        456        456      0.978      0.979      0.993      0.883\n",
      "\n",
      "      Epoch    GPU_mem   box_loss   cls_loss   dfl_loss  Instances       Size\n"
     ]
    },
    {
     "name": "stderr",
     "output_type": "stream",
     "text": [
      "      38/50     0.851G     0.6282     0.4063      1.055          8        640: 100%|██████████| 447/447 [00:27<00:00, 16.36it/s]\n",
      "                 Class     Images  Instances      Box(P          R      mAP50  mAP50-95): 100%|██████████| 57/57 [00:02<00:00, 20.14it/s]"
     ]
    },
    {
     "name": "stdout",
     "output_type": "stream",
     "text": [
      "                   all        456        456      0.969       0.98      0.994       0.88\n"
     ]
    },
    {
     "name": "stderr",
     "output_type": "stream",
     "text": [
      "\n"
     ]
    },
    {
     "name": "stdout",
     "output_type": "stream",
     "text": [
      "\n",
      "      Epoch    GPU_mem   box_loss   cls_loss   dfl_loss  Instances       Size\n"
     ]
    },
    {
     "name": "stderr",
     "output_type": "stream",
     "text": [
      "      39/50     0.851G     0.5972     0.3873      1.032          8        640: 100%|██████████| 447/447 [00:26<00:00, 16.91it/s]\n",
      "                 Class     Images  Instances      Box(P          R      mAP50  mAP50-95): 100%|██████████| 57/57 [00:02<00:00, 20.51it/s]"
     ]
    },
    {
     "name": "stdout",
     "output_type": "stream",
     "text": [
      "                   all        456        456      0.982      0.977      0.991      0.878\n"
     ]
    },
    {
     "name": "stderr",
     "output_type": "stream",
     "text": [
      "\n"
     ]
    },
    {
     "name": "stdout",
     "output_type": "stream",
     "text": [
      "\n",
      "      Epoch    GPU_mem   box_loss   cls_loss   dfl_loss  Instances       Size\n"
     ]
    },
    {
     "name": "stderr",
     "output_type": "stream",
     "text": [
      "      40/50     0.851G     0.6112     0.3979      1.047          8        640: 100%|██████████| 447/447 [00:27<00:00, 16.12it/s]\n",
      "                 Class     Images  Instances      Box(P          R      mAP50  mAP50-95): 100%|██████████| 57/57 [00:02<00:00, 20.05it/s]\n"
     ]
    },
    {
     "name": "stdout",
     "output_type": "stream",
     "text": [
      "                   all        456        456      0.958      0.985       0.99      0.874\n",
      "Closing dataloader mosaic\n",
      "\n",
      "      Epoch    GPU_mem   box_loss   cls_loss   dfl_loss  Instances       Size\n"
     ]
    },
    {
     "name": "stderr",
     "output_type": "stream",
     "text": [
      "      41/50     0.849G     0.5241     0.3363     0.9754          4        640: 100%|██████████| 447/447 [00:24<00:00, 18.29it/s]\n",
      "                 Class     Images  Instances      Box(P          R      mAP50  mAP50-95): 100%|██████████| 57/57 [00:02<00:00, 21.84it/s]"
     ]
    },
    {
     "name": "stdout",
     "output_type": "stream",
     "text": [
      "                   all        456        456      0.964      0.983      0.991      0.878\n"
     ]
    },
    {
     "name": "stderr",
     "output_type": "stream",
     "text": [
      "\n"
     ]
    },
    {
     "name": "stdout",
     "output_type": "stream",
     "text": [
      "\n",
      "      Epoch    GPU_mem   box_loss   cls_loss   dfl_loss  Instances       Size\n"
     ]
    },
    {
     "name": "stderr",
     "output_type": "stream",
     "text": [
      "      42/50     0.849G     0.5139     0.3222     0.9643          4        640: 100%|██████████| 447/447 [00:25<00:00, 17.77it/s]\n",
      "                 Class     Images  Instances      Box(P          R      mAP50  mAP50-95): 100%|██████████| 57/57 [00:02<00:00, 21.20it/s]"
     ]
    },
    {
     "name": "stdout",
     "output_type": "stream",
     "text": [
      "                   all        456        456      0.982      0.973      0.992      0.881\n"
     ]
    },
    {
     "name": "stderr",
     "output_type": "stream",
     "text": [
      "\n"
     ]
    },
    {
     "name": "stdout",
     "output_type": "stream",
     "text": [
      "\n",
      "      Epoch    GPU_mem   box_loss   cls_loss   dfl_loss  Instances       Size\n"
     ]
    },
    {
     "name": "stderr",
     "output_type": "stream",
     "text": [
      "      43/50     0.849G     0.5127     0.3047       0.96          4        640: 100%|██████████| 447/447 [00:25<00:00, 17.30it/s]\n",
      "                 Class     Images  Instances      Box(P          R      mAP50  mAP50-95): 100%|██████████| 57/57 [00:02<00:00, 20.81it/s]"
     ]
    },
    {
     "name": "stdout",
     "output_type": "stream",
     "text": [
      "                   all        456        456      0.986      0.968      0.992      0.889\n"
     ]
    },
    {
     "name": "stderr",
     "output_type": "stream",
     "text": [
      "\n"
     ]
    },
    {
     "name": "stdout",
     "output_type": "stream",
     "text": [
      "\n",
      "      Epoch    GPU_mem   box_loss   cls_loss   dfl_loss  Instances       Size\n"
     ]
    },
    {
     "name": "stderr",
     "output_type": "stream",
     "text": [
      "      44/50     0.849G     0.4998     0.2928      0.964          4        640: 100%|██████████| 447/447 [00:27<00:00, 16.49it/s]\n",
      "                 Class     Images  Instances      Box(P          R      mAP50  mAP50-95): 100%|██████████| 57/57 [00:02<00:00, 20.40it/s]"
     ]
    },
    {
     "name": "stdout",
     "output_type": "stream",
     "text": [
      "                   all        456        456       0.96      0.981      0.989      0.887\n"
     ]
    },
    {
     "name": "stderr",
     "output_type": "stream",
     "text": [
      "\n"
     ]
    },
    {
     "name": "stdout",
     "output_type": "stream",
     "text": [
      "\n",
      "      Epoch    GPU_mem   box_loss   cls_loss   dfl_loss  Instances       Size\n"
     ]
    },
    {
     "name": "stderr",
     "output_type": "stream",
     "text": [
      "      45/50     0.849G     0.4922     0.2857     0.9613          4        640: 100%|██████████| 447/447 [00:26<00:00, 16.78it/s]\n",
      "                 Class     Images  Instances      Box(P          R      mAP50  mAP50-95): 100%|██████████| 57/57 [00:02<00:00, 20.80it/s]"
     ]
    },
    {
     "name": "stdout",
     "output_type": "stream",
     "text": [
      "                   all        456        456       0.98      0.981      0.991      0.887\n"
     ]
    },
    {
     "name": "stderr",
     "output_type": "stream",
     "text": [
      "\n"
     ]
    },
    {
     "name": "stdout",
     "output_type": "stream",
     "text": [
      "\n",
      "      Epoch    GPU_mem   box_loss   cls_loss   dfl_loss  Instances       Size\n"
     ]
    },
    {
     "name": "stderr",
     "output_type": "stream",
     "text": [
      "      46/50     0.849G     0.4871     0.2769      0.947          4        640: 100%|██████████| 447/447 [00:26<00:00, 16.69it/s]\n",
      "                 Class     Images  Instances      Box(P          R      mAP50  mAP50-95): 100%|██████████| 57/57 [00:02<00:00, 20.69it/s]"
     ]
    },
    {
     "name": "stdout",
     "output_type": "stream",
     "text": [
      "                   all        456        456      0.973      0.984       0.99      0.886\n"
     ]
    },
    {
     "name": "stderr",
     "output_type": "stream",
     "text": [
      "\n"
     ]
    },
    {
     "name": "stdout",
     "output_type": "stream",
     "text": [
      "\n",
      "      Epoch    GPU_mem   box_loss   cls_loss   dfl_loss  Instances       Size\n"
     ]
    },
    {
     "name": "stderr",
     "output_type": "stream",
     "text": [
      "      47/50     0.849G     0.4857      0.271     0.9496          4        640: 100%|██████████| 447/447 [00:26<00:00, 17.07it/s]\n",
      "                 Class     Images  Instances      Box(P          R      mAP50  mAP50-95): 100%|██████████| 57/57 [00:02<00:00, 19.26it/s]"
     ]
    },
    {
     "name": "stdout",
     "output_type": "stream",
     "text": [
      "                   all        456        456       0.98      0.964      0.989      0.885\n"
     ]
    },
    {
     "name": "stderr",
     "output_type": "stream",
     "text": [
      "\n"
     ]
    },
    {
     "name": "stdout",
     "output_type": "stream",
     "text": [
      "\n",
      "      Epoch    GPU_mem   box_loss   cls_loss   dfl_loss  Instances       Size\n"
     ]
    },
    {
     "name": "stderr",
     "output_type": "stream",
     "text": [
      "      48/50     0.849G     0.4859     0.2716     0.9485          4        640: 100%|██████████| 447/447 [00:26<00:00, 16.99it/s]\n",
      "                 Class     Images  Instances      Box(P          R      mAP50  mAP50-95): 100%|██████████| 57/57 [00:02<00:00, 21.13it/s]"
     ]
    },
    {
     "name": "stdout",
     "output_type": "stream",
     "text": [
      "                   all        456        456      0.976      0.978       0.99      0.892\n"
     ]
    },
    {
     "name": "stderr",
     "output_type": "stream",
     "text": [
      "\n"
     ]
    },
    {
     "name": "stdout",
     "output_type": "stream",
     "text": [
      "\n",
      "      Epoch    GPU_mem   box_loss   cls_loss   dfl_loss  Instances       Size\n"
     ]
    },
    {
     "name": "stderr",
     "output_type": "stream",
     "text": [
      "      49/50     0.851G      0.474     0.2612      0.939          4        640: 100%|██████████| 447/447 [00:25<00:00, 17.32it/s]\n",
      "                 Class     Images  Instances      Box(P          R      mAP50  mAP50-95): 100%|██████████| 57/57 [00:02<00:00, 20.57it/s]"
     ]
    },
    {
     "name": "stdout",
     "output_type": "stream",
     "text": [
      "                   all        456        456      0.981      0.976       0.99      0.886\n"
     ]
    },
    {
     "name": "stderr",
     "output_type": "stream",
     "text": [
      "\n"
     ]
    },
    {
     "name": "stdout",
     "output_type": "stream",
     "text": [
      "\n",
      "      Epoch    GPU_mem   box_loss   cls_loss   dfl_loss  Instances       Size\n"
     ]
    },
    {
     "name": "stderr",
     "output_type": "stream",
     "text": [
      "      50/50     0.849G     0.4667     0.2554     0.9428          4        640: 100%|██████████| 447/447 [00:29<00:00, 15.39it/s]\n",
      "                 Class     Images  Instances      Box(P          R      mAP50  mAP50-95): 100%|██████████| 57/57 [00:03<00:00, 18.64it/s]"
     ]
    },
    {
     "name": "stdout",
     "output_type": "stream",
     "text": [
      "                   all        456        456       0.98       0.98       0.99      0.889\n"
     ]
    },
    {
     "name": "stderr",
     "output_type": "stream",
     "text": [
      "\n"
     ]
    },
    {
     "name": "stdout",
     "output_type": "stream",
     "text": [
      "\n",
      "50 epochs completed in 0.426 hours.\n",
      "Optimizer stripped from C:\\Users\\richa_0\\Documents\\Coral Research\\Machine Learning Models\\2612.yolov8\\results\\50_epochs-5\\weights\\last.pt, 6.3MB\n",
      "Optimizer stripped from C:\\Users\\richa_0\\Documents\\Coral Research\\Machine Learning Models\\2612.yolov8\\results\\50_epochs-5\\weights\\best.pt, 6.3MB\n",
      "\n",
      "Validating C:\\Users\\richa_0\\Documents\\Coral Research\\Machine Learning Models\\2612.yolov8\\results\\50_epochs-5\\weights\\best.pt...\n",
      "Ultralytics YOLOv8.2.91  Python-3.12.4 torch-2.3.1+cu118 CUDA:0 (NVIDIA GeForce RTX 3070 Ti Laptop GPU, 8192MiB)\n",
      "Model summary (fused): 168 layers, 3,006,038 parameters, 0 gradients, 8.1 GFLOPs\n"
     ]
    },
    {
     "name": "stderr",
     "output_type": "stream",
     "text": [
      "                 Class     Images  Instances      Box(P          R      mAP50  mAP50-95): 100%|██████████| 57/57 [00:02<00:00, 20.23it/s]\n"
     ]
    },
    {
     "name": "stdout",
     "output_type": "stream",
     "text": [
      "                   all        456        456      0.976      0.979       0.99      0.893\n",
      "        early-recruits        258        258      0.988      0.962      0.986      0.852\n",
      "         late-recruits        198        198      0.963      0.995      0.994      0.934\n",
      "Speed: 0.2ms preprocess, 1.5ms inference, 0.0ms loss, 1.1ms postprocess per image\n",
      "Results saved to \u001b[1mC:\\Users\\richa_0\\Documents\\Coral Research\\Machine Learning Models\\2612.yolov8\\results\\50_epochs-5\u001b[0m\n"
     ]
    }
   ],
   "source": [
    "results = model.train(data=r\"C:\\Users\\richa_0\\Documents\\Coral Research\\Machine Learning Models\\2612.yolov8\\data.yaml\",\n",
    "                      project=project,\n",
    "                      name=name,\n",
    "                      epochs=50,\n",
    "                      patience=0, #I am setting patience=0 to disable early stopping.\n",
    "                      batch=4,\n",
    "                      imgsz=640)"
   ]
  },
  {
   "cell_type": "markdown",
   "metadata": {},
   "source": [
    "## Define Methods"
   ]
  },
  {
   "cell_type": "code",
   "execution_count": 31,
   "metadata": {},
   "outputs": [],
   "source": [
    "def show_mask(mask, ax, random_color=False):\n",
    "    if random_color:\n",
    "        color = np.concatenate([np.random.random(3), np.array([0.6])], axis=0)\n",
    "    else:\n",
    "        color = np.array([30/255, 144/255, 255/255, 0.2]) #0.6\n",
    "    h, w = mask.shape[-2:]\n",
    "    mask_image = mask.reshape(h, w, 1) * color.reshape(1, 1, -1)\n",
    "    ax.imshow(mask_image)\n",
    "\n",
    "def show_points(coords, labels, ax, marker_size=375): #Extra method for the SAM inputs that we don't use\n",
    "    pos_points = coords[labels==1]\n",
    "    neg_points = coords[labels==0]\n",
    "    ax.scatter(pos_points[:, 0], pos_points[:, 1], color='green', marker='*', s=marker_size, edgecolor='white', linewidth=1.25)\n",
    "    ax.scatter(neg_points[:, 0], neg_points[:, 1], color='red', marker='*', s=marker_size, edgecolor='white', linewidth=1.25)\n",
    "\n",
    "def show_box(box, ax): #For debugging purposes to check if YOLO V8 is working\n",
    "    x0, y0 = box[0], box[1]\n",
    "    w, h = box[2] - box[0], box[3] - box[1]\n",
    "    rect = plt.Rectangle((x0, y0), w, h, edgecolor='green', facecolor=(0,0,0,0), lw=2)\n",
    "    ax.add_patch(rect)\n",
    "\n",
    "def show_polygon(polygons, ax):\n",
    "    formatted_polygons = [np.array(polygon).reshape(-1, 2) for polygon in polygons]\n",
    "    for polygon in formatted_polygons:\n",
    "        polygon_patch = patches.Polygon(polygon, closed=True, edgecolor='red', facecolor=(0,0,0,0), lw=2)\n",
    "        ax.add_patch(polygon_patch)\n",
    "\n",
    "def show_ground_truth(area, ax):\n",
    "    ax.text(50, 50, str(area) + \" µm\", color='white', fontsize=16, backgroundcolor='black')\n",
    "\n",
    "def get_area(mask): #Prints the mask onto the image in a blue color\n",
    "    true_count = np.count_nonzero(mask)\n",
    "    return true_count\n",
    "\n",
    "def mask_to_polygon(mask):\n",
    "    # Convert mask to binary if it is not already\n",
    "    if mask.max() > 1:\n",
    "        _, binary_mask = cv2.threshold(mask, 127, 255, cv2.THRESH_BINARY)\n",
    "    else:\n",
    "        binary_mask = (mask * 255).astype(np.uint8)\n",
    "\n",
    "    # Find contours\n",
    "    contours, _ = cv2.findContours(binary_mask, cv2.RETR_EXTERNAL, cv2.CHAIN_APPROX_SIMPLE)\n",
    "\n",
    "    polygons = []\n",
    "    for contour in contours:\n",
    "        # Simplify the contour to reduce the number of points\n",
    "        epsilon = 0.001 * cv2.arcLength(contour, True)\n",
    "        approx = cv2.approxPolyDP(contour, epsilon, True)\n",
    "\n",
    "        # Extract points and flatten the list\n",
    "        polygon = approx.reshape(-1, 2).tolist()\n",
    "        flat_polygon = [point for sublist in polygon for point in sublist]\n",
    "        polygons.append(flat_polygon)\n",
    "\n",
    "    return polygons\n",
    "\n",
    "def get_physical_tag(image): #Gets the physical conversion ratios through a library\n",
    "    physical_size_x = 1\n",
    "    physical_size_y = 1\n",
    "    exifdata = image.getexif()\n",
    "    for tagid in exifdata:\n",
    "        tagname = TAGS.get(tagid, tagid)\n",
    "        if tagname == \"ImageDescription\":\n",
    "            try:\n",
    "                value = exifdata.get(tagid)\n",
    "                start_index_x = value.find('PhysicalSizeX=\"') + len('PhysicalSizeX=\"')\n",
    "                end_index_x = value.find('\"', start_index_x)\n",
    "                physical_size_x = value[start_index_x:end_index_x]\n",
    "                start_index_x_unit = value.find('PhysicalSizeXUnit=\"') + len('PhysicalSizeXUnit=\"')\n",
    "                end_index_x_unit = value.find('\"', start_index_x_unit)\n",
    "                physical_size_x_unit = value[start_index_x_unit:end_index_x_unit]\n",
    "                start_index_y = value.find('PhysicalSizeY=\"') + len('PhysicalSizeY=\"')\n",
    "                end_index_y = value.find('\"', start_index_y)\n",
    "                physical_size_y = value[start_index_y:end_index_y]\n",
    "                start_index_y_unit = value.find('PhysicalSizeYUnit=\"') + len('PhysicalSizeYUnit=\"')\n",
    "                end_index_y_unit = value.find('\"', start_index_y_unit)\n",
    "                physical_size_y_unit = value[start_index_y_unit:end_index_y_unit]\n",
    "            except Exception as e:\n",
    "                print(f'Failed to process {image}: {e}')\n",
    "                continue\n",
    "    return float(physical_size_x), float(physical_size_y)\n",
    "\n",
    "def get_physical(image_path):\n",
    "    physical_size_x = 1\n",
    "    physical_size_y = 1\n",
    "    try:\n",
    "        # Retrieve metadata\n",
    "        metadata = iio.immeta(image_path)\n",
    "\n",
    "        # Debugging output to understand metadata structure\n",
    "        print(f\"Metadata for {image_path}: {metadata}\")\n",
    "\n",
    "        # Ensure the 'pixelsizex' and 'pixelsizey' keys are present in the metadata\n",
    "        physical_size_x = metadata.get('pixelsizex', 'N/A')\n",
    "        physical_size_y = metadata.get('pixelsizey', 'N/A')\n",
    "\n",
    "        # Check if the physical sizes are retrieved correctly\n",
    "        if physical_size_x == 'N/A' or physical_size_y == 'N/A':\n",
    "            physical_size_x = 1\n",
    "            physical_size_y = 1\n",
    "        else :\n",
    "            physical_size_x = float(physical_size_x) * 10**6\n",
    "            physical_size_y = float(physical_size_y) * 10**6\n",
    "            \n",
    "    except Exception as e:\n",
    "        print(f'Failed to retrieve metadata from {image_path}: {e}')\n",
    "\n",
    "    return physical_size_x, physical_size_y\n",
    "\n",
    "def create_coco_json(images_data, annotations, categories, output_file): #Creates a COCO.json file that allows user to edit annotations else where\n",
    "    coco_json = {\n",
    "        \"info\": {\n",
    "            \"description\": \"Coral Areas\",\n",
    "            \"url\": \"https://drive.google.com/drive/folders/1I2PxS79XVj3VTLM-lKzeGh2WqyUNf9IB?usp=sharing\",\n",
    "            \"version\": \"1.0\",\n",
    "            \"year\": 2024,\n",
    "            \"contributor\": \"Richard Zhao, Eric Su, Simon Zhao, Tracy Chen\",\n",
    "            \"date_created\": \"2024-07-25\"\n",
    "        },\n",
    "        \"licenses\": [\n",
    "            {\n",
    "                \"id\": 1,\n",
    "                \"name\": \"Attribution-NonCommercial-ShareAlike License\",\n",
    "                \"url\": \"http://creativecommons.org/licenses/by-nc-sa/2.0/\"\n",
    "            }\n",
    "        ],\n",
    "        \"images\": [],\n",
    "        \"annotations\": [],\n",
    "        \"categories\": categories\n",
    "    }\n",
    "\n",
    "    for image in images_data:\n",
    "        image_info = {\n",
    "            \"id\": image[\"id\"],\n",
    "            \"license\": image[\"license\"],\n",
    "            \"file_name\": image[\"file_name\"],\n",
    "            \"width\": image[\"width\"],\n",
    "            \"height\": image[\"height\"],\n",
    "            \"date_captured\": image[\"date_captured\"]\n",
    "        }\n",
    "        coco_json[\"images\"].append(image_info)\n",
    "\n",
    "    for annotation in annotations:\n",
    "        annotation_info = {\n",
    "            \"id\": annotation[\"id\"],\n",
    "            \"image_id\": annotation[\"image_id\"],\n",
    "            \"category_id\": annotation[\"category_id\"],\n",
    "            \"bbox\": annotation[\"bbox\"],\n",
    "            \"area\": annotation[\"area\"],\n",
    "            \"segmentation\": annotation[\"segmentation\"],\n",
    "            \"iscrowd\": annotation[\"iscrowd\"]\n",
    "        }\n",
    "        coco_json[\"annotations\"].append(annotation_info)\n",
    "\n",
    "    with open(output_file, 'w') as f:\n",
    "        json.dump(coco_json, f, indent=4)"
   ]
  },
  {
   "cell_type": "code",
   "execution_count": 1,
   "metadata": {},
   "outputs": [],
   "source": [
    "def execute_block1(image_path): #Opens the image and returns the bounding box\n",
    "    image = Image.open(image_path)\n",
    "    image_np = np.array(image)\n",
    "    height, width, channels = image_np.shape\n",
    "    model = YOLO(\"C:/Users/richa_0/Documents/Coral Research/Machine Learning Models/1811.yolov8/results/50_epochs-/weights/best.pt\")\n",
    "    results = model.predict(image, verbose=False)\n",
    "    for result in results:\n",
    "        boxes = result.boxes\n",
    "    if boxes.xyxy.tolist():\n",
    "        bbox = boxes.xyxy.tolist()[0]\n",
    "    else:\n",
    "        bbox = [0, width, 0, height]\n",
    "    return image, bbox\n",
    "\n",
    "def execute_block2(image, bbox): #Gets the mask using the image and the bounding box\n",
    "    predictor = SamPredictor(sam)\n",
    "    predictor.set_image(np.array(image))\n",
    "    input_box = np.array(bbox)\n",
    "    input_point = np.array([[(bbox[0] + bbox[2]) / 2, (bbox[1] + bbox[3]) / 2]])\n",
    "    input_label = np.array([1])\n",
    "    masks, _, _ = predictor.predict(\n",
    "        point_coords=input_point,\n",
    "        point_labels=input_label,\n",
    "        box=input_box[None, :],\n",
    "        multimask_output=False,\n",
    "    )\n",
    "    return masks\n",
    "\n",
    "def execute_block3(image, bbox, masks, annotated_path, index, image_path): #Saves the images into the defined path, and gets the amount of pixels in the mask\n",
    "    pixels = get_area(masks[0])\n",
    "    pixel_size_x, pixel_size_y = get_physical(image_path)\n",
    "    if (pixel_size_x == 1):\n",
    "        pixel_size_x, pixel_size_y = get_physical_tag(image)\n",
    "    area = pixel_size_x * pixel_size_y * pixels\n",
    "    segmentation = mask_to_polygon(masks[0])\n",
    "    image_file = os.path.basename(annotated_path)\n",
    "    input_box = np.array(bbox)\n",
    "    image_np = np.array(image)\n",
    "    height, width, channels = image_np.shape\n",
    "    scale_factor = 100\n",
    "    fig, ax = plt.subplots(figsize=(width / scale_factor, height / scale_factor))\n",
    "    ax.set_position([0, 0, 1, 1])\n",
    "    ax.set_axis_off()\n",
    "    ax.imshow(image, aspect='auto')\n",
    "    show_mask(masks[0], ax) #for debbuging purposes\n",
    "    show_box(input_box, ax) #for debbuging purposes\n",
    "    show_polygon(segmentation, ax)\n",
    "    show_ground_truth(area, ax)\n",
    "    fig.savefig(annotated_path, dpi=100)\n",
    "    plt.close(fig)\n",
    "\n",
    "    image_info = {\n",
    "        \"id\": index,\n",
    "        \"license\": 1,\n",
    "        \"file_name\": image_file,\n",
    "        \"height\": height,\n",
    "        \"width\": width,\n",
    "        \"date_captured\": datetime.datetime.now().isoformat()\n",
    "    }\n",
    "    annotation_info = {\n",
    "        \"id\": index,\n",
    "        \"image_id\": index,\n",
    "        \"category_id\": 1,\n",
    "        \"bbox\": bbox,\n",
    "        \"area\": pixels,\n",
    "        \"segmentation\": segmentation,\n",
    "        \"iscrowd\": 0\n",
    "    }\n",
    "\n",
    "    return pixels, image_info, annotation_info, area, pixel_size_x, pixel_size_y"
   ]
  },
  {
   "cell_type": "markdown",
   "metadata": {},
   "source": [
    "## Define Important Variables"
   ]
  },
  {
   "cell_type": "code",
   "execution_count": 29,
   "metadata": {},
   "outputs": [],
   "source": [
    "folder_read_paths = [\n",
    "    \"C:/Users/richa_0/Documents/Coral Research/Images/Original_Raw_10-Blue_TIF/\"\n",
    "    #\"/content/gdrive/MyDrive/Coral Area Generator V1 Folder/1-100/\",\n",
    "    #\"/content/gdrive/MyDrive/Coral Area Generator V1 Folder/101-200/\",\n",
    "    #\"/content/gdrive/MyDrive/Coral Area Generator V1 Folder/201-300/\",\n",
    "    #\"/content/gdrive/MyDrive/Coral Area Generator V1 Folder/301-400/\",\n",
    "    #\"/content/gdrive/MyDrive/Coral Area Generator V1 Folder/401-500/\",\n",
    "    #\"/content/gdrive/MyDrive/Coral Area Generator V1 Folder/501-600/\",\n",
    "    #\"/content/gdrive/MyDrive/Coral Area Generator V1 Folder/601-700/\",\n",
    "    #\"/content/gdrive/MyDrive/Coral Area Generator V1 Folder/701-783/\"\n",
    "]\n",
    "folder_write_path = \"C:/Users/richa_0/Documents/Coral Research/Code Output/\"\n",
    "csv_path = folder_write_path + \"coral_areas_output.csv\"\n",
    "columns = [\"Folder\", \"Image Name\", \"Pixel Area\", \"Pixel Size X\", \"Pixel Size Y\", \"µm^2\"]"
   ]
  },
  {
   "cell_type": "markdown",
   "metadata": {},
   "source": [
    "## Run Area Generator"
   ]
  },
  {
   "cell_type": "code",
   "execution_count": 32,
   "metadata": {
    "scrolled": true
   },
   "outputs": [
    {
     "name": "stdout",
     "output_type": "stream",
     "text": [
      "Metadata for C:/Users/richa_0/Documents/Coral Research/Images/Original_Raw_10-Blue_TIF/CAB-T21-PSTR-002-E.tif: {'is_fluoview': False, 'is_nih': False, 'is_micromanager': False, 'is_ome': True, 'is_lsm': False, 'is_reduced': False, 'is_sgi': False, 'is_shaped': None, 'is_stk': False, 'is_tiled': False, 'is_mdgel': False, 'compression': <COMPRESSION.NONE: 1>, 'predictor': 1, 'is_mediacy': False, 'description': '<?xml version=\"1.0\" encoding=\"UTF-8\" standalone=\"yes\"?>\\r\\n<OME xmlns=\"http://www.openmicroscopy.org/Schemas/OME/2015-01\" xmlns:OME=\"http://www.openmicroscopy.org/Schemas/OME/2015-01\" xmlns:ROI=\"http://www.openmicroscopy.org/Schemas/ROI/2015-01\" xmlns:BIN=\"http://www.openmicroscopy.org/Schemas/BinaryFile/2015-01\" xmlns:SA=\"http://www.openmicroscopy.org/Schemas/SA/2015-01\" xmlns:xsi=\"http://www.w3.org/2001/XMLSchema-instance\" xsi:schemaLocation=\"http://www.openmicroscopy.org/Schemas/OME/2015-01 http://www.openmicroscopy.org/Schemas/OME/2015-01/ome.xsd\" Creator=\"Nova Southeastern University, XV (1.18)\">\\r\\n\\t<OME:Experimenter ID=\"Experimenter:0\" UserName=\"la1332\"/>\\r\\n\\t<OME:Instrument ID=\"Instrument:0\">\\r\\n\\t\\t<OME:Microscope Model=\"Manual Stereo Microscope\"/>\\r\\n\\t\\t<OME:Detector Manufacturer=\"Olympus\" Model=\"LC20\" Gain=\"0\" Offset=\"0\" Zoom=\"1\" ID=\"Detector:0\"/>\\r\\n\\t\\t<OME:Objective Manufacturer=\"Olympus\" Model=\"Manual Nosepiece\" LensNA=\"0.11\" NominalMagnification=\"1\" CalibratedMagnification=\"0.53486875529212519\" WorkingDistance=\"74000\" WorkingDistanceUnit=\"µm\" ID=\"Objective:0\"/>\\r\\n\\t</OME:Instrument>\\r\\n\\t<OME:Image ID=\"Image:0\" Name=\"Layer 1\">\\r\\n\\t\\t<OME:AcquisitionDate>2024-02-14T15:13:39Z</OME:AcquisitionDate>\\r\\n\\t\\t<OME:ExperimenterRef ID=\"Experimenter:0\"/>\\r\\n\\t\\t<OME:InstrumentRef ID=\"Instrument:0\"/>\\r\\n\\t\\t<OME:ObjectiveSettings ID=\"Objective:0\" Medium=\"Air\" RefractiveIndex=\"1.0003\"/>\\r\\n\\t\\t<OME:Pixels ID=\"Pixels:0\" DimensionOrder=\"XYCZT\" Type=\"uint8\" SignificantBits=\"8\" Interleaved=\"true\" SizeX=\"1600\" SizeY=\"1200\" SizeC=\"3\" SizeZ=\"1\" SizeT=\"1\" PhysicalSizeX=\"5.2349290780141846\" PhysicalSizeXUnit=\"µm\" PhysicalSizeY=\"5.2349290780141864\" PhysicalSizeYUnit=\"µm\">\\r\\n\\t\\t\\t<OME:Channel ID=\"Channel:0\" SamplesPerPixel=\"3\">\\r\\n\\t\\t\\t\\t<DetectorSettings ID=\"Detector:0\" Binning=\"1x1\"/>\\r\\n\\t\\t\\t</OME:Channel>\\r\\n\\t\\t\\t<OME:TiffData IFD=\"0\" FirstZ=\"0\" FirstT=\"0\" FirstC=\"0\" PlaneCount=\"1\"/>\\r\\n\\t\\t\\t<OME:Plane TheZ=\"0\" TheT=\"0\" TheC=\"0\" ExposureTime=\"69.978484999999992\" ExposureTimeUnit=\"ms\"/>\\r\\n\\t\\t</OME:Pixels>\\r\\n\\t</OME:Image>\\r\\n\\t<SA:StructuredAnnotations/>\\r\\n</OME>', 'description1': '', 'is_imagej': None, 'software': ''}\n",
      "Folder: Original_Raw_10-Blue_TIF\n",
      "Image Name: CAB-T21-PSTR-002-E.tif\n",
      "Bounding Box: [384.2858581542969, 190.16265869140625, 1440.02587890625, 1056.8309326171875]\n",
      "Pixels: 624156\n",
      "Pixel Size X: 2.1968005952380953\n",
      "Pixel Size Y: 2.1968005952380953\n",
      "Area: 17104672.149209682 µm^2\n",
      "\n",
      "Metadata for C:/Users/richa_0/Documents/Coral Research/Images/Original_Raw_10-Blue_TIF/CAB-T21-PSTR-007-A.tif: {'is_fluoview': False, 'is_nih': False, 'is_micromanager': False, 'is_ome': True, 'is_lsm': False, 'is_reduced': False, 'is_sgi': False, 'is_shaped': None, 'is_stk': False, 'is_tiled': False, 'is_mdgel': False, 'compression': <COMPRESSION.NONE: 1>, 'predictor': 1, 'is_mediacy': False, 'description': '<?xml version=\"1.0\" encoding=\"UTF-8\" standalone=\"yes\"?>\\r\\n<OME xmlns=\"http://www.openmicroscopy.org/Schemas/OME/2015-01\" xmlns:OME=\"http://www.openmicroscopy.org/Schemas/OME/2015-01\" xmlns:ROI=\"http://www.openmicroscopy.org/Schemas/ROI/2015-01\" xmlns:BIN=\"http://www.openmicroscopy.org/Schemas/BinaryFile/2015-01\" xmlns:SA=\"http://www.openmicroscopy.org/Schemas/SA/2015-01\" xmlns:xsi=\"http://www.w3.org/2001/XMLSchema-instance\" xsi:schemaLocation=\"http://www.openmicroscopy.org/Schemas/OME/2015-01 http://www.openmicroscopy.org/Schemas/OME/2015-01/ome.xsd\" Creator=\"Nova Southeastern University, XV (1.18)\">\\r\\n\\t<OME:Experimenter ID=\"Experimenter:0\" UserName=\"la1332\"/>\\r\\n\\t<OME:Instrument ID=\"Instrument:0\">\\r\\n\\t\\t<OME:Microscope Model=\"Manual Stereo Microscope\"/>\\r\\n\\t\\t<OME:Detector Manufacturer=\"Olympus\" Model=\"LC20\" Gain=\"0\" Offset=\"0\" Zoom=\"1\" ID=\"Detector:0\"/>\\r\\n\\t\\t<OME:Objective Manufacturer=\"Olympus\" Model=\"Manual Nosepiece\" LensNA=\"0.11\" NominalMagnification=\"1\" CalibratedMagnification=\"0.53486875529212519\" WorkingDistance=\"74000\" WorkingDistanceUnit=\"µm\" ID=\"Objective:0\"/>\\r\\n\\t</OME:Instrument>\\r\\n\\t<OME:Image ID=\"Image:0\" Name=\"Layer 1\">\\r\\n\\t\\t<OME:AcquisitionDate>2024-02-14T14:55:50Z</OME:AcquisitionDate>\\r\\n\\t\\t<OME:ExperimenterRef ID=\"Experimenter:0\"/>\\r\\n\\t\\t<OME:InstrumentRef ID=\"Instrument:0\"/>\\r\\n\\t\\t<OME:ObjectiveSettings ID=\"Objective:0\" Medium=\"Air\" RefractiveIndex=\"1.0003\"/>\\r\\n\\t\\t<OME:Pixels ID=\"Pixels:0\" DimensionOrder=\"XYCZT\" Type=\"uint8\" SignificantBits=\"8\" Interleaved=\"true\" SizeX=\"1600\" SizeY=\"1200\" SizeC=\"3\" SizeZ=\"1\" SizeT=\"1\" PhysicalSizeX=\"5.2349290780141846\" PhysicalSizeXUnit=\"µm\" PhysicalSizeY=\"5.2349290780141864\" PhysicalSizeYUnit=\"µm\">\\r\\n\\t\\t\\t<OME:Channel ID=\"Channel:0\" SamplesPerPixel=\"3\">\\r\\n\\t\\t\\t\\t<DetectorSettings ID=\"Detector:0\" Binning=\"1x1\"/>\\r\\n\\t\\t\\t</OME:Channel>\\r\\n\\t\\t\\t<OME:TiffData IFD=\"0\" FirstZ=\"0\" FirstT=\"0\" FirstC=\"0\" PlaneCount=\"1\"/>\\r\\n\\t\\t\\t<OME:Plane TheZ=\"0\" TheT=\"0\" TheC=\"0\" ExposureTime=\"69.978484999999992\" ExposureTimeUnit=\"ms\"/>\\r\\n\\t\\t</OME:Pixels>\\r\\n\\t</OME:Image>\\r\\n\\t<SA:StructuredAnnotations/>\\r\\n</OME>', 'description1': '', 'is_imagej': None, 'software': ''}\n",
      "Folder: Original_Raw_10-Blue_TIF\n",
      "Image Name: CAB-T21-PSTR-007-A.tif\n",
      "Bounding Box: [318.790283203125, 130.67245483398438, 1259.93701171875, 1054.1669921875]\n",
      "Pixels: 649149\n",
      "Pixel Size X: 2.1968005952380953\n",
      "Pixel Size Y: 2.1968005952380953\n",
      "Area: 17789592.37912848 µm^2\n",
      "\n",
      "Metadata for C:/Users/richa_0/Documents/Coral Research/Images/Original_Raw_10-Blue_TIF/CAB-T21-PSTR-012-A.tif: {'is_fluoview': False, 'is_nih': False, 'is_micromanager': False, 'is_ome': True, 'is_lsm': False, 'is_reduced': False, 'is_sgi': False, 'is_shaped': None, 'is_stk': False, 'is_tiled': False, 'is_mdgel': False, 'compression': <COMPRESSION.NONE: 1>, 'predictor': 1, 'is_mediacy': False, 'description': '<?xml version=\"1.0\" encoding=\"UTF-8\" standalone=\"yes\"?>\\r\\n<OME xmlns=\"http://www.openmicroscopy.org/Schemas/OME/2015-01\" xmlns:OME=\"http://www.openmicroscopy.org/Schemas/OME/2015-01\" xmlns:ROI=\"http://www.openmicroscopy.org/Schemas/ROI/2015-01\" xmlns:BIN=\"http://www.openmicroscopy.org/Schemas/BinaryFile/2015-01\" xmlns:SA=\"http://www.openmicroscopy.org/Schemas/SA/2015-01\" xmlns:xsi=\"http://www.w3.org/2001/XMLSchema-instance\" xsi:schemaLocation=\"http://www.openmicroscopy.org/Schemas/OME/2015-01 http://www.openmicroscopy.org/Schemas/OME/2015-01/ome.xsd\" Creator=\"Nova Southeastern University, XV (1.18)\">\\r\\n\\t<OME:Experimenter ID=\"Experimenter:0\" UserName=\"la1332\"/>\\r\\n\\t<OME:Instrument ID=\"Instrument:0\">\\r\\n\\t\\t<OME:Microscope Model=\"Manual Stereo Microscope\"/>\\r\\n\\t\\t<OME:Detector Manufacturer=\"Olympus\" Model=\"LC20\" Gain=\"0\" Offset=\"0\" Zoom=\"1.2\" ID=\"Detector:0\"/>\\r\\n\\t\\t<OME:Objective Manufacturer=\"Olympus\" Model=\"Manual Nosepiece\" LensNA=\"0.11\" NominalMagnification=\"1\" CalibratedMagnification=\"0.48998024273214796\" WorkingDistance=\"74000\" WorkingDistanceUnit=\"µm\" ID=\"Objective:0\"/>\\r\\n\\t</OME:Instrument>\\r\\n\\t<OME:Image ID=\"Image:0\" Name=\"Layer 1\">\\r\\n\\t\\t<OME:AcquisitionDate>2024-02-14T14:49:43Z</OME:AcquisitionDate>\\r\\n\\t\\t<OME:ExperimenterRef ID=\"Experimenter:0\"/>\\r\\n\\t\\t<OME:InstrumentRef ID=\"Instrument:0\"/>\\r\\n\\t\\t<OME:ObjectiveSettings ID=\"Objective:0\" Medium=\"Air\" RefractiveIndex=\"1.0003\"/>\\r\\n\\t\\t<OME:Pixels ID=\"Pixels:0\" DimensionOrder=\"XYCZT\" Type=\"uint8\" SignificantBits=\"8\" Interleaved=\"true\" SizeX=\"1600\" SizeY=\"1200\" SizeC=\"3\" SizeZ=\"1\" SizeT=\"1\" PhysicalSizeX=\"4.762096774193548\" PhysicalSizeXUnit=\"µm\" PhysicalSizeY=\"4.762096774193548\" PhysicalSizeYUnit=\"µm\">\\r\\n\\t\\t\\t<OME:Channel ID=\"Channel:0\" SamplesPerPixel=\"3\">\\r\\n\\t\\t\\t\\t<DetectorSettings ID=\"Detector:0\" Binning=\"1x1\"/>\\r\\n\\t\\t\\t</OME:Channel>\\r\\n\\t\\t\\t<OME:TiffData IFD=\"0\" FirstZ=\"0\" FirstT=\"0\" FirstC=\"0\" PlaneCount=\"1\"/>\\r\\n\\t\\t\\t<OME:Plane TheZ=\"0\" TheT=\"0\" TheC=\"0\" ExposureTime=\"69.978484999999992\" ExposureTimeUnit=\"ms\"/>\\r\\n\\t\\t</OME:Pixels>\\r\\n\\t</OME:Image>\\r\\n\\t<SA:StructuredAnnotations/>\\r\\n</OME>', 'description1': '', 'is_imagej': None, 'software': ''}\n",
      "Folder: Original_Raw_10-Blue_TIF\n",
      "Image Name: CAB-T21-PSTR-012-A.tif\n",
      "Bounding Box: [392.42388916015625, 62.8314208984375, 1462.3399658203125, 1181.1307373046875]\n",
      "Pixels: 795720\n",
      "Pixel Size X: 2.1968005952380953\n",
      "Pixel Size Y: 2.1968005952380953\n",
      "Area: 18044992.56828824 µm^2\n",
      "\n",
      "Metadata for C:/Users/richa_0/Documents/Coral Research/Images/Original_Raw_10-Blue_TIF/CAB-T28-CNAT-017-E.tif: {'is_fluoview': False, 'is_nih': False, 'is_micromanager': False, 'is_ome': True, 'is_lsm': False, 'is_reduced': False, 'is_sgi': False, 'is_shaped': None, 'is_stk': False, 'is_tiled': False, 'is_mdgel': False, 'compression': <COMPRESSION.NONE: 1>, 'predictor': 1, 'is_mediacy': False, 'description': '<?xml version=\"1.0\" encoding=\"UTF-8\" standalone=\"yes\"?>\\r\\n<OME xmlns=\"http://www.openmicroscopy.org/Schemas/OME/2015-01\" xmlns:OME=\"http://www.openmicroscopy.org/Schemas/OME/2015-01\" xmlns:ROI=\"http://www.openmicroscopy.org/Schemas/ROI/2015-01\" xmlns:BIN=\"http://www.openmicroscopy.org/Schemas/BinaryFile/2015-01\" xmlns:SA=\"http://www.openmicroscopy.org/Schemas/SA/2015-01\" xmlns:xsi=\"http://www.w3.org/2001/XMLSchema-instance\" xsi:schemaLocation=\"http://www.openmicroscopy.org/Schemas/OME/2015-01 http://www.openmicroscopy.org/Schemas/OME/2015-01/ome.xsd\" Creator=\"Nova Southeastern University, XV (1.18)\">\\r\\n\\t<OME:Experimenter ID=\"Experimenter:0\" UserName=\"la1332\"/>\\r\\n\\t<OME:Instrument ID=\"Instrument:0\">\\r\\n\\t\\t<OME:Microscope Model=\"Manual Stereo Microscope\"/>\\r\\n\\t\\t<OME:Detector Manufacturer=\"Olympus\" Model=\"LC20\" Gain=\"0\" Offset=\"0\" Zoom=\"0.67000000000000004\" ID=\"Detector:0\"/>\\r\\n\\t\\t<OME:Objective Manufacturer=\"Olympus\" Model=\"Manual Nosepiece\" LensNA=\"0.11\" NominalMagnification=\"1\" CalibratedMagnification=\"0.47558987450554191\" WorkingDistance=\"74000\" WorkingDistanceUnit=\"µm\" ID=\"Objective:0\"/>\\r\\n\\t</OME:Instrument>\\r\\n\\t<OME:Image ID=\"Image:0\" Name=\"Layer 1\">\\r\\n\\t\\t<OME:AcquisitionDate>2024-04-03T13:55:33Z</OME:AcquisitionDate>\\r\\n\\t\\t<OME:ExperimenterRef ID=\"Experimenter:0\"/>\\r\\n\\t\\t<OME:InstrumentRef ID=\"Instrument:0\"/>\\r\\n\\t\\t<OME:ObjectiveSettings ID=\"Objective:0\" Medium=\"Air\" RefractiveIndex=\"1.0003\"/>\\r\\n\\t\\t<OME:Pixels ID=\"Pixels:0\" DimensionOrder=\"XYCZT\" Type=\"uint8\" SignificantBits=\"8\" Interleaved=\"true\" SizeX=\"1600\" SizeY=\"1200\" SizeC=\"3\" SizeZ=\"1\" SizeT=\"1\" PhysicalSizeX=\"8.7872023809523778\" PhysicalSizeXUnit=\"µm\" PhysicalSizeY=\"8.7872023809523778\" PhysicalSizeYUnit=\"µm\">\\r\\n\\t\\t\\t<OME:Channel ID=\"Channel:0\" SamplesPerPixel=\"3\">\\r\\n\\t\\t\\t\\t<DetectorSettings ID=\"Detector:0\" Binning=\"1x1\"/>\\r\\n\\t\\t\\t</OME:Channel>\\r\\n\\t\\t\\t<OME:TiffData IFD=\"0\" FirstZ=\"0\" FirstT=\"0\" FirstC=\"0\" PlaneCount=\"1\"/>\\r\\n\\t\\t\\t<OME:Plane TheZ=\"0\" TheT=\"0\" TheC=\"0\" ExposureTime=\"69.978484999999992\" ExposureTimeUnit=\"ms\"/>\\r\\n\\t\\t</OME:Pixels>\\r\\n\\t</OME:Image>\\r\\n\\t<SA:StructuredAnnotations/>\\r\\n</OME>', 'description1': '', 'is_imagej': None, 'software': ''}\n",
      "Folder: Original_Raw_10-Blue_TIF\n",
      "Image Name: CAB-T28-CNAT-017-E.tif\n",
      "Bounding Box: [141.90005493164062, 22.653732299804688, 1379.8480224609375, 1099.6693115234375]\n",
      "Pixels: 914426\n",
      "Pixel Size X: 2.1968005952380953\n",
      "Pixel Size Y: 2.1968005952380953\n",
      "Area: 70607335.63334835 µm^2\n",
      "\n",
      "Metadata for C:/Users/richa_0/Documents/Coral Research/Images/Original_Raw_10-Blue_TIF/CAB-T28-PSTR-013-A.tif: {'is_fluoview': False, 'is_nih': False, 'is_micromanager': False, 'is_ome': True, 'is_lsm': False, 'is_reduced': False, 'is_sgi': False, 'is_shaped': None, 'is_stk': False, 'is_tiled': False, 'is_mdgel': False, 'compression': <COMPRESSION.NONE: 1>, 'predictor': 1, 'is_mediacy': False, 'description': '<?xml version=\"1.0\" encoding=\"UTF-8\" standalone=\"yes\"?>\\r\\n<OME xmlns=\"http://www.openmicroscopy.org/Schemas/OME/2015-01\" xmlns:OME=\"http://www.openmicroscopy.org/Schemas/OME/2015-01\" xmlns:ROI=\"http://www.openmicroscopy.org/Schemas/ROI/2015-01\" xmlns:BIN=\"http://www.openmicroscopy.org/Schemas/BinaryFile/2015-01\" xmlns:SA=\"http://www.openmicroscopy.org/Schemas/SA/2015-01\" xmlns:xsi=\"http://www.w3.org/2001/XMLSchema-instance\" xsi:schemaLocation=\"http://www.openmicroscopy.org/Schemas/OME/2015-01 http://www.openmicroscopy.org/Schemas/OME/2015-01/ome.xsd\" Creator=\"Nova Southeastern University, XV (1.18)\">\\r\\n\\t<OME:Experimenter ID=\"Experimenter:0\" UserName=\"la1332\"/>\\r\\n\\t<OME:Instrument ID=\"Instrument:0\">\\r\\n\\t\\t<OME:Microscope Model=\"Manual Stereo Microscope\"/>\\r\\n\\t\\t<OME:Detector Manufacturer=\"Olympus\" Model=\"LC20\" Gain=\"0\" Offset=\"0\" Zoom=\"0.67000000000000004\" ID=\"Detector:0\"/>\\r\\n\\t\\t<OME:Objective Manufacturer=\"Olympus\" Model=\"Manual Nosepiece\" LensNA=\"0.11\" NominalMagnification=\"1\" CalibratedMagnification=\"0.47558987450554191\" WorkingDistance=\"74000\" WorkingDistanceUnit=\"µm\" ID=\"Objective:0\"/>\\r\\n\\t</OME:Instrument>\\r\\n\\t<OME:Image ID=\"Image:0\" Name=\"Layer 1\">\\r\\n\\t\\t<OME:AcquisitionDate>2024-04-03T14:03:43Z</OME:AcquisitionDate>\\r\\n\\t\\t<OME:ExperimenterRef ID=\"Experimenter:0\"/>\\r\\n\\t\\t<OME:InstrumentRef ID=\"Instrument:0\"/>\\r\\n\\t\\t<OME:ObjectiveSettings ID=\"Objective:0\" Medium=\"Air\" RefractiveIndex=\"1.0003\"/>\\r\\n\\t\\t<OME:Pixels ID=\"Pixels:0\" DimensionOrder=\"XYCZT\" Type=\"uint8\" SignificantBits=\"8\" Interleaved=\"true\" SizeX=\"1600\" SizeY=\"1200\" SizeC=\"3\" SizeZ=\"1\" SizeT=\"1\" PhysicalSizeX=\"8.7872023809523778\" PhysicalSizeXUnit=\"µm\" PhysicalSizeY=\"8.7872023809523778\" PhysicalSizeYUnit=\"µm\">\\r\\n\\t\\t\\t<OME:Channel ID=\"Channel:0\" SamplesPerPixel=\"3\">\\r\\n\\t\\t\\t\\t<DetectorSettings ID=\"Detector:0\" Binning=\"1x1\"/>\\r\\n\\t\\t\\t</OME:Channel>\\r\\n\\t\\t\\t<OME:TiffData IFD=\"0\" FirstZ=\"0\" FirstT=\"0\" FirstC=\"0\" PlaneCount=\"1\"/>\\r\\n\\t\\t\\t<OME:Plane TheZ=\"0\" TheT=\"0\" TheC=\"0\" ExposureTime=\"69.978484999999992\" ExposureTimeUnit=\"ms\"/>\\r\\n\\t\\t</OME:Pixels>\\r\\n\\t</OME:Image>\\r\\n\\t<SA:StructuredAnnotations/>\\r\\n</OME>', 'description1': '', 'is_imagej': None, 'software': ''}\n",
      "Folder: Original_Raw_10-Blue_TIF\n",
      "Image Name: CAB-T28-PSTR-013-A.tif\n",
      "Bounding Box: [277.5614929199219, 14.441680908203125, 1440.3070068359375, 1189.90283203125]\n",
      "Pixels: 972737\n",
      "Pixel Size X: 2.1968005952380953\n",
      "Pixel Size Y: 2.1968005952380953\n",
      "Area: 75109815.1648973 µm^2\n",
      "\n",
      "Metadata for C:/Users/richa_0/Documents/Coral Research/Images/Original_Raw_10-Blue_TIF/CRM-T21-CNAT-003-D.tif: {'is_fluoview': False, 'is_nih': False, 'is_micromanager': False, 'is_ome': True, 'is_lsm': False, 'is_reduced': False, 'is_sgi': False, 'is_shaped': None, 'is_stk': False, 'is_tiled': False, 'is_mdgel': False, 'compression': <COMPRESSION.NONE: 1>, 'predictor': 1, 'is_mediacy': False, 'description': '<?xml version=\"1.0\" encoding=\"UTF-8\" standalone=\"yes\"?>\\r\\n<OME xmlns=\"http://www.openmicroscopy.org/Schemas/OME/2015-01\" xmlns:OME=\"http://www.openmicroscopy.org/Schemas/OME/2015-01\" xmlns:ROI=\"http://www.openmicroscopy.org/Schemas/ROI/2015-01\" xmlns:BIN=\"http://www.openmicroscopy.org/Schemas/BinaryFile/2015-01\" xmlns:SA=\"http://www.openmicroscopy.org/Schemas/SA/2015-01\" xmlns:xsi=\"http://www.w3.org/2001/XMLSchema-instance\" xsi:schemaLocation=\"http://www.openmicroscopy.org/Schemas/OME/2015-01 http://www.openmicroscopy.org/Schemas/OME/2015-01/ome.xsd\" Creator=\"Nova Southeastern University, XV (1.18)\">\\r\\n\\t<OME:Experimenter ID=\"Experimenter:0\" UserName=\"la1332\"/>\\r\\n\\t<OME:Instrument ID=\"Instrument:0\">\\r\\n\\t\\t<OME:Microscope Model=\"Manual Stereo Microscope\"/>\\r\\n\\t\\t<OME:Detector Manufacturer=\"Olympus\" Model=\"LC20\" Gain=\"0\" Offset=\"0\" Zoom=\"1.2\" ID=\"Detector:0\"/>\\r\\n\\t\\t<OME:Objective Manufacturer=\"Olympus\" Model=\"Manual Nosepiece\" LensNA=\"0.11\" NominalMagnification=\"1\" CalibratedMagnification=\"0.48998024273214796\" WorkingDistance=\"74000\" WorkingDistanceUnit=\"µm\" ID=\"Objective:0\"/>\\r\\n\\t</OME:Instrument>\\r\\n\\t<OME:Image ID=\"Image:0\" Name=\"Layer 1\">\\r\\n\\t\\t<OME:AcquisitionDate>2024-02-14T18:34:06Z</OME:AcquisitionDate>\\r\\n\\t\\t<OME:ExperimenterRef ID=\"Experimenter:0\"/>\\r\\n\\t\\t<OME:InstrumentRef ID=\"Instrument:0\"/>\\r\\n\\t\\t<OME:ObjectiveSettings ID=\"Objective:0\" Medium=\"Air\" RefractiveIndex=\"1.0003\"/>\\r\\n\\t\\t<OME:Pixels ID=\"Pixels:0\" DimensionOrder=\"XYCZT\" Type=\"uint8\" SignificantBits=\"8\" Interleaved=\"true\" SizeX=\"1600\" SizeY=\"1200\" SizeC=\"3\" SizeZ=\"1\" SizeT=\"1\" PhysicalSizeX=\"4.762096774193548\" PhysicalSizeXUnit=\"µm\" PhysicalSizeY=\"4.762096774193548\" PhysicalSizeYUnit=\"µm\">\\r\\n\\t\\t\\t<OME:Channel ID=\"Channel:0\" SamplesPerPixel=\"3\">\\r\\n\\t\\t\\t\\t<DetectorSettings ID=\"Detector:0\" Binning=\"1x1\"/>\\r\\n\\t\\t\\t</OME:Channel>\\r\\n\\t\\t\\t<OME:TiffData IFD=\"0\" FirstZ=\"0\" FirstT=\"0\" FirstC=\"0\" PlaneCount=\"1\"/>\\r\\n\\t\\t\\t<OME:Plane TheZ=\"0\" TheT=\"0\" TheC=\"0\" ExposureTime=\"69.978484999999992\" ExposureTimeUnit=\"ms\"/>\\r\\n\\t\\t</OME:Pixels>\\r\\n\\t</OME:Image>\\r\\n\\t<SA:StructuredAnnotations/>\\r\\n</OME>', 'description1': '', 'is_imagej': None, 'software': ''}\n",
      "Folder: Original_Raw_10-Blue_TIF\n",
      "Image Name: CRM-T21-CNAT-003-D.tif\n",
      "Bounding Box: [481.3246154785156, 126.44447326660156, 1363.574951171875, 1072.58740234375]\n",
      "Pixels: 634429\n",
      "Pixel Size X: 2.1968005952380953\n",
      "Pixel Size Y: 2.1968005952380953\n",
      "Area: 14387305.321101066 µm^2\n",
      "\n",
      "Metadata for C:/Users/richa_0/Documents/Coral Research/Images/Original_Raw_10-Blue_TIF/CRM-T21-CNAT-004-A.tif: {'is_fluoview': False, 'is_nih': False, 'is_micromanager': False, 'is_ome': True, 'is_lsm': False, 'is_reduced': False, 'is_sgi': False, 'is_shaped': None, 'is_stk': False, 'is_tiled': False, 'is_mdgel': False, 'compression': <COMPRESSION.NONE: 1>, 'predictor': 1, 'is_mediacy': False, 'description': '<?xml version=\"1.0\" encoding=\"UTF-8\" standalone=\"yes\"?>\\r\\n<OME xmlns=\"http://www.openmicroscopy.org/Schemas/OME/2015-01\" xmlns:OME=\"http://www.openmicroscopy.org/Schemas/OME/2015-01\" xmlns:ROI=\"http://www.openmicroscopy.org/Schemas/ROI/2015-01\" xmlns:BIN=\"http://www.openmicroscopy.org/Schemas/BinaryFile/2015-01\" xmlns:SA=\"http://www.openmicroscopy.org/Schemas/SA/2015-01\" xmlns:xsi=\"http://www.w3.org/2001/XMLSchema-instance\" xsi:schemaLocation=\"http://www.openmicroscopy.org/Schemas/OME/2015-01 http://www.openmicroscopy.org/Schemas/OME/2015-01/ome.xsd\" Creator=\"Nova Southeastern University, XV (1.18)\">\\r\\n\\t<OME:Experimenter ID=\"Experimenter:0\" UserName=\"la1332\"/>\\r\\n\\t<OME:Instrument ID=\"Instrument:0\">\\r\\n\\t\\t<OME:Microscope Model=\"Manual Stereo Microscope\"/>\\r\\n\\t\\t<OME:Detector Manufacturer=\"Olympus\" Model=\"LC20\" Gain=\"0\" Offset=\"0\" Zoom=\"0.80000000000000004\" ID=\"Detector:0\"/>\\r\\n\\t\\t<OME:Objective Manufacturer=\"Olympus\" Model=\"Manual Nosepiece\" LensNA=\"0.11\" NominalMagnification=\"1\" CalibratedMagnification=\"0.51210838272650305\" WorkingDistance=\"74000\" WorkingDistanceUnit=\"µm\" ID=\"Objective:0\"/>\\r\\n\\t</OME:Instrument>\\r\\n\\t<OME:Image ID=\"Image:0\" Name=\"Layer 1\">\\r\\n\\t\\t<OME:AcquisitionDate>2024-02-14T19:37:19Z</OME:AcquisitionDate>\\r\\n\\t\\t<OME:ExperimenterRef ID=\"Experimenter:0\"/>\\r\\n\\t\\t<OME:InstrumentRef ID=\"Instrument:0\"/>\\r\\n\\t\\t<OME:ObjectiveSettings ID=\"Objective:0\" Medium=\"Air\" RefractiveIndex=\"1.0003\"/>\\r\\n\\t\\t<OME:Pixels ID=\"Pixels:0\" DimensionOrder=\"XYCZT\" Type=\"uint8\" SignificantBits=\"8\" Interleaved=\"true\" SizeX=\"1600\" SizeY=\"1200\" SizeC=\"3\" SizeZ=\"1\" SizeT=\"1\" PhysicalSizeX=\"6.8344907407407387\" PhysicalSizeXUnit=\"µm\" PhysicalSizeY=\"6.8344907407407396\" PhysicalSizeYUnit=\"µm\">\\r\\n\\t\\t\\t<OME:Channel ID=\"Channel:0\" SamplesPerPixel=\"3\">\\r\\n\\t\\t\\t\\t<DetectorSettings ID=\"Detector:0\" Binning=\"1x1\"/>\\r\\n\\t\\t\\t</OME:Channel>\\r\\n\\t\\t\\t<OME:TiffData IFD=\"0\" FirstZ=\"0\" FirstT=\"0\" FirstC=\"0\" PlaneCount=\"1\"/>\\r\\n\\t\\t\\t<OME:Plane TheZ=\"0\" TheT=\"0\" TheC=\"0\" ExposureTime=\"69.978484999999992\" ExposureTimeUnit=\"ms\"/>\\r\\n\\t\\t</OME:Pixels>\\r\\n\\t</OME:Image>\\r\\n\\t<SA:StructuredAnnotations/>\\r\\n</OME>', 'description1': '', 'is_imagej': None, 'software': ''}\n",
      "Folder: Original_Raw_10-Blue_TIF\n",
      "Image Name: CRM-T21-CNAT-004-A.tif\n",
      "Bounding Box: [201.38221740722656, 61.99058532714844, 1196.83740234375, 1161.7890625]\n",
      "Pixels: 754608\n",
      "Pixel Size X: 2.1968005952380953\n",
      "Pixel Size Y: 2.1968005952380953\n",
      "Area: 35247938.6590149 µm^2\n",
      "\n",
      "Metadata for C:/Users/richa_0/Documents/Coral Research/Images/Original_Raw_10-Blue_TIF/DAB-T15-CNAT-017-C.tif: {'is_fluoview': False, 'is_nih': False, 'is_micromanager': False, 'is_ome': True, 'is_lsm': False, 'is_reduced': False, 'is_sgi': False, 'is_shaped': None, 'is_stk': False, 'is_tiled': False, 'is_mdgel': False, 'compression': <COMPRESSION.NONE: 1>, 'predictor': 1, 'is_mediacy': False, 'description': '<?xml version=\"1.0\" encoding=\"UTF-8\" standalone=\"yes\"?>\\r\\n<OME xmlns=\"http://www.openmicroscopy.org/Schemas/OME/2015-01\" xmlns:OME=\"http://www.openmicroscopy.org/Schemas/OME/2015-01\" xmlns:ROI=\"http://www.openmicroscopy.org/Schemas/ROI/2015-01\" xmlns:BIN=\"http://www.openmicroscopy.org/Schemas/BinaryFile/2015-01\" xmlns:SA=\"http://www.openmicroscopy.org/Schemas/SA/2015-01\" xmlns:xsi=\"http://www.w3.org/2001/XMLSchema-instance\" xsi:schemaLocation=\"http://www.openmicroscopy.org/Schemas/OME/2015-01 http://www.openmicroscopy.org/Schemas/OME/2015-01/ome.xsd\" Creator=\"Nova Southeastern University, XV (1.18)\">\\r\\n\\t<OME:Experimenter ID=\"Experimenter:0\" UserName=\"la1332\"/>\\r\\n\\t<OME:Instrument ID=\"Instrument:0\">\\r\\n\\t\\t<OME:Microscope Model=\"Manual Stereo Microscope\"/>\\r\\n\\t\\t<OME:Detector Manufacturer=\"Olympus\" Model=\"LC20\" Gain=\"0\" Offset=\"0\" Zoom=\"2.5\" ID=\"Detector:0\"/>\\r\\n\\t\\t<OME:Objective Manufacturer=\"Olympus\" Model=\"Manual Nosepiece\" LensNA=\"0.11\" NominalMagnification=\"1\" CalibratedMagnification=\"0.50983234546994083\" WorkingDistance=\"74000\" WorkingDistanceUnit=\"µm\" ID=\"Objective:0\"/>\\r\\n\\t</OME:Instrument>\\r\\n\\t<OME:Image ID=\"Image:0\" Name=\"Layer 1\">\\r\\n\\t\\t<OME:AcquisitionDate>2024-01-04T21:09:10Z</OME:AcquisitionDate>\\r\\n\\t\\t<OME:ExperimenterRef ID=\"Experimenter:0\"/>\\r\\n\\t\\t<OME:InstrumentRef ID=\"Instrument:0\"/>\\r\\n\\t\\t<OME:ObjectiveSettings ID=\"Objective:0\" Medium=\"Air\" RefractiveIndex=\"1.0003\"/>\\r\\n\\t\\t<OME:Pixels ID=\"Pixels:0\" DimensionOrder=\"XYCZT\" Type=\"uint8\" SignificantBits=\"8\" Interleaved=\"true\" SizeX=\"1600\" SizeY=\"1200\" SizeC=\"3\" SizeZ=\"1\" SizeT=\"1\" PhysicalSizeX=\"2.1968005952380953\" PhysicalSizeXUnit=\"µm\" PhysicalSizeY=\"2.1968005952380953\" PhysicalSizeYUnit=\"µm\">\\r\\n\\t\\t\\t<OME:Channel ID=\"Channel:0\" SamplesPerPixel=\"3\">\\r\\n\\t\\t\\t\\t<DetectorSettings ID=\"Detector:0\" Binning=\"1x1\"/>\\r\\n\\t\\t\\t</OME:Channel>\\r\\n\\t\\t\\t<OME:TiffData IFD=\"0\" FirstZ=\"0\" FirstT=\"0\" FirstC=\"0\" PlaneCount=\"1\"/>\\r\\n\\t\\t\\t<OME:Plane TheZ=\"0\" TheT=\"0\" TheC=\"0\" ExposureTime=\"69.978484999999992\" ExposureTimeUnit=\"ms\"/>\\r\\n\\t\\t</OME:Pixels>\\r\\n\\t</OME:Image>\\r\\n\\t<SA:StructuredAnnotations/>\\r\\n</OME>', 'description1': '', 'is_imagej': None, 'software': ''}\n",
      "Folder: Original_Raw_10-Blue_TIF\n",
      "Image Name: DAB-T15-CNAT-017-C.tif\n",
      "Bounding Box: [332.75299072265625, 72.40280151367188, 1356.0999755859375, 1040.5250244140625]\n",
      "Pixels: 759922\n",
      "Pixel Size X: 2.1968005952380953\n",
      "Pixel Size Y: 2.1968005952380953\n",
      "Area: 3667332.547218513 µm^2\n",
      "\n",
      "Metadata for C:/Users/richa_0/Documents/Coral Research/Images/Original_Raw_10-Blue_TIF/DAB-T15-CNAT-024-B.tif: {'is_fluoview': False, 'is_nih': False, 'is_micromanager': False, 'is_ome': True, 'is_lsm': False, 'is_reduced': False, 'is_sgi': False, 'is_shaped': None, 'is_stk': False, 'is_tiled': False, 'is_mdgel': False, 'compression': <COMPRESSION.NONE: 1>, 'predictor': 1, 'is_mediacy': False, 'description': '<?xml version=\"1.0\" encoding=\"UTF-8\" standalone=\"yes\"?>\\r\\n<OME xmlns=\"http://www.openmicroscopy.org/Schemas/OME/2015-01\" xmlns:OME=\"http://www.openmicroscopy.org/Schemas/OME/2015-01\" xmlns:ROI=\"http://www.openmicroscopy.org/Schemas/ROI/2015-01\" xmlns:BIN=\"http://www.openmicroscopy.org/Schemas/BinaryFile/2015-01\" xmlns:SA=\"http://www.openmicroscopy.org/Schemas/SA/2015-01\" xmlns:xsi=\"http://www.w3.org/2001/XMLSchema-instance\" xsi:schemaLocation=\"http://www.openmicroscopy.org/Schemas/OME/2015-01 http://www.openmicroscopy.org/Schemas/OME/2015-01/ome.xsd\" Creator=\"Nova Southeastern University, XV (1.18)\">\\r\\n\\t<OME:Experimenter ID=\"Experimenter:0\" UserName=\"la1332\"/>\\r\\n\\t<OME:Instrument ID=\"Instrument:0\">\\r\\n\\t\\t<OME:Microscope Model=\"Manual Stereo Microscope\"/>\\r\\n\\t\\t<OME:Detector Manufacturer=\"Olympus\" Model=\"LC20\" Gain=\"0\" Offset=\"0\" Zoom=\"2.5\" ID=\"Detector:0\"/>\\r\\n\\t\\t<OME:Objective Manufacturer=\"Olympus\" Model=\"Manual Nosepiece\" LensNA=\"0.11\" NominalMagnification=\"1\" CalibratedMagnification=\"0.50983234546994083\" WorkingDistance=\"74000\" WorkingDistanceUnit=\"µm\" ID=\"Objective:0\"/>\\r\\n\\t</OME:Instrument>\\r\\n\\t<OME:Image ID=\"Image:0\" Name=\"Layer 1\">\\r\\n\\t\\t<OME:AcquisitionDate>2024-01-05T14:05:38Z</OME:AcquisitionDate>\\r\\n\\t\\t<OME:ExperimenterRef ID=\"Experimenter:0\"/>\\r\\n\\t\\t<OME:InstrumentRef ID=\"Instrument:0\"/>\\r\\n\\t\\t<OME:ObjectiveSettings ID=\"Objective:0\" Medium=\"Air\" RefractiveIndex=\"1.0003\"/>\\r\\n\\t\\t<OME:Pixels ID=\"Pixels:0\" DimensionOrder=\"XYCZT\" Type=\"uint8\" SignificantBits=\"8\" Interleaved=\"true\" SizeX=\"1600\" SizeY=\"1200\" SizeC=\"3\" SizeZ=\"1\" SizeT=\"1\" PhysicalSizeX=\"2.1968005952380953\" PhysicalSizeXUnit=\"µm\" PhysicalSizeY=\"2.1968005952380953\" PhysicalSizeYUnit=\"µm\">\\r\\n\\t\\t\\t<OME:Channel ID=\"Channel:0\" SamplesPerPixel=\"3\">\\r\\n\\t\\t\\t\\t<DetectorSettings ID=\"Detector:0\" Binning=\"1x1\"/>\\r\\n\\t\\t\\t</OME:Channel>\\r\\n\\t\\t\\t<OME:TiffData IFD=\"0\" FirstZ=\"0\" FirstT=\"0\" FirstC=\"0\" PlaneCount=\"1\"/>\\r\\n\\t\\t\\t<OME:Plane TheZ=\"0\" TheT=\"0\" TheC=\"0\" ExposureTime=\"69.978484999999992\" ExposureTimeUnit=\"ms\"/>\\r\\n\\t\\t</OME:Pixels>\\r\\n\\t</OME:Image>\\r\\n\\t<SA:StructuredAnnotations/>\\r\\n</OME>', 'description1': '', 'is_imagej': None, 'software': ''}\n",
      "Folder: Original_Raw_10-Blue_TIF\n",
      "Image Name: DAB-T15-CNAT-024-B.tif\n",
      "Bounding Box: [359.632568359375, 191.55044555664062, 1431.505615234375, 1091.1878662109375]\n",
      "Pixels: 692359\n",
      "Pixel Size X: 2.1968005952380953\n",
      "Pixel Size Y: 2.1968005952380953\n",
      "Area: 3341278.045720038 µm^2\n",
      "\n",
      "Metadata for C:/Users/richa_0/Documents/Coral Research/Images/Original_Raw_10-Blue_TIF/DAB-T15-PSTR-012-C.tif: {'is_fluoview': False, 'is_nih': False, 'is_micromanager': False, 'is_ome': True, 'is_lsm': False, 'is_reduced': False, 'is_sgi': False, 'is_shaped': None, 'is_stk': False, 'is_tiled': False, 'is_mdgel': False, 'compression': <COMPRESSION.NONE: 1>, 'predictor': 1, 'is_mediacy': False, 'description': '<?xml version=\"1.0\" encoding=\"UTF-8\" standalone=\"yes\"?>\\r\\n<OME xmlns=\"http://www.openmicroscopy.org/Schemas/OME/2015-01\" xmlns:OME=\"http://www.openmicroscopy.org/Schemas/OME/2015-01\" xmlns:ROI=\"http://www.openmicroscopy.org/Schemas/ROI/2015-01\" xmlns:BIN=\"http://www.openmicroscopy.org/Schemas/BinaryFile/2015-01\" xmlns:SA=\"http://www.openmicroscopy.org/Schemas/SA/2015-01\" xmlns:xsi=\"http://www.w3.org/2001/XMLSchema-instance\" xsi:schemaLocation=\"http://www.openmicroscopy.org/Schemas/OME/2015-01 http://www.openmicroscopy.org/Schemas/OME/2015-01/ome.xsd\" Creator=\"Nova Southeastern University, XV (1.18)\">\\r\\n\\t<OME:Experimenter ID=\"Experimenter:0\" UserName=\"la1332\"/>\\r\\n\\t<OME:Instrument ID=\"Instrument:0\">\\r\\n\\t\\t<OME:Microscope Model=\"Manual Stereo Microscope\"/>\\r\\n\\t\\t<OME:Detector Manufacturer=\"Olympus\" Model=\"LC20\" Gain=\"0\" Offset=\"0\" Zoom=\"2.5\" ID=\"Detector:0\"/>\\r\\n\\t\\t<OME:Objective Manufacturer=\"Olympus\" Model=\"Manual Nosepiece\" LensNA=\"0.11\" NominalMagnification=\"1\" CalibratedMagnification=\"0.50983234546994083\" WorkingDistance=\"74000\" WorkingDistanceUnit=\"µm\" ID=\"Objective:0\"/>\\r\\n\\t</OME:Instrument>\\r\\n\\t<OME:Image ID=\"Image:0\" Name=\"Layer 1\">\\r\\n\\t\\t<OME:AcquisitionDate>2024-01-04T21:25:05Z</OME:AcquisitionDate>\\r\\n\\t\\t<OME:ExperimenterRef ID=\"Experimenter:0\"/>\\r\\n\\t\\t<OME:InstrumentRef ID=\"Instrument:0\"/>\\r\\n\\t\\t<OME:ObjectiveSettings ID=\"Objective:0\" Medium=\"Air\" RefractiveIndex=\"1.0003\"/>\\r\\n\\t\\t<OME:Pixels ID=\"Pixels:0\" DimensionOrder=\"XYCZT\" Type=\"uint8\" SignificantBits=\"8\" Interleaved=\"true\" SizeX=\"1600\" SizeY=\"1200\" SizeC=\"3\" SizeZ=\"1\" SizeT=\"1\" PhysicalSizeX=\"2.1968005952380953\" PhysicalSizeXUnit=\"µm\" PhysicalSizeY=\"2.1968005952380953\" PhysicalSizeYUnit=\"µm\">\\r\\n\\t\\t\\t<OME:Channel ID=\"Channel:0\" SamplesPerPixel=\"3\">\\r\\n\\t\\t\\t\\t<DetectorSettings ID=\"Detector:0\" Binning=\"1x1\"/>\\r\\n\\t\\t\\t</OME:Channel>\\r\\n\\t\\t\\t<OME:TiffData IFD=\"0\" FirstZ=\"0\" FirstT=\"0\" FirstC=\"0\" PlaneCount=\"1\"/>\\r\\n\\t\\t\\t<OME:Plane TheZ=\"0\" TheT=\"0\" TheC=\"0\" ExposureTime=\"69.978484999999992\" ExposureTimeUnit=\"ms\"/>\\r\\n\\t\\t</OME:Pixels>\\r\\n\\t</OME:Image>\\r\\n\\t<SA:StructuredAnnotations/>\\r\\n</OME>', 'description1': '', 'is_imagej': None, 'software': ''}\n",
      "Folder: Original_Raw_10-Blue_TIF\n",
      "Image Name: DAB-T15-PSTR-012-C.tif\n",
      "Bounding Box: [289.76727294921875, 106.24908447265625, 1396.725341796875, 1183.143310546875]\n",
      "Pixels: 722406\n",
      "Pixel Size X: 2.1968005952380953\n",
      "Pixel Size Y: 2.1968005952380953\n",
      "Area: 3486282.8502213876 µm^2\n",
      "\n"
     ]
    }
   ],
   "source": [
    "for index, folder in enumerate(folder_read_paths):\n",
    "\n",
    "    images_data = []\n",
    "    annotations = []\n",
    "    categories = [\n",
    "        {\"id\":0,\"name\":\"coral\",\"supercategory\":\"none\"},\n",
    "        {\"id\":1,\"name\":\"coral\",\"supercategory\":\"coral\"}\n",
    "    ]\n",
    "    folder_name = os.path.basename(folder.rstrip('/'))\n",
    "\n",
    "    new_folder_path = os.path.join(folder_write_path, folder_name)\n",
    "    if not os.path.exists(new_folder_path):\n",
    "        os.makedirs(new_folder_path)\n",
    "\n",
    "    json_path = os.path.join(new_folder_path, \"_annotations.coco.json\")\n",
    "\n",
    "    image_index = 0\n",
    "    for image_file in os.listdir(folder):\n",
    "        if image_file.endswith('.tif'):\n",
    "            image_path = os.path.join(folder, image_file)\n",
    "            base_name, _ = os.path.splitext(image_file)\n",
    "            image_file_png = base_name + \".png\"\n",
    "            annotated_path = os.path.join(new_folder_path, image_file_png)\n",
    "            image, bbox = execute_block1(image_path)\n",
    "            masks = execute_block2(image, bbox)\n",
    "            pixels, image_info, annotation_info, area, pixel_size_x, pixel_size_y = execute_block3(image, bbox, masks, annotated_path, image_index, image_path)\n",
    "            images_data.append(image_info)\n",
    "            annotations.append(annotation_info)\n",
    "            new_row = {\"Folder\": folder_name, \"Image Name\": image_file, \"Pixel Area\": pixels, \"Pixel Size X\": pixel_size_x, \"Pixel Size Y\": pixel_size_y, \"µm^2\": area}\n",
    "            new_row_df = pd.DataFrame([new_row], columns=columns)\n",
    "            new_row_df.to_csv(csv_path, mode='a', header=not os.path.exists(csv_path), index=False)\n",
    "            print(\"Folder: \" + folder_name + \"\\n\" + \"Image Name: \" + image_file + \"\\n\" + \"Bounding Box: \" + str(bbox) + \"\\n\" + \"Pixels: \" + str(pixels) + \"\\n\" + \"Pixel Size X: \" + str(pixel_size_x) + \"\\n\" + \"Pixel Size Y: \" + str(pixel_size_y) + \"\\n\" + \"Area: \" + str(area) + \" µm^2\" + \"\\n\")\n",
    "            image_index += 1\n",
    "\n",
    "    create_coco_json(images_data, annotations, categories, json_path)"
   ]
  },
  {
   "cell_type": "code",
   "execution_count": null,
   "metadata": {},
   "outputs": [],
   "source": [
    "torch.cuda.empty_cache()"
   ]
  },
  {
   "cell_type": "code",
   "execution_count": null,
   "metadata": {},
   "outputs": [],
   "source": []
  }
 ],
 "metadata": {
  "accelerator": "GPU",
  "colab": {
   "gpuType": "T4",
   "provenance": []
  },
  "kernelspec": {
   "display_name": "Python 3 (ipykernel)",
   "language": "python",
   "name": "python3"
  },
  "language_info": {
   "codemirror_mode": {
    "name": "ipython",
    "version": 3
   },
   "file_extension": ".py",
   "mimetype": "text/x-python",
   "name": "python",
   "nbconvert_exporter": "python",
   "pygments_lexer": "ipython3",
   "version": "3.12.4"
  }
 },
 "nbformat": 4,
 "nbformat_minor": 4
}
