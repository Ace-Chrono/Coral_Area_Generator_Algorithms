{
 "cells": [
  {
   "cell_type": "markdown",
   "metadata": {},
   "source": [
    "## Setup up CUDA for PyTorch\n",
    "#### *Must download CUDA drive from https://developer.nvidia.com/cuda-downloads and make a venv after in anaconda, not before. Then run the kernel below. "
   ]
  },
  {
   "cell_type": "code",
   "execution_count": 1,
   "metadata": {
    "colab": {
     "base_uri": "https://localhost:8080/"
    },
    "id": "BHn6z4moM24T",
    "outputId": "b04ddf72-2f9f-44cb-9c45-66c7fbfd30d6"
   },
   "outputs": [
    {
     "name": "stdout",
     "output_type": "stream",
     "text": [
      "Looking in indexes: https://download.pytorch.org/whl/cu118\n",
      "Requirement already satisfied: torch in c:\\users\\richa_0\\anaconda3\\envs\\coral_research\\lib\\site-packages (2.2.0+cu118)\n",
      "Requirement already satisfied: torchvision in c:\\users\\richa_0\\anaconda3\\envs\\coral_research\\lib\\site-packages (0.17.0+cu118)\n",
      "Requirement already satisfied: torchaudio in c:\\users\\richa_0\\anaconda3\\envs\\coral_research\\lib\\site-packages (2.2.0+cu118)\n",
      "Requirement already satisfied: filelock in c:\\users\\richa_0\\anaconda3\\envs\\coral_research\\lib\\site-packages (from torch) (3.9.0)\n",
      "Requirement already satisfied: typing-extensions>=4.8.0 in c:\\users\\richa_0\\anaconda3\\envs\\coral_research\\lib\\site-packages (from torch) (4.9.0)\n",
      "Requirement already satisfied: sympy in c:\\users\\richa_0\\anaconda3\\envs\\coral_research\\lib\\site-packages (from torch) (1.12)\n",
      "Requirement already satisfied: networkx in c:\\users\\richa_0\\anaconda3\\envs\\coral_research\\lib\\site-packages (from torch) (3.2.1)\n",
      "Requirement already satisfied: jinja2 in c:\\users\\richa_0\\anaconda3\\envs\\coral_research\\lib\\site-packages (from torch) (3.1.3)\n",
      "Requirement already satisfied: fsspec in c:\\users\\richa_0\\anaconda3\\envs\\coral_research\\lib\\site-packages (from torch) (2023.10.0)\n",
      "Requirement already satisfied: numpy in c:\\users\\richa_0\\anaconda3\\envs\\coral_research\\lib\\site-packages (from torchvision) (1.26.3)\n",
      "Requirement already satisfied: requests in c:\\users\\richa_0\\anaconda3\\envs\\coral_research\\lib\\site-packages (from torchvision) (2.31.0)\n",
      "Requirement already satisfied: pillow!=8.3.*,>=5.3.0 in c:\\users\\richa_0\\anaconda3\\envs\\coral_research\\lib\\site-packages (from torchvision) (10.2.0)\n",
      "Requirement already satisfied: MarkupSafe>=2.0 in c:\\users\\richa_0\\anaconda3\\envs\\coral_research\\lib\\site-packages (from jinja2->torch) (2.1.3)\n",
      "Requirement already satisfied: charset-normalizer<4,>=2 in c:\\users\\richa_0\\anaconda3\\envs\\coral_research\\lib\\site-packages (from requests->torchvision) (2.0.4)\n",
      "Requirement already satisfied: idna<4,>=2.5 in c:\\users\\richa_0\\anaconda3\\envs\\coral_research\\lib\\site-packages (from requests->torchvision) (2.10)\n",
      "Requirement already satisfied: urllib3<3,>=1.21.1 in c:\\users\\richa_0\\anaconda3\\envs\\coral_research\\lib\\site-packages (from requests->torchvision) (2.1.0)\n",
      "Requirement already satisfied: certifi>=2017.4.17 in c:\\users\\richa_0\\anaconda3\\envs\\coral_research\\lib\\site-packages (from requests->torchvision) (2023.7.22)\n",
      "Requirement already satisfied: mpmath>=0.19 in c:\\users\\richa_0\\anaconda3\\envs\\coral_research\\lib\\site-packages (from sympy->torch) (1.3.0)\n"
     ]
    }
   ],
   "source": [
    "!pip3 install torch torchvision torchaudio --index-url https://download.pytorch.org/whl/cu118"
   ]
  },
  {
   "cell_type": "code",
   "execution_count": 4,
   "metadata": {
    "colab": {
     "base_uri": "https://localhost:8080/"
    },
    "id": "BHn6z4moM24T",
    "outputId": "b04ddf72-2f9f-44cb-9c45-66c7fbfd30d6"
   },
   "outputs": [
    {
     "name": "stdout",
     "output_type": "stream",
     "text": [
      "Wed Apr  3 11:27:38 2024       \n",
      "+-----------------------------------------------------------------------------------------+\n",
      "| NVIDIA-SMI 551.23                 Driver Version: 551.23         CUDA Version: 12.4     |\n",
      "|-----------------------------------------+------------------------+----------------------+\n",
      "| GPU  Name                     TCC/WDDM  | Bus-Id          Disp.A | Volatile Uncorr. ECC |\n",
      "| Fan  Temp   Perf          Pwr:Usage/Cap |           Memory-Usage | GPU-Util  Compute M. |\n",
      "|                                         |                        |               MIG M. |\n",
      "|=========================================+========================+======================|\n",
      "|   0  NVIDIA GeForce RTX 3070 ...  WDDM  |   00000000:01:00.0  On |                  N/A |\n",
      "| N/A   62C    P8             18W /   81W |     786MiB /   8192MiB |      0%      Default |\n",
      "|                                         |                        |                  N/A |\n",
      "+-----------------------------------------+------------------------+----------------------+\n",
      "                                                                                         \n",
      "+-----------------------------------------------------------------------------------------+\n",
      "| Processes:                                                                              |\n",
      "|  GPU   GI   CI        PID   Type   Process name                              GPU Memory |\n",
      "|        ID   ID                                                               Usage      |\n",
      "|=========================================================================================|\n",
      "|    0   N/A  N/A      4964    C+G   ...siveControlPanel\\SystemSettings.exe      N/A      |\n",
      "|    0   N/A  N/A     15004    C+G   ...oogle\\Chrome\\Application\\chrome.exe      N/A      |\n",
      "|    0   N/A  N/A     18952    C+G   ...ekyb3d8bbwe\\PhoneExperienceHost.exe      N/A      |\n",
      "|    0   N/A  N/A     19284    C+G   ...nt.CBS_cw5n1h2txyewy\\SearchHost.exe      N/A      |\n",
      "|    0   N/A  N/A     26312    C+G   ...CBS_cw5n1h2txyewy\\TextInputHost.exe      N/A      |\n",
      "|    0   N/A  N/A     27980    C+G   ...a\\Local\\slack\\app-4.37.98\\slack.exe      N/A      |\n",
      "|    0   N/A  N/A     28696    C+G   C:\\Windows\\explorer.exe                     N/A      |\n",
      "|    0   N/A  N/A     29920    C+G   ...2txyewy\\StartMenuExperienceHost.exe      N/A      |\n",
      "+-----------------------------------------------------------------------------------------+\n"
     ]
    }
   ],
   "source": [
    "!nvidia-smi"
   ]
  },
  {
   "cell_type": "markdown",
   "metadata": {},
   "source": [
    "## Setup RoboFlow"
   ]
  },
  {
   "cell_type": "code",
   "execution_count": 1,
   "metadata": {},
   "outputs": [],
   "source": [
    "!pip install roboflow --quiet"
   ]
  },
  {
   "cell_type": "markdown",
   "metadata": {
    "id": "2QqaZoirGcrf"
   },
   "source": [
    "## Setup SAM"
   ]
  },
  {
   "cell_type": "code",
   "execution_count": 3,
   "metadata": {
    "colab": {
     "base_uri": "https://localhost:8080/"
    },
    "id": "MAxjKnlkO5bh",
    "outputId": "3d2788a7-e1fd-417c-c30d-22660b7a819a"
   },
   "outputs": [
    {
     "name": "stdout",
     "output_type": "stream",
     "text": [
      "Collecting git+https://github.com/facebookresearch/segment-anything.git\n",
      "  Cloning https://github.com/facebookresearch/segment-anything.git to c:\\users\\richa_0\\appdata\\local\\temp\\pip-req-build-q5ostivs\n",
      "  Resolved https://github.com/facebookresearch/segment-anything.git to commit 6fdee8f2727f4506cfbbe553e23b895e27956588\n",
      "  Preparing metadata (setup.py): started\n",
      "  Preparing metadata (setup.py): finished with status 'done'\n",
      "Building wheels for collected packages: segment-anything\n",
      "  Building wheel for segment-anything (setup.py): started\n",
      "  Building wheel for segment-anything (setup.py): finished with status 'done'\n",
      "  Created wheel for segment-anything: filename=segment_anything-1.0-py3-none-any.whl size=36830 sha256=6bd36929ca9babdebffb454221eb495d81a78e706933e227f5d90e015010e448\n",
      "  Stored in directory: C:\\Users\\richa_0\\AppData\\Local\\Temp\\pip-ephem-wheel-cache-c_kn2u_r\\wheels\\10\\cf\\59\\9ccb2f0a1bcc81d4fbd0e501680b5d088d690c6cfbc02dc99d\n",
      "Successfully built segment-anything\n",
      "Installing collected packages: segment-anything\n",
      "Successfully installed segment-anything-1.0\n"
     ]
    },
    {
     "name": "stderr",
     "output_type": "stream",
     "text": [
      "  Running command git clone --filter=blob:none --quiet https://github.com/facebookresearch/segment-anything.git 'C:\\Users\\richa_0\\AppData\\Local\\Temp\\pip-req-build-q5ostivs'\n"
     ]
    }
   ],
   "source": [
    "!pip install git+https://github.com/facebookresearch/segment-anything.git"
   ]
  },
  {
   "cell_type": "code",
   "execution_count": 4,
   "metadata": {
    "colab": {
     "base_uri": "https://localhost:8080/"
    },
    "id": "sjPaUgCCO_UN",
    "outputId": "606039a4-7f7a-4306-ffca-a8ff66eab626"
   },
   "outputs": [],
   "source": [
    "!pip install -q  supervision jupyter_bbox_widget roboflow dataclasses-json"
   ]
  },
  {
   "cell_type": "markdown",
   "metadata": {
    "id": "qeRZ2RiwGzz7"
   },
   "source": [
    "#### Download SAM weights"
   ]
  },
  {
   "cell_type": "code",
   "execution_count": null,
   "metadata": {
    "colab": {
     "base_uri": "https://localhost:8080/"
    },
    "id": "WvmFI-e1PjE6",
    "outputId": "45fec68c-9423-4b1a-c0a9-cd4ab61754af"
   },
   "outputs": [],
   "source": [
    "!curl -O https://dl.fbaipublicfiles.com/segment_anything/sam_vit_h_4b8939.pth"
   ]
  },
  {
   "cell_type": "markdown",
   "metadata": {
    "id": "ks5PKNw_G8dh"
   },
   "source": [
    "## Setup Computer and Dependencies"
   ]
  },
  {
   "cell_type": "code",
   "execution_count": 1,
   "metadata": {
    "colab": {
     "base_uri": "https://localhost:8080/"
    },
    "id": "UwLbgdDVQhMS",
    "outputId": "003cd6b8-24e8-47e3-981b-5e1c21bf6b7a"
   },
   "outputs": [
    {
     "name": "stdout",
     "output_type": "stream",
     "text": [
      "2.2.0+cu118\n",
      "cuda:0\n"
     ]
    }
   ],
   "source": [
    "import torch\n",
    "print(torch.__version__)\n",
    "DEVICE = torch.device('cuda:0' if torch.cuda.is_available() else 'cpu')\n",
    "print(DEVICE)"
   ]
  },
  {
   "cell_type": "code",
   "execution_count": 2,
   "metadata": {},
   "outputs": [],
   "source": [
    "MODEL_TYPE = \"vit_h\"\n",
    "from segment_anything import sam_model_registry, SamAutomaticMaskGenerator, SamPredictor\n",
    "sam = sam_model_registry[MODEL_TYPE](checkpoint=r\"C:\\Users\\richa_0\\Documents\\Coral Research\\Machine Learning Models\\sam_vit_h_4b8939.pth\").to(device=DEVICE)"
   ]
  },
  {
   "cell_type": "code",
   "execution_count": 5,
   "metadata": {},
   "outputs": [
    {
     "name": "stdout",
     "output_type": "stream",
     "text": [
      "loading Roboflow workspace...\n",
      "loading Roboflow project...\n"
     ]
    }
   ],
   "source": [
    "rf = Roboflow(api_key=\"SsfDz85MaMV4PPpSPJLO\")\n",
    "project = rf.workspace().project(\"coral-finder\")\n",
    "model = project.version(3).model"
   ]
  },
  {
   "cell_type": "markdown",
   "metadata": {
    "id": "oVMUpajOHV9l"
   },
   "source": [
    "#### Add more dependencies"
   ]
  },
  {
   "cell_type": "code",
   "execution_count": 51,
   "metadata": {
    "id": "5hFeInNqGCgg"
   },
   "outputs": [],
   "source": [
    "import numpy as np\n",
    "from PIL import Image\n",
    "from PIL.ExifTags import TAGS\n",
    "import matplotlib.pyplot as plt\n",
    "import matplotlib.patches as patches \n",
    "import torchvision\n",
    "import os\n",
    "import ultralytics\n",
    "from ultralytics import YOLO\n",
    "from matplotlib import pyplot as plt\n",
    "import pandas as pd\n",
    "import torch\n",
    "import supervision as sv\n",
    "from roboflow import Roboflow\n",
    "import imageio.v3 as iio"
   ]
  },
  {
   "cell_type": "markdown",
   "metadata": {},
   "source": [
    "## Train Custom YOLO V8"
   ]
  },
  {
   "cell_type": "code",
   "execution_count": 4,
   "metadata": {},
   "outputs": [],
   "source": [
    "import yaml\n",
    "model = YOLO('yolov8n.pt')\n",
    "name = \"50_epochs-\"\n",
    "project = \"C:/Users/richa_0/Documents/Coral Research/Machine Learning Models/coral finder.v4i.yolov8/results\""
   ]
  },
  {
   "cell_type": "code",
   "execution_count": 5,
   "metadata": {},
   "outputs": [
    {
     "name": "stdout",
     "output_type": "stream",
     "text": [
      "New https://pypi.org/project/ultralytics/8.2.11 available 😃 Update with 'pip install -U ultralytics'\n",
      "Ultralytics YOLOv8.1.11 🚀 Python-3.10.13 torch-2.2.0+cu118 CUDA:0 (NVIDIA GeForce RTX 3070 Ti Laptop GPU, 8192MiB)\n",
      "\u001b[34m\u001b[1mengine\\trainer: \u001b[0mtask=detect, mode=train, model=yolov8n.pt, data=C:\\Users\\richa_0\\Documents\\Coral Research\\Machine Learning Models\\coral finder.v4i.yolov8\\data.yaml, epochs=50, time=None, patience=0, batch=4, imgsz=640, save=True, save_period=-1, cache=False, device=None, workers=8, project=C:/Users/richa_0/Documents/Coral Research/Machine Learning Models/coral finder.v4i.yolov8/results, name=50_epochs-, exist_ok=False, pretrained=True, optimizer=auto, verbose=True, seed=0, deterministic=True, single_cls=False, rect=False, cos_lr=False, close_mosaic=10, resume=False, amp=True, fraction=1.0, profile=False, freeze=None, multi_scale=False, overlap_mask=True, mask_ratio=4, dropout=0.0, val=True, split=val, save_json=False, save_hybrid=False, conf=None, iou=0.7, max_det=300, half=False, dnn=False, plots=True, source=None, vid_stride=1, stream_buffer=False, visualize=False, augment=False, agnostic_nms=False, classes=None, retina_masks=False, embed=None, show=False, save_frames=False, save_txt=False, save_conf=False, save_crop=False, show_labels=True, show_conf=True, show_boxes=True, line_width=None, format=torchscript, keras=False, optimize=False, int8=False, dynamic=False, simplify=False, opset=None, workspace=4, nms=False, lr0=0.01, lrf=0.01, momentum=0.937, weight_decay=0.0005, warmup_epochs=3.0, warmup_momentum=0.8, warmup_bias_lr=0.1, box=7.5, cls=0.5, dfl=1.5, pose=12.0, kobj=1.0, label_smoothing=0.0, nbs=64, hsv_h=0.015, hsv_s=0.7, hsv_v=0.4, degrees=0.0, translate=0.1, scale=0.5, shear=0.0, perspective=0.0, flipud=0.0, fliplr=0.5, mosaic=1.0, mixup=0.0, copy_paste=0.0, auto_augment=randaugment, erasing=0.4, crop_fraction=1.0, cfg=None, tracker=botsort.yaml, save_dir=C:\\Users\\richa_0\\Documents\\Coral Research\\Machine Learning Models\\coral finder.v4i.yolov8\\results\\50_epochs-\n",
      "Overriding model.yaml nc=80 with nc=1\n",
      "\n",
      "                   from  n    params  module                                       arguments                     \n",
      "  0                  -1  1       464  ultralytics.nn.modules.conv.Conv             [3, 16, 3, 2]                 \n",
      "  1                  -1  1      4672  ultralytics.nn.modules.conv.Conv             [16, 32, 3, 2]                \n",
      "  2                  -1  1      7360  ultralytics.nn.modules.block.C2f             [32, 32, 1, True]             \n",
      "  3                  -1  1     18560  ultralytics.nn.modules.conv.Conv             [32, 64, 3, 2]                \n",
      "  4                  -1  2     49664  ultralytics.nn.modules.block.C2f             [64, 64, 2, True]             \n",
      "  5                  -1  1     73984  ultralytics.nn.modules.conv.Conv             [64, 128, 3, 2]               \n",
      "  6                  -1  2    197632  ultralytics.nn.modules.block.C2f             [128, 128, 2, True]           \n",
      "  7                  -1  1    295424  ultralytics.nn.modules.conv.Conv             [128, 256, 3, 2]              \n",
      "  8                  -1  1    460288  ultralytics.nn.modules.block.C2f             [256, 256, 1, True]           \n",
      "  9                  -1  1    164608  ultralytics.nn.modules.block.SPPF            [256, 256, 5]                 \n",
      " 10                  -1  1         0  torch.nn.modules.upsampling.Upsample         [None, 2, 'nearest']          \n",
      " 11             [-1, 6]  1         0  ultralytics.nn.modules.conv.Concat           [1]                           \n",
      " 12                  -1  1    148224  ultralytics.nn.modules.block.C2f             [384, 128, 1]                 \n",
      " 13                  -1  1         0  torch.nn.modules.upsampling.Upsample         [None, 2, 'nearest']          \n",
      " 14             [-1, 4]  1         0  ultralytics.nn.modules.conv.Concat           [1]                           \n",
      " 15                  -1  1     37248  ultralytics.nn.modules.block.C2f             [192, 64, 1]                  \n",
      " 16                  -1  1     36992  ultralytics.nn.modules.conv.Conv             [64, 64, 3, 2]                \n",
      " 17            [-1, 12]  1         0  ultralytics.nn.modules.conv.Concat           [1]                           \n",
      " 18                  -1  1    123648  ultralytics.nn.modules.block.C2f             [192, 128, 1]                 \n",
      " 19                  -1  1    147712  ultralytics.nn.modules.conv.Conv             [128, 128, 3, 2]              \n",
      " 20             [-1, 9]  1         0  ultralytics.nn.modules.conv.Concat           [1]                           \n",
      " 21                  -1  1    493056  ultralytics.nn.modules.block.C2f             [384, 256, 1]                 \n",
      " 22        [15, 18, 21]  1    751507  ultralytics.nn.modules.head.Detect           [1, [64, 128, 256]]           \n",
      "Model summary: 225 layers, 3011043 parameters, 3011027 gradients, 8.2 GFLOPs\n",
      "\n",
      "Transferred 319/355 items from pretrained weights\n",
      "Freezing layer 'model.22.dfl.conv.weight'\n",
      "\u001b[34m\u001b[1mAMP: \u001b[0mrunning Automatic Mixed Precision (AMP) checks with YOLOv8n...\n",
      "\u001b[34m\u001b[1mAMP: \u001b[0mchecks passed ✅\n"
     ]
    },
    {
     "name": "stderr",
     "output_type": "stream",
     "text": [
      "\u001b[34m\u001b[1mtrain: \u001b[0mScanning C:\\Users\\richa_0\\Documents\\Coral Research\\Machine Learning Models\\coral finder.v4i.yolov8\\train\\labels... 609 images, 0 backgrounds, 0 corrupt: 100%|██████████| 609/609 [00:00<00:00, 1521.02it/s]\n"
     ]
    },
    {
     "name": "stdout",
     "output_type": "stream",
     "text": [
      "\u001b[34m\u001b[1mtrain: \u001b[0mNew cache created: C:\\Users\\richa_0\\Documents\\Coral Research\\Machine Learning Models\\coral finder.v4i.yolov8\\train\\labels.cache\n"
     ]
    },
    {
     "name": "stderr",
     "output_type": "stream",
     "text": [
      "\u001b[34m\u001b[1mval: \u001b[0mScanning C:\\Users\\richa_0\\Documents\\Coral Research\\Machine Learning Models\\coral finder.v4i.yolov8\\valid\\labels... 174 images, 0 backgrounds, 0 corrupt: 100%|██████████| 174/174 [00:00<00:00, 859.91it/s]"
     ]
    },
    {
     "name": "stdout",
     "output_type": "stream",
     "text": [
      "\u001b[34m\u001b[1mval: \u001b[0mNew cache created: C:\\Users\\richa_0\\Documents\\Coral Research\\Machine Learning Models\\coral finder.v4i.yolov8\\valid\\labels.cache\n"
     ]
    },
    {
     "name": "stderr",
     "output_type": "stream",
     "text": [
      "\n"
     ]
    },
    {
     "name": "stdout",
     "output_type": "stream",
     "text": [
      "Plotting labels to C:\\Users\\richa_0\\Documents\\Coral Research\\Machine Learning Models\\coral finder.v4i.yolov8\\results\\50_epochs-\\labels.jpg... \n",
      "\u001b[34m\u001b[1moptimizer:\u001b[0m 'optimizer=auto' found, ignoring 'lr0=0.01' and 'momentum=0.937' and determining best 'optimizer', 'lr0' and 'momentum' automatically... \n",
      "\u001b[34m\u001b[1moptimizer:\u001b[0m AdamW(lr=0.002, momentum=0.9) with parameter groups 57 weight(decay=0.0), 64 weight(decay=0.0005), 63 bias(decay=0.0)\n",
      "Image sizes 640 train, 640 val\n",
      "Using 8 dataloader workers\n",
      "Logging results to \u001b[1mC:\\Users\\richa_0\\Documents\\Coral Research\\Machine Learning Models\\coral finder.v4i.yolov8\\results\\50_epochs-\u001b[0m\n",
      "Starting training for 50 epochs...\n",
      "\n",
      "      Epoch    GPU_mem   box_loss   cls_loss   dfl_loss  Instances       Size\n"
     ]
    },
    {
     "name": "stderr",
     "output_type": "stream",
     "text": [
      "       1/50      3.56G     0.9874      1.832      1.232          4        640: 100%|██████████| 153/153 [00:11<00:00, 13.65it/s]\n",
      "                 Class     Images  Instances      Box(P          R      mAP50  mAP50-95): 100%|██████████| 22/22 [00:01<00:00, 16.86it/s]"
     ]
    },
    {
     "name": "stdout",
     "output_type": "stream",
     "text": [
      "                   all        174        174      0.928      0.845       0.91      0.677\n"
     ]
    },
    {
     "name": "stderr",
     "output_type": "stream",
     "text": [
      "\n"
     ]
    },
    {
     "name": "stdout",
     "output_type": "stream",
     "text": [
      "\n",
      "      Epoch    GPU_mem   box_loss   cls_loss   dfl_loss  Instances       Size\n"
     ]
    },
    {
     "name": "stderr",
     "output_type": "stream",
     "text": [
      "       2/50       3.5G      1.028       1.46      1.265          2        640: 100%|██████████| 153/153 [00:08<00:00, 17.03it/s]\n",
      "                 Class     Images  Instances      Box(P          R      mAP50  mAP50-95): 100%|██████████| 22/22 [00:01<00:00, 19.41it/s]"
     ]
    },
    {
     "name": "stdout",
     "output_type": "stream",
     "text": [
      "                   all        174        174      0.955      0.925       0.98      0.723\n"
     ]
    },
    {
     "name": "stderr",
     "output_type": "stream",
     "text": [
      "\n"
     ]
    },
    {
     "name": "stdout",
     "output_type": "stream",
     "text": [
      "\n",
      "      Epoch    GPU_mem   box_loss   cls_loss   dfl_loss  Instances       Size\n"
     ]
    },
    {
     "name": "stderr",
     "output_type": "stream",
     "text": [
      "       3/50       3.5G      1.082      1.309      1.304          2        640: 100%|██████████| 153/153 [00:09<00:00, 15.83it/s]\n",
      "                 Class     Images  Instances      Box(P          R      mAP50  mAP50-95): 100%|██████████| 22/22 [00:01<00:00, 14.52it/s]"
     ]
    },
    {
     "name": "stdout",
     "output_type": "stream",
     "text": [
      "                   all        174        174        0.9      0.883      0.952      0.683\n"
     ]
    },
    {
     "name": "stderr",
     "output_type": "stream",
     "text": [
      "\n"
     ]
    },
    {
     "name": "stdout",
     "output_type": "stream",
     "text": [
      "\n",
      "      Epoch    GPU_mem   box_loss   cls_loss   dfl_loss  Instances       Size\n"
     ]
    },
    {
     "name": "stderr",
     "output_type": "stream",
     "text": [
      "       4/50       3.5G      1.086      1.177      1.304          1        640: 100%|██████████| 153/153 [00:09<00:00, 16.13it/s]\n",
      "                 Class     Images  Instances      Box(P          R      mAP50  mAP50-95): 100%|██████████| 22/22 [00:01<00:00, 18.85it/s]"
     ]
    },
    {
     "name": "stdout",
     "output_type": "stream",
     "text": [
      "                   all        174        174       0.83      0.891      0.901      0.648\n"
     ]
    },
    {
     "name": "stderr",
     "output_type": "stream",
     "text": [
      "\n"
     ]
    },
    {
     "name": "stdout",
     "output_type": "stream",
     "text": [
      "\n",
      "      Epoch    GPU_mem   box_loss   cls_loss   dfl_loss  Instances       Size\n"
     ]
    },
    {
     "name": "stderr",
     "output_type": "stream",
     "text": [
      "       5/50       3.5G      1.063      1.037      1.258          0        640: 100%|██████████| 153/153 [00:09<00:00, 15.51it/s]\n",
      "                 Class     Images  Instances      Box(P          R      mAP50  mAP50-95): 100%|██████████| 22/22 [00:01<00:00, 18.87it/s]"
     ]
    },
    {
     "name": "stdout",
     "output_type": "stream",
     "text": [
      "                   all        174        174       0.97      0.914      0.971      0.726\n"
     ]
    },
    {
     "name": "stderr",
     "output_type": "stream",
     "text": [
      "\n"
     ]
    },
    {
     "name": "stdout",
     "output_type": "stream",
     "text": [
      "\n",
      "      Epoch    GPU_mem   box_loss   cls_loss   dfl_loss  Instances       Size\n"
     ]
    },
    {
     "name": "stderr",
     "output_type": "stream",
     "text": [
      "       6/50       3.5G      1.041     0.9211      1.259          1        640: 100%|██████████| 153/153 [00:09<00:00, 16.41it/s]\n",
      "                 Class     Images  Instances      Box(P          R      mAP50  mAP50-95): 100%|██████████| 22/22 [00:01<00:00, 19.43it/s]"
     ]
    },
    {
     "name": "stdout",
     "output_type": "stream",
     "text": [
      "                   all        174        174      0.963      0.954      0.974      0.751\n"
     ]
    },
    {
     "name": "stderr",
     "output_type": "stream",
     "text": [
      "\n"
     ]
    },
    {
     "name": "stdout",
     "output_type": "stream",
     "text": [
      "\n",
      "      Epoch    GPU_mem   box_loss   cls_loss   dfl_loss  Instances       Size\n"
     ]
    },
    {
     "name": "stderr",
     "output_type": "stream",
     "text": [
      "       7/50       3.5G      1.014     0.8488       1.25          2        640: 100%|██████████| 153/153 [00:09<00:00, 16.16it/s]\n",
      "                 Class     Images  Instances      Box(P          R      mAP50  mAP50-95): 100%|██████████| 22/22 [00:01<00:00, 21.40it/s]"
     ]
    },
    {
     "name": "stdout",
     "output_type": "stream",
     "text": [
      "                   all        174        174      0.959      0.943      0.982      0.756\n"
     ]
    },
    {
     "name": "stderr",
     "output_type": "stream",
     "text": [
      "\n"
     ]
    },
    {
     "name": "stdout",
     "output_type": "stream",
     "text": [
      "\n",
      "      Epoch    GPU_mem   box_loss   cls_loss   dfl_loss  Instances       Size\n"
     ]
    },
    {
     "name": "stderr",
     "output_type": "stream",
     "text": [
      "       8/50       3.5G      0.969     0.8055      1.228          4        640: 100%|██████████| 153/153 [00:09<00:00, 16.57it/s]\n",
      "                 Class     Images  Instances      Box(P          R      mAP50  mAP50-95): 100%|██████████| 22/22 [00:01<00:00, 19.40it/s]\n"
     ]
    },
    {
     "name": "stdout",
     "output_type": "stream",
     "text": [
      "                   all        174        174      0.976      0.953      0.984      0.737\n",
      "\n",
      "      Epoch    GPU_mem   box_loss   cls_loss   dfl_loss  Instances       Size\n"
     ]
    },
    {
     "name": "stderr",
     "output_type": "stream",
     "text": [
      "       9/50       3.5G     0.9791     0.7655      1.242          1        640: 100%|██████████| 153/153 [00:09<00:00, 15.66it/s]\n",
      "                 Class     Images  Instances      Box(P          R      mAP50  mAP50-95): 100%|██████████| 22/22 [00:01<00:00, 21.04it/s]"
     ]
    },
    {
     "name": "stdout",
     "output_type": "stream",
     "text": [
      "                   all        174        174      0.944      0.965      0.974      0.726\n"
     ]
    },
    {
     "name": "stderr",
     "output_type": "stream",
     "text": [
      "\n"
     ]
    },
    {
     "name": "stdout",
     "output_type": "stream",
     "text": [
      "\n",
      "      Epoch    GPU_mem   box_loss   cls_loss   dfl_loss  Instances       Size\n"
     ]
    },
    {
     "name": "stderr",
     "output_type": "stream",
     "text": [
      "      10/50       3.5G      0.936     0.7131      1.205          2        640: 100%|██████████| 153/153 [00:09<00:00, 16.50it/s]\n",
      "                 Class     Images  Instances      Box(P          R      mAP50  mAP50-95): 100%|██████████| 22/22 [00:01<00:00, 19.84it/s]"
     ]
    },
    {
     "name": "stdout",
     "output_type": "stream",
     "text": [
      "                   all        174        174      0.944      0.931      0.969      0.746\n"
     ]
    },
    {
     "name": "stderr",
     "output_type": "stream",
     "text": [
      "\n"
     ]
    },
    {
     "name": "stdout",
     "output_type": "stream",
     "text": [
      "\n",
      "      Epoch    GPU_mem   box_loss   cls_loss   dfl_loss  Instances       Size\n"
     ]
    },
    {
     "name": "stderr",
     "output_type": "stream",
     "text": [
      "      11/50       3.5G     0.9248     0.6892      1.233          4        640: 100%|██████████| 153/153 [00:09<00:00, 16.60it/s]\n",
      "                 Class     Images  Instances      Box(P          R      mAP50  mAP50-95): 100%|██████████| 22/22 [00:01<00:00, 20.65it/s]"
     ]
    },
    {
     "name": "stdout",
     "output_type": "stream",
     "text": [
      "                   all        174        174      0.984      0.943       0.98      0.769\n"
     ]
    },
    {
     "name": "stderr",
     "output_type": "stream",
     "text": [
      "\n"
     ]
    },
    {
     "name": "stdout",
     "output_type": "stream",
     "text": [
      "\n",
      "      Epoch    GPU_mem   box_loss   cls_loss   dfl_loss  Instances       Size\n"
     ]
    },
    {
     "name": "stderr",
     "output_type": "stream",
     "text": [
      "      12/50       3.5G      0.865     0.6497       1.15          1        640: 100%|██████████| 153/153 [00:09<00:00, 15.72it/s]\n",
      "                 Class     Images  Instances      Box(P          R      mAP50  mAP50-95): 100%|██████████| 22/22 [00:01<00:00, 18.75it/s]"
     ]
    },
    {
     "name": "stdout",
     "output_type": "stream",
     "text": [
      "                   all        174        174      0.982      0.961       0.98      0.768\n"
     ]
    },
    {
     "name": "stderr",
     "output_type": "stream",
     "text": [
      "\n"
     ]
    },
    {
     "name": "stdout",
     "output_type": "stream",
     "text": [
      "\n",
      "      Epoch    GPU_mem   box_loss   cls_loss   dfl_loss  Instances       Size\n"
     ]
    },
    {
     "name": "stderr",
     "output_type": "stream",
     "text": [
      "      13/50       3.5G     0.9309      0.642      1.185          4        640: 100%|██████████| 153/153 [00:10<00:00, 14.99it/s]\n",
      "                 Class     Images  Instances      Box(P          R      mAP50  mAP50-95): 100%|██████████| 22/22 [00:01<00:00, 15.02it/s]"
     ]
    },
    {
     "name": "stdout",
     "output_type": "stream",
     "text": [
      "                   all        174        174      0.982      0.954      0.982      0.752\n"
     ]
    },
    {
     "name": "stderr",
     "output_type": "stream",
     "text": [
      "\n"
     ]
    },
    {
     "name": "stdout",
     "output_type": "stream",
     "text": [
      "\n",
      "      Epoch    GPU_mem   box_loss   cls_loss   dfl_loss  Instances       Size\n"
     ]
    },
    {
     "name": "stderr",
     "output_type": "stream",
     "text": [
      "      14/50       3.5G     0.8896      0.674      1.186          1        640: 100%|██████████| 153/153 [00:12<00:00, 12.25it/s]\n",
      "                 Class     Images  Instances      Box(P          R      mAP50  mAP50-95): 100%|██████████| 22/22 [00:01<00:00, 17.62it/s]"
     ]
    },
    {
     "name": "stdout",
     "output_type": "stream",
     "text": [
      "                   all        174        174       0.98      0.966       0.99       0.76\n"
     ]
    },
    {
     "name": "stderr",
     "output_type": "stream",
     "text": [
      "\n"
     ]
    },
    {
     "name": "stdout",
     "output_type": "stream",
     "text": [
      "\n",
      "      Epoch    GPU_mem   box_loss   cls_loss   dfl_loss  Instances       Size\n"
     ]
    },
    {
     "name": "stderr",
     "output_type": "stream",
     "text": [
      "      15/50       3.5G     0.8835      0.624       1.16          4        640: 100%|██████████| 153/153 [00:10<00:00, 15.12it/s]\n",
      "                 Class     Images  Instances      Box(P          R      mAP50  mAP50-95): 100%|██████████| 22/22 [00:01<00:00, 19.36it/s]\n"
     ]
    },
    {
     "name": "stdout",
     "output_type": "stream",
     "text": [
      "                   all        174        174      0.959      0.983      0.991      0.777\n",
      "\n",
      "      Epoch    GPU_mem   box_loss   cls_loss   dfl_loss  Instances       Size\n"
     ]
    },
    {
     "name": "stderr",
     "output_type": "stream",
     "text": [
      "      16/50       3.5G      0.885     0.6326      1.174          4        640: 100%|██████████| 153/153 [00:10<00:00, 14.85it/s]\n",
      "                 Class     Images  Instances      Box(P          R      mAP50  mAP50-95): 100%|██████████| 22/22 [00:01<00:00, 18.14it/s]"
     ]
    },
    {
     "name": "stdout",
     "output_type": "stream",
     "text": [
      "                   all        174        174      0.982      0.954      0.985      0.777\n"
     ]
    },
    {
     "name": "stderr",
     "output_type": "stream",
     "text": [
      "\n"
     ]
    },
    {
     "name": "stdout",
     "output_type": "stream",
     "text": [
      "\n",
      "      Epoch    GPU_mem   box_loss   cls_loss   dfl_loss  Instances       Size\n"
     ]
    },
    {
     "name": "stderr",
     "output_type": "stream",
     "text": [
      "      17/50       3.5G     0.8524     0.5813      1.142          4        640: 100%|██████████| 153/153 [00:10<00:00, 14.33it/s]\n",
      "                 Class     Images  Instances      Box(P          R      mAP50  mAP50-95): 100%|██████████| 22/22 [00:01<00:00, 15.09it/s]"
     ]
    },
    {
     "name": "stdout",
     "output_type": "stream",
     "text": [
      "                   all        174        174      0.988      0.976       0.99      0.796\n"
     ]
    },
    {
     "name": "stderr",
     "output_type": "stream",
     "text": [
      "\n"
     ]
    },
    {
     "name": "stdout",
     "output_type": "stream",
     "text": [
      "\n",
      "      Epoch    GPU_mem   box_loss   cls_loss   dfl_loss  Instances       Size\n"
     ]
    },
    {
     "name": "stderr",
     "output_type": "stream",
     "text": [
      "      18/50       3.5G      0.865     0.5756      1.162          4        640: 100%|██████████| 153/153 [00:12<00:00, 11.77it/s]\n",
      "                 Class     Images  Instances      Box(P          R      mAP50  mAP50-95): 100%|██████████| 22/22 [00:01<00:00, 12.99it/s]"
     ]
    },
    {
     "name": "stdout",
     "output_type": "stream",
     "text": [
      "                   all        174        174      0.977      0.976      0.986       0.77\n"
     ]
    },
    {
     "name": "stderr",
     "output_type": "stream",
     "text": [
      "\n"
     ]
    },
    {
     "name": "stdout",
     "output_type": "stream",
     "text": [
      "\n",
      "      Epoch    GPU_mem   box_loss   cls_loss   dfl_loss  Instances       Size\n"
     ]
    },
    {
     "name": "stderr",
     "output_type": "stream",
     "text": [
      "      19/50       3.5G     0.8876     0.5759      1.174          1        640: 100%|██████████| 153/153 [00:13<00:00, 11.11it/s]\n",
      "                 Class     Images  Instances      Box(P          R      mAP50  mAP50-95): 100%|██████████| 22/22 [00:01<00:00, 12.17it/s]"
     ]
    },
    {
     "name": "stdout",
     "output_type": "stream",
     "text": [
      "                   all        174        174      0.983      0.973       0.99       0.78\n"
     ]
    },
    {
     "name": "stderr",
     "output_type": "stream",
     "text": [
      "\n"
     ]
    },
    {
     "name": "stdout",
     "output_type": "stream",
     "text": [
      "\n",
      "      Epoch    GPU_mem   box_loss   cls_loss   dfl_loss  Instances       Size\n"
     ]
    },
    {
     "name": "stderr",
     "output_type": "stream",
     "text": [
      "      20/50       3.5G     0.8339      0.574      1.148          1        640: 100%|██████████| 153/153 [00:12<00:00, 12.14it/s]\n",
      "                 Class     Images  Instances      Box(P          R      mAP50  mAP50-95): 100%|██████████| 22/22 [00:01<00:00, 13.28it/s]"
     ]
    },
    {
     "name": "stdout",
     "output_type": "stream",
     "text": [
      "                   all        174        174      0.961      0.966       0.98      0.768\n"
     ]
    },
    {
     "name": "stderr",
     "output_type": "stream",
     "text": [
      "\n"
     ]
    },
    {
     "name": "stdout",
     "output_type": "stream",
     "text": [
      "\n",
      "      Epoch    GPU_mem   box_loss   cls_loss   dfl_loss  Instances       Size\n"
     ]
    },
    {
     "name": "stderr",
     "output_type": "stream",
     "text": [
      "      21/50       3.5G     0.8644     0.5857      1.146          4        640: 100%|██████████| 153/153 [00:10<00:00, 14.51it/s]\n",
      "                 Class     Images  Instances      Box(P          R      mAP50  mAP50-95): 100%|██████████| 22/22 [00:01<00:00, 19.26it/s]\n"
     ]
    },
    {
     "name": "stdout",
     "output_type": "stream",
     "text": [
      "                   all        174        174       0.97      0.966      0.979      0.769\n",
      "\n",
      "      Epoch    GPU_mem   box_loss   cls_loss   dfl_loss  Instances       Size\n"
     ]
    },
    {
     "name": "stderr",
     "output_type": "stream",
     "text": [
      "      22/50       3.5G     0.8421     0.5477      1.138          1        640: 100%|██████████| 153/153 [00:09<00:00, 15.48it/s]\n",
      "                 Class     Images  Instances      Box(P          R      mAP50  mAP50-95): 100%|██████████| 22/22 [00:01<00:00, 19.85it/s]"
     ]
    },
    {
     "name": "stdout",
     "output_type": "stream",
     "text": [
      "                   all        174        174      0.983      0.971      0.988      0.771\n"
     ]
    },
    {
     "name": "stderr",
     "output_type": "stream",
     "text": [
      "\n"
     ]
    },
    {
     "name": "stdout",
     "output_type": "stream",
     "text": [
      "\n",
      "      Epoch    GPU_mem   box_loss   cls_loss   dfl_loss  Instances       Size\n"
     ]
    },
    {
     "name": "stderr",
     "output_type": "stream",
     "text": [
      "      23/50       3.5G     0.8387     0.5406      1.143          4        640: 100%|██████████| 153/153 [00:10<00:00, 14.95it/s]\n",
      "                 Class     Images  Instances      Box(P          R      mAP50  mAP50-95): 100%|██████████| 22/22 [00:01<00:00, 18.82it/s]"
     ]
    },
    {
     "name": "stdout",
     "output_type": "stream",
     "text": [
      "                   all        174        174      0.969      0.966       0.99      0.784\n"
     ]
    },
    {
     "name": "stderr",
     "output_type": "stream",
     "text": [
      "\n"
     ]
    },
    {
     "name": "stdout",
     "output_type": "stream",
     "text": [
      "\n",
      "      Epoch    GPU_mem   box_loss   cls_loss   dfl_loss  Instances       Size\n"
     ]
    },
    {
     "name": "stderr",
     "output_type": "stream",
     "text": [
      "      24/50       3.5G     0.7953     0.5118       1.14          2        640: 100%|██████████| 153/153 [00:10<00:00, 14.68it/s]\n",
      "                 Class     Images  Instances      Box(P          R      mAP50  mAP50-95): 100%|██████████| 22/22 [00:01<00:00, 18.05it/s]"
     ]
    },
    {
     "name": "stdout",
     "output_type": "stream",
     "text": [
      "                   all        174        174      0.966      0.966      0.986      0.798\n"
     ]
    },
    {
     "name": "stderr",
     "output_type": "stream",
     "text": [
      "\n"
     ]
    },
    {
     "name": "stdout",
     "output_type": "stream",
     "text": [
      "\n",
      "      Epoch    GPU_mem   box_loss   cls_loss   dfl_loss  Instances       Size\n"
     ]
    },
    {
     "name": "stderr",
     "output_type": "stream",
     "text": [
      "      25/50       3.5G     0.7597     0.5057      1.108          1        640: 100%|██████████| 153/153 [00:09<00:00, 15.75it/s]\n",
      "                 Class     Images  Instances      Box(P          R      mAP50  mAP50-95): 100%|██████████| 22/22 [00:01<00:00, 20.17it/s]\n"
     ]
    },
    {
     "name": "stdout",
     "output_type": "stream",
     "text": [
      "                   all        174        174      0.976      0.983      0.989      0.801\n",
      "\n",
      "      Epoch    GPU_mem   box_loss   cls_loss   dfl_loss  Instances       Size\n"
     ]
    },
    {
     "name": "stderr",
     "output_type": "stream",
     "text": [
      "      26/50       3.5G     0.7779     0.4957      1.131          1        640: 100%|██████████| 153/153 [00:10<00:00, 15.17it/s]\n",
      "                 Class     Images  Instances      Box(P          R      mAP50  mAP50-95): 100%|██████████| 22/22 [00:01<00:00, 19.72it/s]\n"
     ]
    },
    {
     "name": "stdout",
     "output_type": "stream",
     "text": [
      "                   all        174        174      0.972      0.983      0.988      0.812\n",
      "\n",
      "      Epoch    GPU_mem   box_loss   cls_loss   dfl_loss  Instances       Size\n"
     ]
    },
    {
     "name": "stderr",
     "output_type": "stream",
     "text": [
      "      27/50       3.5G      0.783     0.5113      1.115          2        640: 100%|██████████| 153/153 [00:11<00:00, 13.06it/s]\n",
      "                 Class     Images  Instances      Box(P          R      mAP50  mAP50-95): 100%|██████████| 22/22 [00:01<00:00, 16.04it/s]"
     ]
    },
    {
     "name": "stdout",
     "output_type": "stream",
     "text": [
      "                   all        174        174      0.971       0.97      0.983      0.788\n"
     ]
    },
    {
     "name": "stderr",
     "output_type": "stream",
     "text": [
      "\n"
     ]
    },
    {
     "name": "stdout",
     "output_type": "stream",
     "text": [
      "\n",
      "      Epoch    GPU_mem   box_loss   cls_loss   dfl_loss  Instances       Size\n"
     ]
    },
    {
     "name": "stderr",
     "output_type": "stream",
     "text": [
      "      28/50       3.5G     0.7896     0.4944       1.11          2        640: 100%|██████████| 153/153 [00:10<00:00, 14.11it/s]\n",
      "                 Class     Images  Instances      Box(P          R      mAP50  mAP50-95): 100%|██████████| 22/22 [00:01<00:00, 18.94it/s]"
     ]
    },
    {
     "name": "stdout",
     "output_type": "stream",
     "text": [
      "                   all        174        174      0.975      0.966      0.982      0.805\n"
     ]
    },
    {
     "name": "stderr",
     "output_type": "stream",
     "text": [
      "\n"
     ]
    },
    {
     "name": "stdout",
     "output_type": "stream",
     "text": [
      "\n",
      "      Epoch    GPU_mem   box_loss   cls_loss   dfl_loss  Instances       Size\n"
     ]
    },
    {
     "name": "stderr",
     "output_type": "stream",
     "text": [
      "      29/50       3.5G     0.7629     0.4909      1.114          1        640: 100%|██████████| 153/153 [00:12<00:00, 12.44it/s]\n",
      "                 Class     Images  Instances      Box(P          R      mAP50  mAP50-95): 100%|██████████| 22/22 [00:01<00:00, 18.72it/s]"
     ]
    },
    {
     "name": "stdout",
     "output_type": "stream",
     "text": [
      "                   all        174        174      0.986      0.971      0.987      0.814\n"
     ]
    },
    {
     "name": "stderr",
     "output_type": "stream",
     "text": [
      "\n"
     ]
    },
    {
     "name": "stdout",
     "output_type": "stream",
     "text": [
      "\n",
      "      Epoch    GPU_mem   box_loss   cls_loss   dfl_loss  Instances       Size\n"
     ]
    },
    {
     "name": "stderr",
     "output_type": "stream",
     "text": [
      "      30/50       3.5G     0.7676     0.4892      1.104          0        640: 100%|██████████| 153/153 [00:09<00:00, 15.66it/s]\n",
      "                 Class     Images  Instances      Box(P          R      mAP50  mAP50-95): 100%|██████████| 22/22 [00:01<00:00, 20.21it/s]\n"
     ]
    },
    {
     "name": "stdout",
     "output_type": "stream",
     "text": [
      "                   all        174        174      0.964      0.977       0.98      0.786\n",
      "\n",
      "      Epoch    GPU_mem   box_loss   cls_loss   dfl_loss  Instances       Size\n"
     ]
    },
    {
     "name": "stderr",
     "output_type": "stream",
     "text": [
      "      31/50       3.5G     0.8079     0.4868      1.125          1        640: 100%|██████████| 153/153 [00:09<00:00, 15.52it/s]\n",
      "                 Class     Images  Instances      Box(P          R      mAP50  mAP50-95): 100%|██████████| 22/22 [00:01<00:00, 19.87it/s]\n"
     ]
    },
    {
     "name": "stdout",
     "output_type": "stream",
     "text": [
      "                   all        174        174      0.966      0.982      0.989      0.813\n",
      "\n",
      "      Epoch    GPU_mem   box_loss   cls_loss   dfl_loss  Instances       Size\n"
     ]
    },
    {
     "name": "stderr",
     "output_type": "stream",
     "text": [
      "      32/50       3.5G     0.7658     0.4858      1.093          2        640: 100%|██████████| 153/153 [00:09<00:00, 15.44it/s]\n",
      "                 Class     Images  Instances      Box(P          R      mAP50  mAP50-95): 100%|██████████| 22/22 [00:01<00:00, 16.88it/s]"
     ]
    },
    {
     "name": "stdout",
     "output_type": "stream",
     "text": [
      "                   all        174        174      0.982      0.971      0.986      0.798\n"
     ]
    },
    {
     "name": "stderr",
     "output_type": "stream",
     "text": [
      "\n"
     ]
    },
    {
     "name": "stdout",
     "output_type": "stream",
     "text": [
      "\n",
      "      Epoch    GPU_mem   box_loss   cls_loss   dfl_loss  Instances       Size\n"
     ]
    },
    {
     "name": "stderr",
     "output_type": "stream",
     "text": [
      "      33/50       3.5G     0.7802     0.4797      1.117          1        640: 100%|██████████| 153/153 [00:11<00:00, 13.80it/s]\n",
      "                 Class     Images  Instances      Box(P          R      mAP50  mAP50-95): 100%|██████████| 22/22 [00:01<00:00, 18.10it/s]"
     ]
    },
    {
     "name": "stdout",
     "output_type": "stream",
     "text": [
      "                   all        174        174      0.983      0.971      0.991      0.802\n"
     ]
    },
    {
     "name": "stderr",
     "output_type": "stream",
     "text": [
      "\n"
     ]
    },
    {
     "name": "stdout",
     "output_type": "stream",
     "text": [
      "\n",
      "      Epoch    GPU_mem   box_loss   cls_loss   dfl_loss  Instances       Size\n"
     ]
    },
    {
     "name": "stderr",
     "output_type": "stream",
     "text": [
      "      34/50       3.5G      0.732     0.4539      1.069          2        640: 100%|██████████| 153/153 [00:10<00:00, 15.27it/s]\n",
      "                 Class     Images  Instances      Box(P          R      mAP50  mAP50-95): 100%|██████████| 22/22 [00:01<00:00, 19.99it/s]"
     ]
    },
    {
     "name": "stdout",
     "output_type": "stream",
     "text": [
      "                   all        174        174      0.985      0.966      0.987      0.812\n"
     ]
    },
    {
     "name": "stderr",
     "output_type": "stream",
     "text": [
      "\n"
     ]
    },
    {
     "name": "stdout",
     "output_type": "stream",
     "text": [
      "\n",
      "      Epoch    GPU_mem   box_loss   cls_loss   dfl_loss  Instances       Size\n"
     ]
    },
    {
     "name": "stderr",
     "output_type": "stream",
     "text": [
      "      35/50       3.5G      0.759       0.46      1.116          2        640: 100%|██████████| 153/153 [00:10<00:00, 14.28it/s]\n",
      "                 Class     Images  Instances      Box(P          R      mAP50  mAP50-95): 100%|██████████| 22/22 [00:01<00:00, 18.84it/s]\n"
     ]
    },
    {
     "name": "stdout",
     "output_type": "stream",
     "text": [
      "                   all        174        174      0.976      0.977      0.989      0.807\n",
      "\n",
      "      Epoch    GPU_mem   box_loss   cls_loss   dfl_loss  Instances       Size\n"
     ]
    },
    {
     "name": "stderr",
     "output_type": "stream",
     "text": [
      "      36/50       3.5G      0.761     0.4495       1.11          1        640: 100%|██████████| 153/153 [00:09<00:00, 15.79it/s]\n",
      "                 Class     Images  Instances      Box(P          R      mAP50  mAP50-95): 100%|██████████| 22/22 [00:01<00:00, 18.70it/s]"
     ]
    },
    {
     "name": "stdout",
     "output_type": "stream",
     "text": [
      "                   all        174        174      0.977      0.982      0.986      0.821\n"
     ]
    },
    {
     "name": "stderr",
     "output_type": "stream",
     "text": [
      "\n"
     ]
    },
    {
     "name": "stdout",
     "output_type": "stream",
     "text": [
      "\n",
      "      Epoch    GPU_mem   box_loss   cls_loss   dfl_loss  Instances       Size\n"
     ]
    },
    {
     "name": "stderr",
     "output_type": "stream",
     "text": [
      "      37/50       3.5G     0.7491     0.4488      1.096          1        640: 100%|██████████| 153/153 [00:10<00:00, 14.85it/s]\n",
      "                 Class     Images  Instances      Box(P          R      mAP50  mAP50-95): 100%|██████████| 22/22 [00:01<00:00, 17.41it/s]"
     ]
    },
    {
     "name": "stdout",
     "output_type": "stream",
     "text": [
      "                   all        174        174      0.966      0.966      0.987      0.806\n"
     ]
    },
    {
     "name": "stderr",
     "output_type": "stream",
     "text": [
      "\n"
     ]
    },
    {
     "name": "stdout",
     "output_type": "stream",
     "text": [
      "\n",
      "      Epoch    GPU_mem   box_loss   cls_loss   dfl_loss  Instances       Size\n"
     ]
    },
    {
     "name": "stderr",
     "output_type": "stream",
     "text": [
      "      38/50       3.5G     0.7231     0.4449      1.078          1        640: 100%|██████████| 153/153 [00:10<00:00, 14.26it/s]\n",
      "                 Class     Images  Instances      Box(P          R      mAP50  mAP50-95): 100%|██████████| 22/22 [00:01<00:00, 17.37it/s]"
     ]
    },
    {
     "name": "stdout",
     "output_type": "stream",
     "text": [
      "                   all        174        174      0.977      0.974      0.987      0.807\n"
     ]
    },
    {
     "name": "stderr",
     "output_type": "stream",
     "text": [
      "\n"
     ]
    },
    {
     "name": "stdout",
     "output_type": "stream",
     "text": [
      "\n",
      "      Epoch    GPU_mem   box_loss   cls_loss   dfl_loss  Instances       Size\n"
     ]
    },
    {
     "name": "stderr",
     "output_type": "stream",
     "text": [
      "      39/50       3.5G     0.7165     0.4511      1.077          3        640: 100%|██████████| 153/153 [00:11<00:00, 13.23it/s]\n",
      "                 Class     Images  Instances      Box(P          R      mAP50  mAP50-95): 100%|██████████| 22/22 [00:01<00:00, 20.50it/s]"
     ]
    },
    {
     "name": "stdout",
     "output_type": "stream",
     "text": [
      "                   all        174        174      0.977      0.975      0.984      0.808\n"
     ]
    },
    {
     "name": "stderr",
     "output_type": "stream",
     "text": [
      "\n"
     ]
    },
    {
     "name": "stdout",
     "output_type": "stream",
     "text": [
      "\n",
      "      Epoch    GPU_mem   box_loss   cls_loss   dfl_loss  Instances       Size\n"
     ]
    },
    {
     "name": "stderr",
     "output_type": "stream",
     "text": [
      "      40/50       3.5G     0.7234     0.4254      1.087          1        640: 100%|██████████| 153/153 [00:09<00:00, 15.30it/s]\n",
      "                 Class     Images  Instances      Box(P          R      mAP50  mAP50-95): 100%|██████████| 22/22 [00:01<00:00, 19.86it/s]"
     ]
    },
    {
     "name": "stdout",
     "output_type": "stream",
     "text": [
      "                   all        174        174       0.97      0.983      0.982       0.82\n"
     ]
    },
    {
     "name": "stderr",
     "output_type": "stream",
     "text": [
      "\n"
     ]
    },
    {
     "name": "stdout",
     "output_type": "stream",
     "text": [
      "Closing dataloader mosaic\n",
      "\n",
      "      Epoch    GPU_mem   box_loss   cls_loss   dfl_loss  Instances       Size\n"
     ]
    },
    {
     "name": "stderr",
     "output_type": "stream",
     "text": [
      "      41/50       3.5G     0.6417     0.3639      1.023          1        640: 100%|██████████| 153/153 [00:09<00:00, 15.58it/s]\n",
      "                 Class     Images  Instances      Box(P          R      mAP50  mAP50-95): 100%|██████████| 22/22 [00:00<00:00, 22.04it/s]"
     ]
    },
    {
     "name": "stdout",
     "output_type": "stream",
     "text": [
      "                   all        174        174      0.985      0.971      0.976        0.8\n"
     ]
    },
    {
     "name": "stderr",
     "output_type": "stream",
     "text": [
      "\n"
     ]
    },
    {
     "name": "stdout",
     "output_type": "stream",
     "text": [
      "\n",
      "      Epoch    GPU_mem   box_loss   cls_loss   dfl_loss  Instances       Size\n"
     ]
    },
    {
     "name": "stderr",
     "output_type": "stream",
     "text": [
      "      42/50       3.5G     0.6241     0.3416      1.007          1        640: 100%|██████████| 153/153 [00:08<00:00, 17.33it/s]\n",
      "                 Class     Images  Instances      Box(P          R      mAP50  mAP50-95): 100%|██████████| 22/22 [00:01<00:00, 21.07it/s]"
     ]
    },
    {
     "name": "stdout",
     "output_type": "stream",
     "text": [
      "                   all        174        174      0.987      0.971       0.99      0.824\n"
     ]
    },
    {
     "name": "stderr",
     "output_type": "stream",
     "text": [
      "\n"
     ]
    },
    {
     "name": "stdout",
     "output_type": "stream",
     "text": [
      "\n",
      "      Epoch    GPU_mem   box_loss   cls_loss   dfl_loss  Instances       Size\n"
     ]
    },
    {
     "name": "stderr",
     "output_type": "stream",
     "text": [
      "      43/50       3.5G     0.6141     0.3435      1.007          1        640: 100%|██████████| 153/153 [00:08<00:00, 17.92it/s]\n",
      "                 Class     Images  Instances      Box(P          R      mAP50  mAP50-95): 100%|██████████| 22/22 [00:01<00:00, 20.82it/s]"
     ]
    },
    {
     "name": "stdout",
     "output_type": "stream",
     "text": [
      "                   all        174        174      0.961       0.98      0.986      0.821\n"
     ]
    },
    {
     "name": "stderr",
     "output_type": "stream",
     "text": [
      "\n"
     ]
    },
    {
     "name": "stdout",
     "output_type": "stream",
     "text": [
      "\n",
      "      Epoch    GPU_mem   box_loss   cls_loss   dfl_loss  Instances       Size\n"
     ]
    },
    {
     "name": "stderr",
     "output_type": "stream",
     "text": [
      "      44/50       3.5G     0.5997     0.3263     0.9861          1        640: 100%|██████████| 153/153 [00:08<00:00, 17.05it/s]\n",
      "                 Class     Images  Instances      Box(P          R      mAP50  mAP50-95): 100%|██████████| 22/22 [00:01<00:00, 20.18it/s]\n"
     ]
    },
    {
     "name": "stdout",
     "output_type": "stream",
     "text": [
      "                   all        174        174      0.977      0.977      0.989      0.814\n",
      "\n",
      "      Epoch    GPU_mem   box_loss   cls_loss   dfl_loss  Instances       Size\n"
     ]
    },
    {
     "name": "stderr",
     "output_type": "stream",
     "text": [
      "      45/50       3.5G     0.6057     0.3242     0.9822          1        640: 100%|██████████| 153/153 [00:09<00:00, 15.52it/s]\n",
      "                 Class     Images  Instances      Box(P          R      mAP50  mAP50-95): 100%|██████████| 22/22 [00:01<00:00, 20.97it/s]"
     ]
    },
    {
     "name": "stdout",
     "output_type": "stream",
     "text": [
      "                   all        174        174      0.987      0.966       0.99      0.825\n"
     ]
    },
    {
     "name": "stderr",
     "output_type": "stream",
     "text": [
      "\n"
     ]
    },
    {
     "name": "stdout",
     "output_type": "stream",
     "text": [
      "\n",
      "      Epoch    GPU_mem   box_loss   cls_loss   dfl_loss  Instances       Size\n"
     ]
    },
    {
     "name": "stderr",
     "output_type": "stream",
     "text": [
      "      46/50       3.5G     0.5866     0.3126     0.9685          1        640: 100%|██████████| 153/153 [00:10<00:00, 14.48it/s]\n",
      "                 Class     Images  Instances      Box(P          R      mAP50  mAP50-95): 100%|██████████| 22/22 [00:01<00:00, 17.64it/s]"
     ]
    },
    {
     "name": "stdout",
     "output_type": "stream",
     "text": [
      "                   all        174        174      0.976      0.977      0.992      0.833\n"
     ]
    },
    {
     "name": "stderr",
     "output_type": "stream",
     "text": [
      "\n"
     ]
    },
    {
     "name": "stdout",
     "output_type": "stream",
     "text": [
      "\n",
      "      Epoch    GPU_mem   box_loss   cls_loss   dfl_loss  Instances       Size\n"
     ]
    },
    {
     "name": "stderr",
     "output_type": "stream",
     "text": [
      "      47/50       3.5G     0.5879     0.3134     0.9814          1        640: 100%|██████████| 153/153 [00:10<00:00, 14.31it/s]\n",
      "                 Class     Images  Instances      Box(P          R      mAP50  mAP50-95): 100%|██████████| 22/22 [00:01<00:00, 16.93it/s]"
     ]
    },
    {
     "name": "stdout",
     "output_type": "stream",
     "text": [
      "                   all        174        174      0.972      0.981      0.991      0.833\n"
     ]
    },
    {
     "name": "stderr",
     "output_type": "stream",
     "text": [
      "\n"
     ]
    },
    {
     "name": "stdout",
     "output_type": "stream",
     "text": [
      "\n",
      "      Epoch    GPU_mem   box_loss   cls_loss   dfl_loss  Instances       Size\n"
     ]
    },
    {
     "name": "stderr",
     "output_type": "stream",
     "text": [
      "      48/50       3.5G     0.5756     0.3073     0.9689          1        640: 100%|██████████| 153/153 [00:10<00:00, 14.72it/s]\n",
      "                 Class     Images  Instances      Box(P          R      mAP50  mAP50-95): 100%|██████████| 22/22 [00:01<00:00, 19.59it/s]"
     ]
    },
    {
     "name": "stdout",
     "output_type": "stream",
     "text": [
      "                   all        174        174      0.988      0.974       0.99      0.831\n"
     ]
    },
    {
     "name": "stderr",
     "output_type": "stream",
     "text": [
      "\n"
     ]
    },
    {
     "name": "stdout",
     "output_type": "stream",
     "text": [
      "\n",
      "      Epoch    GPU_mem   box_loss   cls_loss   dfl_loss  Instances       Size\n"
     ]
    },
    {
     "name": "stderr",
     "output_type": "stream",
     "text": [
      "      49/50       3.5G     0.5647     0.2957     0.9715          1        640: 100%|██████████| 153/153 [00:09<00:00, 15.62it/s]\n",
      "                 Class     Images  Instances      Box(P          R      mAP50  mAP50-95): 100%|██████████| 22/22 [00:01<00:00, 18.92it/s]"
     ]
    },
    {
     "name": "stdout",
     "output_type": "stream",
     "text": [
      "                   all        174        174      0.983      0.974       0.99      0.832\n"
     ]
    },
    {
     "name": "stderr",
     "output_type": "stream",
     "text": [
      "\n"
     ]
    },
    {
     "name": "stdout",
     "output_type": "stream",
     "text": [
      "\n",
      "      Epoch    GPU_mem   box_loss   cls_loss   dfl_loss  Instances       Size\n"
     ]
    },
    {
     "name": "stderr",
     "output_type": "stream",
     "text": [
      "      50/50       3.5G     0.5689     0.2896      0.975          1        640: 100%|██████████| 153/153 [00:10<00:00, 15.27it/s]\n",
      "                 Class     Images  Instances      Box(P          R      mAP50  mAP50-95): 100%|██████████| 22/22 [00:01<00:00, 20.07it/s]"
     ]
    },
    {
     "name": "stdout",
     "output_type": "stream",
     "text": [
      "                   all        174        174      0.987      0.977      0.991      0.833\n"
     ]
    },
    {
     "name": "stderr",
     "output_type": "stream",
     "text": [
      "\n"
     ]
    },
    {
     "name": "stdout",
     "output_type": "stream",
     "text": [
      "\n",
      "50 epochs completed in 0.176 hours.\n",
      "Optimizer stripped from C:\\Users\\richa_0\\Documents\\Coral Research\\Machine Learning Models\\coral finder.v4i.yolov8\\results\\50_epochs-\\weights\\last.pt, 6.3MB\n",
      "Optimizer stripped from C:\\Users\\richa_0\\Documents\\Coral Research\\Machine Learning Models\\coral finder.v4i.yolov8\\results\\50_epochs-\\weights\\best.pt, 6.3MB\n",
      "\n",
      "Validating C:\\Users\\richa_0\\Documents\\Coral Research\\Machine Learning Models\\coral finder.v4i.yolov8\\results\\50_epochs-\\weights\\best.pt...\n",
      "Ultralytics YOLOv8.1.11 🚀 Python-3.10.13 torch-2.2.0+cu118 CUDA:0 (NVIDIA GeForce RTX 3070 Ti Laptop GPU, 8192MiB)\n",
      "Model summary (fused): 168 layers, 3005843 parameters, 0 gradients, 8.1 GFLOPs\n"
     ]
    },
    {
     "name": "stderr",
     "output_type": "stream",
     "text": [
      "                 Class     Images  Instances      Box(P          R      mAP50  mAP50-95): 100%|██████████| 22/22 [00:01<00:00, 17.76it/s]\n"
     ]
    },
    {
     "name": "stdout",
     "output_type": "stream",
     "text": [
      "                   all        174        174      0.987      0.977      0.991      0.833\n",
      "Speed: 0.3ms preprocess, 1.7ms inference, 0.0ms loss, 1.2ms postprocess per image\n",
      "Results saved to \u001b[1mC:\\Users\\richa_0\\Documents\\Coral Research\\Machine Learning Models\\coral finder.v4i.yolov8\\results\\50_epochs-\u001b[0m\n"
     ]
    }
   ],
   "source": [
    "results = model.train(data=r\"C:\\Users\\richa_0\\Documents\\Coral Research\\Machine Learning Models\\coral finder.v4i.yolov8\\data.yaml\",\n",
    "                      project=project,\n",
    "                      name=name,\n",
    "                      epochs=50,\n",
    "                      patience=0, #I am setting patience=0 to disable early stopping.\n",
    "                      batch=4,\n",
    "                      imgsz=640)"
   ]
  },
  {
   "cell_type": "markdown",
   "metadata": {},
   "source": [
    "## Define Methods"
   ]
  },
  {
   "cell_type": "code",
   "execution_count": 53,
   "metadata": {},
   "outputs": [],
   "source": [
    "def show_mask(mask, ax, random_color=False):\n",
    "    if random_color:\n",
    "        color = np.concatenate([np.random.random(3), np.array([0.6])], axis=0)\n",
    "    else:\n",
    "        color = np.array([30/255, 144/255, 255/255, 0.2]) #0.6\n",
    "    h, w = mask.shape[-2:]\n",
    "    mask_image = mask.reshape(h, w, 1) * color.reshape(1, 1, -1)\n",
    "    ax.imshow(mask_image)\n",
    "\n",
    "def show_points(coords, labels, ax, marker_size=375): #Extra method for the SAM inputs that we don't use\n",
    "    pos_points = coords[labels==1]\n",
    "    neg_points = coords[labels==0]\n",
    "    ax.scatter(pos_points[:, 0], pos_points[:, 1], color='green', marker='*', s=marker_size, edgecolor='white', linewidth=1.25)\n",
    "    ax.scatter(neg_points[:, 0], neg_points[:, 1], color='red', marker='*', s=marker_size, edgecolor='white', linewidth=1.25)\n",
    "\n",
    "def show_box(box, ax): #For debugging purposes to check if YOLO V8 is working\n",
    "    x0, y0 = box[0], box[1]\n",
    "    w, h = box[2] - box[0], box[3] - box[1]\n",
    "    rect = plt.Rectangle((x0, y0), w, h, edgecolor='green', facecolor=(0,0,0,0), lw=2)\n",
    "    ax.add_patch(rect)\n",
    "\n",
    "def get_area(mask): #Prints the mask onto the image in a blue color\n",
    "    true_count = np.count_nonzero(mask)\n",
    "    return true_count\n",
    "\"\"\"\n",
    "def get_physical(image):\n",
    "    physical_size_x = 1\n",
    "    physical_size_y = 1\n",
    "    exifdata = image.getexif()\n",
    "    for tagid in exifdata:\n",
    "        tagname = TAGS.get(tagid, tagid)\n",
    "        if tagname == \"ImageDescription\":\n",
    "            try:\n",
    "                value = exifdata.get(tagid)\n",
    "                start_index_x = value.find('PhysicalSizeX=\"') + len('PhysicalSizeX=\"')\n",
    "                end_index_x = value.find('\"', start_index_x)\n",
    "                physical_size_x = value[start_index_x:end_index_x]\n",
    "                start_index_x_unit = value.find('PhysicalSizeXUnit=\"') + len('PhysicalSizeXUnit=\"')\n",
    "                end_index_x_unit = value.find('\"', start_index_x_unit)\n",
    "                physical_size_x_unit = value[start_index_x_unit:end_index_x_unit]\n",
    "                start_index_y = value.find('PhysicalSizeY=\"') + len('PhysicalSizeY=\"')\n",
    "                end_index_y = value.find('\"', start_index_y)\n",
    "                physical_size_y = value[start_index_y:end_index_y]\n",
    "                start_index_y_unit = value.find('PhysicalSizeYUnit=\"') + len('PhysicalSizeYUnit=\"')\n",
    "                end_index_y_unit = value.find('\"', start_index_y_unit)\n",
    "                physical_size_y_unit = value[start_index_y_unit:end_index_y_unit]\n",
    "            except Exception as e:\n",
    "                print(f'Failed to process {image}: {e}')\n",
    "                continue\n",
    "    return float(physical_size_x), float(physical_size_y)\n",
    "\"\"\"\n",
    "\n",
    "def get_physical(image_path):\n",
    "    physical_size_x = 1\n",
    "    physical_size_y = 1\n",
    "    try:\n",
    "        metadata = iio.immeta(image_path)\n",
    "        physical_size_x = metadata.get('pixelsizex', 'N/A')\n",
    "        physical_size_y = metadata.get('pixelsizey', 'N/A')\n",
    "        physical_size_x = float((\"%.17f\" % physical_size_x).rstrip('0').rstrip('.')) * 10 ** 6\n",
    "        physical_size_y = float((\"%.17f\" % physical_size_y).rstrip('0').rstrip('.')) * 10 ** 6\n",
    "    except Exception as e:\n",
    "        print(f'Failed to retrieve metadata from {image_path}: {e}')\n",
    "    return float(physical_size_x), float(physical_size_y)"
   ]
  },
  {
   "cell_type": "code",
   "execution_count": 57,
   "metadata": {},
   "outputs": [],
   "source": [
    "def execute_block1(image_path):\n",
    "    image = Image.open(image_path)\n",
    "    image_np = np.array(image)\n",
    "    height, width, channels = image_np.shape\n",
    "    model = YOLO(\"C:/Users/richa_0/Documents/Coral Research/Machine Learning Models/coral finder.v4i.yolov8/results/50_epochs-/weights/best.pt\") #Coral_Area_Generator_V1.yolov8\n",
    "    results = model.predict(image, verbose=False)\n",
    "    for result in results:\n",
    "        boxes = result.boxes\n",
    "    if boxes.xyxy.tolist():\n",
    "        bbox = boxes.xyxy.tolist()[0]\n",
    "    else:\n",
    "        bbox = [0, width, 0, height]\n",
    "    return image, bbox\n",
    "\n",
    "def execute_block2(image, bbox):\n",
    "    predictor = SamPredictor(sam)\n",
    "    predictor.set_image(np.array(image))\n",
    "    input_box = np.array(bbox)\n",
    "    masks, _, _ = predictor.predict(\n",
    "        point_coords=None,\n",
    "        point_labels=None,\n",
    "        box=input_box[None, :],\n",
    "    multimask_output=False,\n",
    "    )\n",
    "    return masks\n",
    "\n",
    "def execute_block3(image, bbox, masks, annotated_path, index):\n",
    "    input_box = np.array(bbox)\n",
    "    image_np = np.array(image)\n",
    "    height, width, channels = image_np.shape\n",
    "    scale_factor = 100\n",
    "    fig, ax = plt.subplots(figsize=(width / scale_factor, height / scale_factor))\n",
    "    ax.set_position([0, 0, 1, 1])\n",
    "    ax.set_axis_off()\n",
    "    ax.imshow(image, aspect='auto')\n",
    "    show_mask(masks[0], ax)\n",
    "    show_box(input_box, ax)\n",
    "    fig.savefig(annotated_path, dpi=100)\n",
    "    plt.close(fig)\n",
    "    pixels = get_area(masks[0])\n",
    "    return pixels"
   ]
  },
  {
   "cell_type": "markdown",
   "metadata": {},
   "source": [
    "## Define Important Variables"
   ]
  },
  {
   "cell_type": "code",
   "execution_count": 27,
   "metadata": {},
   "outputs": [],
   "source": [
    "folder_read_paths = [\n",
    "    \"C:/Users/richa_0/Documents/Coral Research/Images/Original_Raw_95_TIF\",\n",
    "    #\"/content/gdrive/MyDrive/Coral Area Generator V1 Folder/1-100/\",\n",
    "    #\"/content/gdrive/MyDrive/Coral Area Generator V1 Folder/101-200/\",\n",
    "    #\"/content/gdrive/MyDrive/Coral Area Generator V1 Folder/201-300/\",\n",
    "    #\"/content/gdrive/MyDrive/Coral Area Generator V1 Folder/301-400/\",\n",
    "    #\"/content/gdrive/MyDrive/Coral Area Generator V1 Folder/401-500/\",\n",
    "    #\"/content/gdrive/MyDrive/Coral Area Generator V1 Folder/501-600/\",\n",
    "    #\"/content/gdrive/MyDrive/Coral Area Generator V1 Folder/601-700/\",\n",
    "    #\"/content/gdrive/MyDrive/Coral Area Generator V1 Folder/701-783/\"\n",
    "]\n",
    "folder_write_path = \"C:/Users/richa_0/Documents/Coral Research/Code Output/\"\n",
    "csv_path = folder_write_path + \"coral_areas_output.csv\"\n",
    "columns = [\"Folder\", \"Image Name\", \"Pixel Area\", \"Pixel Size X\", \"Pixel Size Y\", \"µm^2\"]"
   ]
  },
  {
   "cell_type": "markdown",
   "metadata": {},
   "source": [
    "## Run Area Generator"
   ]
  },
  {
   "cell_type": "code",
   "execution_count": 58,
   "metadata": {},
   "outputs": [
    {
     "name": "stdout",
     "output_type": "stream",
     "text": [
      "Folder: Original_Raw_95_TIF\n",
      "Image Name: 101_1_20230925.tif\n",
      "Bounding Box: [936.5484619140625, 655.83935546875, 1296.239501953125, 989.2706298828125]\n",
      "Pixels: 86995\n",
      "Pixel Size X: 2.15891138174\n",
      "Pixel Size Y: 2.15891138174\n",
      "Area: 405474.8523241958 µm^2\n",
      "\n",
      "Folder: Original_Raw_95_TIF\n",
      "Image Name: 101_2_20230925.tif\n",
      "Bounding Box: [932.1730346679688, 631.3567504882812, 1256.83203125, 992.5339965820312]\n",
      "Pixels: 90084\n",
      "Pixel Size X: 2.15891138174\n",
      "Pixel Size Y: 2.15891138174\n",
      "Area: 419872.3673403397 µm^2\n",
      "\n",
      "Folder: Original_Raw_95_TIF\n",
      "Image Name: 101_3_20230925.tif\n",
      "Bounding Box: [956.2066650390625, 625.7059936523438, 1257.623046875, 979.8914184570312]\n",
      "Pixels: 83890\n",
      "Pixel Size X: 2.15891138174\n",
      "Pixel Size Y: 2.15891138174\n",
      "Area: 391002.7629343846 µm^2\n",
      "\n",
      "Folder: Original_Raw_95_TIF\n",
      "Image Name: 101_4_20230925.tif\n",
      "Bounding Box: [803.6498413085938, 568.1477661132812, 1143.5340576171875, 935.6941528320312]\n",
      "Pixels: 97438\n",
      "Pixel Size X: 2.15891138174\n",
      "Pixel Size Y: 2.15891138174\n",
      "Area: 454148.61383717443 µm^2\n",
      "\n",
      "Folder: Original_Raw_95_TIF\n",
      "Image Name: 102_1_20230925.tif\n",
      "Bounding Box: [915.4454345703125, 639.3196411132812, 1272.9051513671875, 988.53466796875]\n",
      "Pixels: 98052\n",
      "Pixel Size X: 2.15891138174\n",
      "Pixel Size Y: 2.15891138174\n",
      "Area: 457010.40542665723 µm^2\n",
      "\n",
      "Folder: Original_Raw_95_TIF\n",
      "Image Name: 102_2_20230925.tif\n",
      "Bounding Box: [1017.2392578125, 566.3263549804688, 1371.2633056640625, 934.7262573242188]\n",
      "Pixels: 100039\n",
      "Pixel Size X: 2.15891138174\n",
      "Pixel Size Y: 2.15891138174\n",
      "Area: 466271.61045646557 µm^2\n",
      "\n",
      "Folder: Original_Raw_95_TIF\n",
      "Image Name: 102_3_20230925.tif\n",
      "Bounding Box: [882.32080078125, 787.1026000976562, 1126.1893310546875, 1037.3377685546875]\n",
      "Pixels: 48729\n",
      "Pixel Size X: 2.15891138174\n",
      "Pixel Size Y: 2.15891138174\n",
      "Area: 227120.9159021293 µm^2\n",
      "\n",
      "Folder: Original_Raw_95_TIF\n",
      "Image Name: 102_4_20230925.tif\n",
      "Bounding Box: [880.16259765625, 691.88623046875, 1061.1947021484375, 869.2161254882812]\n",
      "Pixels: 24456\n",
      "Pixel Size X: 2.15891138174\n",
      "Pixel Size Y: 2.15891138174\n",
      "Area: 113986.93015047454 µm^2\n",
      "\n",
      "Folder: Original_Raw_95_TIF\n",
      "Image Name: 104_1_20230925.tif\n",
      "Bounding Box: [763.4393920898438, 640.78955078125, 1078.2659912109375, 949.5092163085938]\n",
      "Pixels: 73960\n",
      "Pixel Size X: 2.15891138174\n",
      "Pixel Size Y: 2.15891138174\n",
      "Area: 344720.0422771139 µm^2\n",
      "\n",
      "Folder: Original_Raw_95_TIF\n",
      "Image Name: 104_2_20230925.tif\n",
      "Bounding Box: [870.9279174804688, 671.3007202148438, 1163.5814208984375, 1011.7053833007812]\n",
      "Pixels: 74052\n",
      "Pixel Size X: 2.15891138174\n",
      "Pixel Size Y: 2.15891138174\n",
      "Area: 345148.84492570086 µm^2\n",
      "\n",
      "Folder: Original_Raw_95_TIF\n",
      "Image Name: 104_3_20230925.tif\n",
      "Bounding Box: [903.787109375, 640.4280395507812, 1226.9468994140625, 955.1259765625]\n",
      "Pixels: 79777\n",
      "Pixel Size X: 2.15891138174\n",
      "Pixel Size Y: 2.15891138174\n",
      "Area: 371832.48800353316 µm^2\n",
      "\n",
      "Folder: Original_Raw_95_TIF\n",
      "Image Name: 105_1_20230925.tif\n",
      "Bounding Box: [899.9957275390625, 680.6961059570312, 1206.278564453125, 990.1982421875]\n",
      "Pixels: 76863\n",
      "Pixel Size X: 2.15891138174\n",
      "Pixel Size Y: 2.15891138174\n",
      "Area: 358250.6301993754 µm^2\n",
      "\n",
      "Folder: Original_Raw_95_TIF\n",
      "Image Name: 105_2_20230925.tif\n",
      "Bounding Box: [816.2435913085938, 526.2987670898438, 1099.8291015625, 817.580078125]\n",
      "Pixels: 55901\n",
      "Pixel Size X: 2.15891138174\n",
      "Pixel Size Y: 2.15891138174\n",
      "Area: 260548.8788984984 µm^2\n",
      "\n",
      "Folder: Original_Raw_95_TIF\n",
      "Image Name: 105_3_20230925.tif\n",
      "Bounding Box: [952.3326416015625, 705.7591552734375, 1220.3997802734375, 998.2560424804688]\n",
      "Pixels: 60055\n",
      "Pixel Size X: 2.15891138174\n",
      "Pixel Size Y: 2.15891138174\n",
      "Area: 279910.25066187227 µm^2\n",
      "\n",
      "Folder: Original_Raw_95_TIF\n",
      "Image Name: 107_1_20230925.tif\n",
      "Bounding Box: [935.1511840820312, 746.7745361328125, 1227.165283203125, 1011.8348999023438]\n",
      "Pixels: 70942\n",
      "Pixel Size X: 2.15891138174\n",
      "Pixel Size Y: 2.15891138174\n",
      "Area: 330653.4510441186 µm^2\n",
      "\n",
      "Folder: Original_Raw_95_TIF\n",
      "Image Name: 107_2_20230925.tif\n",
      "Bounding Box: [874.7197265625, 694.9415283203125, 1126.154296875, 965.94287109375]\n",
      "Pixels: 50476\n",
      "Pixel Size X: 2.15891138174\n",
      "Pixel Size Y: 2.15891138174\n",
      "Area: 235263.50532692808 µm^2\n",
      "\n",
      "Folder: Original_Raw_95_TIF\n",
      "Image Name: 107_3_20230925.tif\n",
      "Bounding Box: [854.7528686523438, 757.4560546875, 1145.520263671875, 1066.2054443359375]\n",
      "Pixels: 69472\n",
      "Pixel Size X: 2.15891138174\n",
      "Pixel Size Y: 2.15891138174\n",
      "Area: 323801.930463435 µm^2\n",
      "\n",
      "Folder: Original_Raw_95_TIF\n",
      "Image Name: 107_4_20230925.tif\n",
      "Bounding Box: [850.4547119140625, 640.6690673828125, 1159.169921875, 970.3388061523438]\n",
      "Pixels: 76742\n",
      "Pixel Size X: 2.15891138174\n",
      "Pixel Size Y: 2.15891138174\n",
      "Area: 357686.6614985164 µm^2\n",
      "\n",
      "Folder: Original_Raw_95_TIF\n",
      "Image Name: 107_5_20230925.tif\n",
      "Bounding Box: [899.1304931640625, 722.6246948242188, 1173.6160888671875, 1021.9299926757812]\n",
      "Pixels: 56938\n",
      "Pixel Size X: 2.15891138174\n",
      "Pixel Size Y: 2.15891138174\n",
      "Area: 265382.23049181054 µm^2\n",
      "\n",
      "Folder: Original_Raw_95_TIF\n",
      "Image Name: 108_1_20230925.tif\n",
      "Bounding Box: [878.7474975585938, 695.314208984375, 1187.351806640625, 1024.6220703125]\n",
      "Pixels: 83671\n",
      "Pixel Size X: 2.15891138174\n",
      "Pixel Size Y: 2.15891138174\n",
      "Area: 389982.0261948133 µm^2\n",
      "\n",
      "Folder: Original_Raw_95_TIF\n",
      "Image Name: 108_2_20230925.tif\n",
      "Bounding Box: [816.0279541015625, 606.9952392578125, 1179.9305419921875, 938.20068359375]\n",
      "Pixels: 113254\n",
      "Pixel Size X: 2.15891138174\n",
      "Pixel Size Y: 2.15891138174\n",
      "Area: 527865.3822073047 µm^2\n",
      "\n",
      "Folder: Original_Raw_95_TIF\n",
      "Image Name: 108_3_20230925.tif\n",
      "Bounding Box: [883.7973022460938, 696.3484497070312, 1159.6590576171875, 986.9429931640625]\n",
      "Pixels: 62754\n",
      "Pixel Size X: 2.15891138174\n",
      "Pixel Size Y: 2.15891138174\n",
      "Area: 292490.0153198757 µm^2\n",
      "\n",
      "Folder: Original_Raw_95_TIF\n",
      "Image Name: 108_4_20230925.tif\n",
      "Bounding Box: [864.0115356445312, 740.9566650390625, 1220.9150390625, 1091.3638916015625]\n",
      "Pixels: 92936\n",
      "Pixel Size X: 2.15891138174\n",
      "Pixel Size Y: 2.15891138174\n",
      "Area: 433165.2494465367 µm^2\n",
      "\n",
      "Folder: Original_Raw_95_TIF\n",
      "Image Name: 108_5_20230925.tif\n",
      "Bounding Box: [761.59765625, 531.0678100585938, 1077.5035400390625, 848.6698608398438]\n",
      "Pixels: 83100\n",
      "Pixel Size X: 2.15891138174\n",
      "Pixel Size Y: 2.15891138174\n",
      "Area: 387320.65323456144 µm^2\n",
      "\n",
      "Folder: Original_Raw_95_TIF\n",
      "Image Name: 108_6_20230925.tif\n",
      "Bounding Box: [833.7775268554688, 785.3742065429688, 1057.8963623046875, 1063.1951904296875]\n",
      "Pixels: 50099\n",
      "Pixel Size X: 2.15891138174\n",
      "Pixel Size Y: 2.15891138174\n",
      "Area: 233506.3466473922 µm^2\n",
      "\n",
      "Folder: Original_Raw_95_TIF\n",
      "Image Name: 110_1_20230925.tif\n",
      "Bounding Box: [1015.8460083007812, 617.6268920898438, 1313.9505615234375, 904.34619140625]\n",
      "Pixels: 85542\n",
      "Pixel Size X: 2.15891138174\n",
      "Pixel Size Y: 2.15891138174\n",
      "Area: 398702.56701553374 µm^2\n",
      "\n",
      "Folder: Original_Raw_95_TIF\n",
      "Image Name: 110_2_20230925.tif\n",
      "Bounding Box: [811.6994018554688, 665.51953125, 1126.3173828125, 984.2592163085938]\n",
      "Pixels: 79198\n",
      "Pixel Size X: 2.15891138174\n",
      "Pixel Size Y: 2.15891138174\n",
      "Area: 369133.8278564476 µm^2\n",
      "\n",
      "Folder: Original_Raw_95_TIF\n",
      "Image Name: 110_3_20230925.tif\n",
      "Bounding Box: [796.3822631835938, 650.8109741210938, 1143.246337890625, 986.4269409179688]\n",
      "Pixels: 88609\n",
      "Pixel Size X: 2.15891138174\n",
      "Pixel Size Y: 2.15891138174\n",
      "Area: 412997.5422678851 µm^2\n",
      "\n",
      "Folder: Original_Raw_95_TIF\n",
      "Image Name: 110_4_20230925.tif\n",
      "Bounding Box: [826.2074584960938, 615.3333129882812, 1141.6070556640625, 933.0839233398438]\n",
      "Pixels: 74654\n",
      "Pixel Size X: 2.15891138174\n",
      "Pixel Size Y: 2.15891138174\n",
      "Area: 347954.7057349332 µm^2\n",
      "\n",
      "Folder: Original_Raw_95_TIF\n",
      "Image Name: 112_1_20230925.tif\n",
      "Bounding Box: [856.2833251953125, 579.4335327148438, 1139.50341796875, 858.3328247070312]\n",
      "Pixels: 71289\n",
      "Pixel Size X: 2.15891138174\n",
      "Pixel Size Y: 2.15891138174\n",
      "Area: 332270.78277302824 µm^2\n",
      "\n",
      "Folder: Original_Raw_95_TIF\n",
      "Image Name: 112_2_20230925.tif\n",
      "Bounding Box: [874.6505126953125, 630.2998046875, 1077.827880859375, 853.3515625]\n",
      "Pixels: 36317\n",
      "Pixel Size X: 2.15891138174\n",
      "Pixel Size Y: 2.15891138174\n",
      "Area: 169269.845529718 µm^2\n",
      "\n",
      "Folder: Original_Raw_95_TIF\n",
      "Image Name: 112_3_20230925.tif\n",
      "Bounding Box: [908.423828125, 666.5211181640625, 1176.1773681640625, 946.8556518554688]\n",
      "Pixels: 56210\n",
      "Pixel Size X: 2.15891138174\n",
      "Pixel Size Y: 2.15891138174\n",
      "Area: 261989.09648994822 µm^2\n",
      "\n",
      "Folder: Original_Raw_95_TIF\n",
      "Image Name: 112_4_20230925.tif\n",
      "Bounding Box: [910.3043212890625, 644.84814453125, 1211.9393310546875, 963.9528198242188]\n",
      "Pixels: 75104\n",
      "Pixel Size X: 2.15891138174\n",
      "Pixel Size Y: 2.15891138174\n",
      "Area: 350052.10999432614 µm^2\n",
      "\n",
      "Folder: Original_Raw_95_TIF\n",
      "Image Name: 113_1_20230925.tif\n",
      "Bounding Box: [878.2138671875, 731.2788696289062, 1078.416259765625, 943.26171875]\n",
      "Pixels: 34117\n",
      "Pixel Size X: 2.15891138174\n",
      "Pixel Size Y: 2.15891138174\n",
      "Area: 159015.86915046367 µm^2\n",
      "\n",
      "Folder: Original_Raw_95_TIF\n",
      "Image Name: 113_2_20230925.tif\n",
      "Bounding Box: [763.6654663085938, 877.5252075195312, 1063.9830322265625, 1188.1937255859375]\n",
      "Pixels: 68141\n",
      "Pixel Size X: 2.15891138174\n",
      "Pixel Size Y: 2.15891138174\n",
      "Area: 317598.27475398616 µm^2\n",
      "\n",
      "Folder: Original_Raw_95_TIF\n",
      "Image Name: 113_3_20230925.tif\n",
      "Bounding Box: [861.8671875, 581.9345092773438, 1166.3896484375, 891.6444702148438]\n",
      "Pixels: 70949\n",
      "Pixel Size X: 2.15891138174\n",
      "Pixel Size Y: 2.15891138174\n",
      "Area: 330686.07733259804 µm^2\n",
      "\n",
      "Folder: Original_Raw_95_TIF\n",
      "Image Name: 119_1_20230925.tif\n",
      "Bounding Box: [1386.0992431640625, 500.8711853027344, 1907.3641357421875, 999.5368041992188]\n",
      "Pixels: 197097\n",
      "Pixel Size X: 1.58520426743\n",
      "Pixel Size Y: 1.58520426743\n",
      "Area: 495279.64482646115 µm^2\n",
      "\n",
      "Folder: Original_Raw_95_TIF\n",
      "Image Name: 123_1_20230925.tif\n",
      "Bounding Box: [943.38720703125, 686.9519653320312, 1223.9046630859375, 985.0603637695312]\n",
      "Pixels: 62209\n",
      "Pixel Size X: 2.15891138174\n",
      "Pixel Size Y: 2.15891138174\n",
      "Area: 289949.8257168331 µm^2\n",
      "\n",
      "Folder: Original_Raw_95_TIF\n",
      "Image Name: 123_2_20230925.tif\n",
      "Bounding Box: [927.8121337890625, 660.8759155273438, 1214.130859375, 952.1640625]\n",
      "Pixels: 62214\n",
      "Pixel Size X: 2.15891138174\n",
      "Pixel Size Y: 2.15891138174\n",
      "Area: 289973.13020860415 µm^2\n",
      "\n",
      "Folder: Original_Raw_95_TIF\n",
      "Image Name: 126_1_20230925.tif\n",
      "Bounding Box: [1311.3968505859375, 770.0558471679688, 1792.784912109375, 1241.477783203125]\n",
      "Pixels: 191840\n",
      "Pixel Size X: 1.58520426743\n",
      "Pixel Size Y: 1.58520426743\n",
      "Area: 482069.4737287138 µm^2\n",
      "\n",
      "Folder: Original_Raw_95_TIF\n",
      "Image Name: 126_2_20230925.tif\n",
      "Bounding Box: [1376.6036376953125, 619.4031372070312, 1889.51904296875, 1122.773681640625]\n",
      "Pixels: 197613\n",
      "Pixel Size X: 1.58520426743\n",
      "Pixel Size Y: 1.58520426743\n",
      "Area: 496576.2870723119 µm^2\n",
      "\n",
      "Folder: Original_Raw_95_TIF\n",
      "Image Name: 126_3_20230925.tif\n",
      "Bounding Box: [1364.369384765625, 718.4749755859375, 1742.953125, 1143.840087890625]\n",
      "Pixels: 138055\n",
      "Pixel Size X: 1.58520426743\n",
      "Pixel Size Y: 1.58520426743\n",
      "Area: 346914.62257932435 µm^2\n",
      "\n",
      "Folder: Original_Raw_95_TIF\n",
      "Image Name: 127_1_20230925.tif\n",
      "Bounding Box: [1397.9686279296875, 748.164306640625, 1808.0894775390625, 1131.7889404296875]\n",
      "Pixels: 120337\n",
      "Pixel Size X: 1.58520426743\n",
      "Pixel Size Y: 1.58520426743\n",
      "Area: 302391.54639330815 µm^2\n",
      "\n",
      "Folder: Original_Raw_95_TIF\n",
      "Image Name: 127_2_20230925.tif\n",
      "Bounding Box: [1504.6259765625, 608.37109375, 1948.1807861328125, 1037.5299072265625]\n",
      "Pixels: 132063\n",
      "Pixel Size X: 1.58520426743\n",
      "Pixel Size Y: 1.58520426743\n",
      "Area: 331857.4901430105 µm^2\n",
      "\n",
      "Folder: Original_Raw_95_TIF\n",
      "Image Name: 127_3_20230925.tif\n",
      "Bounding Box: [1387.2919921875, 868.1315307617188, 1919.15283203125, 1340.6962890625]\n",
      "Pixels: 199126\n",
      "Pixel Size X: 1.58520426743\n",
      "Pixel Size Y: 1.58520426743\n",
      "Area: 500378.2632699326 µm^2\n",
      "\n",
      "Folder: Original_Raw_95_TIF\n",
      "Image Name: 130_1_20230925.tif\n",
      "Bounding Box: [764.3234252929688, 685.2225952148438, 1059.423095703125, 977.3207397460938]\n",
      "Pixels: 65927\n",
      "Pixel Size X: 2.15891138174\n",
      "Pixel Size Y: 2.15891138174\n",
      "Area: 307279.04579777294 µm^2\n",
      "\n",
      "Folder: Original_Raw_95_TIF\n",
      "Image Name: 130_2_20230925.tif\n",
      "Bounding Box: [804.683837890625, 563.2418823242188, 1102.0506591796875, 854.3407592773438]\n",
      "Pixels: 67904\n",
      "Pixel Size X: 2.15891138174\n",
      "Pixel Size Y: 2.15891138174\n",
      "Area: 316493.6418440392 µm^2\n",
      "\n",
      "Folder: Original_Raw_95_TIF\n",
      "Image Name: 130_3_20230925.tif\n",
      "Bounding Box: [902.2646484375, 538.173828125, 1221.568603515625, 864.4568481445312]\n",
      "Pixels: 80883\n",
      "Pixel Size X: 2.15891138174\n",
      "Pixel Size Y: 2.15891138174\n",
      "Area: 376987.4415832856 µm^2\n",
      "\n",
      "Folder: Original_Raw_95_TIF\n",
      "Image Name: 130_4_20230925.tif\n",
      "Bounding Box: [876.48046875, 627.0007934570312, 1138.5316162109375, 904.0963134765625]\n",
      "Pixels: 60393\n",
      "Pixel Size X: 2.15891138174\n",
      "Pixel Size Y: 2.15891138174\n",
      "Area: 281485.6343055941 µm^2\n",
      "\n",
      "Folder: Original_Raw_95_TIF\n",
      "Image Name: 132_1_20230925.tif\n",
      "Bounding Box: [898.7289428710938, 878.5687255859375, 1279.53564453125, 1328.13037109375]\n",
      "Pixels: 137683\n",
      "Pixel Size X: 1.58520426743\n",
      "Pixel Size Y: 1.58520426743\n",
      "Area: 345979.8339834784 µm^2\n",
      "\n",
      "Folder: Original_Raw_95_TIF\n",
      "Image Name: 132_2_20230925.tif\n",
      "Bounding Box: [1417.779052734375, 874.527099609375, 1840.606201171875, 1335.07373046875]\n",
      "Pixels: 146166\n",
      "Pixel Size X: 1.58520426743\n",
      "Pixel Size Y: 1.58520426743\n",
      "Area: 367296.5319903627 µm^2\n",
      "\n",
      "Folder: Original_Raw_95_TIF\n",
      "Image Name: 134_1_20230925.tif\n",
      "Bounding Box: [1542.798095703125, 595.2711181640625, 1915.5947265625, 990.5369262695312]\n",
      "Pixels: 117000\n",
      "Pixel Size X: 1.58520426743\n",
      "Pixel Size Y: 1.58520426743\n",
      "Area: 294006.0906289591 µm^2\n",
      "\n",
      "Folder: Original_Raw_95_TIF\n",
      "Image Name: 134_2_20230925.tif\n",
      "Bounding Box: [1530.0880126953125, 705.9662475585938, 1947.307373046875, 1142.781982421875]\n",
      "Pixels: 140974\n",
      "Pixel Size X: 1.58520426743\n",
      "Pixel Size Y: 1.58520426743\n",
      "Area: 354249.69760963146 µm^2\n",
      "\n",
      "Folder: Original_Raw_95_TIF\n",
      "Image Name: 137_1_20230925.tif\n",
      "Bounding Box: [828.8021850585938, 632.8910522460938, 1109.2474365234375, 931.5126342773438]\n",
      "Pixels: 63351\n",
      "Pixel Size X: 2.15891138174\n",
      "Pixel Size Y: 2.15891138174\n",
      "Area: 295272.5716373369 µm^2\n",
      "\n",
      "Folder: Original_Raw_95_TIF\n",
      "Image Name: 137_2_20230925.tif\n",
      "Bounding Box: [800.6373901367188, 657.4036254882812, 1132.9698486328125, 1013.5944213867188]\n",
      "Pixels: 88182\n",
      "Pixel Size X: 2.15891138174\n",
      "Pixel Size Y: 2.15891138174\n",
      "Area: 411007.3386706389 µm^2\n",
      "\n",
      "Folder: Original_Raw_95_TIF\n",
      "Image Name: 138_1_20230925.tif\n",
      "Bounding Box: [871.2084350585938, 669.1978759765625, 1190.0003662109375, 1002.3523559570312]\n",
      "Pixels: 67574\n",
      "Pixel Size X: 2.15891138174\n",
      "Pixel Size Y: 2.15891138174\n",
      "Area: 314955.54538715107 µm^2\n",
      "\n",
      "Folder: Original_Raw_95_TIF\n",
      "Image Name: 138_2_20230925.tif\n",
      "Bounding Box: [870.8842163085938, 701.8766479492188, 1213.9490966796875, 1000.1915283203125]\n",
      "Pixels: 78629\n",
      "Pixel Size X: 2.15891138174\n",
      "Pixel Size Y: 2.15891138174\n",
      "Area: 366481.77669290407 µm^2\n",
      "\n",
      "Folder: Original_Raw_95_TIF\n",
      "Image Name: 138_3_20230925.tif\n",
      "Bounding Box: [867.1436767578125, 686.158203125, 1205.4603271484375, 982.0617065429688]\n",
      "Pixels: 78394\n",
      "Pixel Size X: 2.15891138174\n",
      "Pixel Size Y: 2.15891138174\n",
      "Area: 365386.46557966556 µm^2\n",
      "\n",
      "Folder: Original_Raw_95_TIF\n",
      "Image Name: 138_4_20230925.tif\n",
      "Bounding Box: [814.408203125, 709.7933959960938, 1184.811767578125, 1027.587890625]\n",
      "Pixels: 89661\n",
      "Pixel Size X: 2.15891138174\n",
      "Pixel Size Y: 2.15891138174\n",
      "Area: 417900.80733651033 µm^2\n",
      "\n",
      "Folder: Original_Raw_95_TIF\n",
      "Image Name: 138_5_20230925.tif\n",
      "Bounding Box: [799.4872436523438, 576.9500122070312, 1103.1668701171875, 887.9037475585938]\n",
      "Pixels: 74546\n",
      "Pixel Size X: 2.15891138174\n",
      "Pixel Size Y: 2.15891138174\n",
      "Area: 347451.32871267886 µm^2\n",
      "\n",
      "Folder: Original_Raw_95_TIF\n",
      "Image Name: 143_1_20230925.tif\n",
      "Bounding Box: [885.8455200195312, 631.8238525390625, 1136.005859375, 925.8497924804688]\n",
      "Pixels: 48135\n",
      "Pixel Size X: 2.15891138174\n",
      "Pixel Size Y: 2.15891138174\n",
      "Area: 224352.3422797306 µm^2\n",
      "\n",
      "Folder: Original_Raw_95_TIF\n",
      "Image Name: 143_2_20230925.tif\n",
      "Bounding Box: [853.8331298828125, 654.5187377929688, 1179.757568359375, 965.6508178710938]\n",
      "Pixels: 78834\n",
      "Pixel Size X: 2.15891138174\n",
      "Pixel Size Y: 2.15891138174\n",
      "Area: 367437.2608555164 µm^2\n",
      "\n",
      "Folder: Original_Raw_95_TIF\n",
      "Image Name: 144_1_20230925.tif\n",
      "Bounding Box: [926.6910400390625, 743.0410766601562, 1210.456298828125, 1035.556640625]\n",
      "Pixels: 64021\n",
      "Pixel Size X: 2.15891138174\n",
      "Pixel Size Y: 2.15891138174\n",
      "Area: 298395.3735346553 µm^2\n",
      "\n",
      "Folder: Original_Raw_95_TIF\n",
      "Image Name: 144_2_20230925.tif\n",
      "Bounding Box: [720.1007080078125, 607.83935546875, 1049.0159912109375, 941.9481811523438]\n",
      "Pixels: 81434\n",
      "Pixel Size X: 2.15891138174\n",
      "Pixel Size Y: 2.15891138174\n",
      "Area: 379555.59657645336 µm^2\n",
      "\n",
      "Folder: Original_Raw_95_TIF\n",
      "Image Name: 147_1_20230925.tif\n",
      "Bounding Box: [890.7356567382812, 670.7509155273438, 1170.539794921875, 978.5064697265625]\n",
      "Pixels: 66590\n",
      "Pixel Size X: 2.15891138174\n",
      "Pixel Size Y: 2.15891138174\n",
      "Area: 310369.22140661185 µm^2\n",
      "\n",
      "Folder: Original_Raw_95_TIF\n",
      "Image Name: 147_2_20230925.tif\n",
      "Bounding Box: [1129.872314453125, 574.32275390625, 1432.0242919921875, 887.6307983398438]\n",
      "Pixels: 66482\n",
      "Pixel Size X: 2.15891138174\n",
      "Pixel Size Y: 2.15891138174\n",
      "Area: 309865.84438435757 µm^2\n",
      "\n",
      "Folder: Original_Raw_95_TIF\n",
      "Image Name: 148_2_20230926.tif\n",
      "Bounding Box: [1383.8167724609375, 856.5108032226562, 1739.9989013671875, 1263.103271484375]\n",
      "Pixels: 116453\n",
      "Pixel Size X: 1.58520426743\n",
      "Pixel Size Y: 1.58520426743\n",
      "Area: 292631.54933345446 µm^2\n",
      "\n",
      "Folder: Original_Raw_95_TIF\n",
      "Image Name: 150_1_20230926.tif\n",
      "Bounding Box: [1290.1900634765625, 844.95849609375, 1668.997314453125, 1242.034912109375]\n",
      "Pixels: 114620\n",
      "Pixel Size X: 1.58520426743\n",
      "Pixel Size Y: 1.58520426743\n",
      "Area: 288025.45391360077 µm^2\n",
      "\n",
      "Folder: Original_Raw_95_TIF\n",
      "Image Name: 150_2_20230926.tif\n",
      "Bounding Box: [1261.6885986328125, 852.8829345703125, 1647.9580078125, 1246.51123046875]\n",
      "Pixels: 121181\n",
      "Pixel Size X: 1.58520426743\n",
      "Pixel Size Y: 1.58520426743\n",
      "Area: 304512.4108419478 µm^2\n",
      "\n",
      "Folder: Original_Raw_95_TIF\n",
      "Image Name: 186_1_20230926.tif\n",
      "Bounding Box: [980.6451416015625, 690.8129272460938, 1287.8092041015625, 998.5795288085938]\n",
      "Pixels: 66178\n",
      "Pixel Size X: 2.15891138174\n",
      "Pixel Size Y: 2.15891138174\n",
      "Area: 308448.93128467875 µm^2\n",
      "\n",
      "Folder: Original_Raw_95_TIF\n",
      "Image Name: 186_2_20230926.tif\n",
      "Bounding Box: [985.4119262695312, 628.9888916015625, 1277.566650390625, 922.25244140625]\n",
      "Pixels: 64821\n",
      "Pixel Size X: 2.15891138174\n",
      "Pixel Size Y: 2.15891138174\n",
      "Area: 302124.0922180205 µm^2\n",
      "\n",
      "Folder: Original_Raw_95_TIF\n",
      "Image Name: 200_1_20230926.tif\n",
      "Bounding Box: [1392.0360107421875, 833.9603271484375, 1843.81787109375, 1295.17041015625]\n",
      "Pixels: 162555\n",
      "Pixel Size X: 1.58520426743\n",
      "Pixel Size Y: 1.58520426743\n",
      "Area: 408480.0005315423 µm^2\n",
      "\n",
      "Folder: Original_Raw_95_TIF\n",
      "Image Name: 200_2_20230926.tif\n",
      "Bounding Box: [1532.776123046875, 761.7072143554688, 1976.22265625, 1190.177490234375]\n",
      "Pixels: 148964\n",
      "Pixel Size X: 1.58520426743\n",
      "Pixel Size Y: 1.58520426743\n",
      "Area: 374327.54943976295 µm^2\n",
      "\n",
      "Folder: Original_Raw_95_TIF\n",
      "Image Name: 200_3_20230926.tif\n",
      "Bounding Box: [1450.178955078125, 803.8364868164062, 1886.2843017578125, 1224.919921875]\n",
      "Pixels: 139807\n",
      "Pixel Size X: 1.58520426743\n",
      "Pixel Size Y: 1.58520426743\n",
      "Area: 351317.1753210503 µm^2\n",
      "\n",
      "Folder: Original_Raw_95_TIF\n",
      "Image Name: 200_4_20230926.tif\n",
      "Bounding Box: [1244.295166015625, 888.96630859375, 1729.5869140625, 1323.8966064453125]\n",
      "Pixels: 156420\n",
      "Pixel Size X: 1.58520426743\n",
      "Pixel Size Y: 1.58520426743\n",
      "Area: 393063.52731779305 µm^2\n",
      "\n",
      "Folder: Original_Raw_95_TIF\n",
      "Image Name: 200_5_20230926.tif\n",
      "Bounding Box: [1477.1932373046875, 843.76611328125, 1901.7952880859375, 1293.8919677734375]\n",
      "Pixels: 151334\n",
      "Pixel Size X: 1.58520426743\n",
      "Pixel Size Y: 1.58520426743\n",
      "Area: 380283.05742942647 µm^2\n",
      "\n",
      "Folder: Original_Raw_95_TIF\n",
      "Image Name: 200_6_20230926.tif\n",
      "Bounding Box: [1546.9083251953125, 686.1069946289062, 2011.00244140625, 1123.2352294921875]\n",
      "Pixels: 162277\n",
      "Pixel Size X: 1.58520426743\n",
      "Pixel Size Y: 1.58520426743\n",
      "Area: 407781.42195722734 µm^2\n",
      "\n",
      "Folder: Original_Raw_95_TIF\n",
      "Image Name: 200_7_20230926.tif\n",
      "Bounding Box: [1396.7220458984375, 836.0346069335938, 1850.37890625, 1338.10693359375]\n",
      "Pixels: 172790\n",
      "Pixel Size X: 1.58520426743\n",
      "Pixel Size Y: 1.58520426743\n",
      "Area: 434199.25128015253 µm^2\n",
      "\n",
      "Folder: Original_Raw_95_TIF\n",
      "Image Name: 201_1_20230927.tif\n",
      "Bounding Box: [1510.1483154296875, 943.1163330078125, 1830.664794921875, 1299.3297119140625]\n",
      "Pixels: 104627\n",
      "Pixel Size X: 1.58520426743\n",
      "Pixel Size Y: 1.58520426743\n",
      "Area: 262914.3183268043 µm^2\n",
      "\n",
      "Folder: Original_Raw_95_TIF\n",
      "Image Name: 201_2_20230927.tif\n",
      "Bounding Box: [1495.8553466796875, 883.0980834960938, 1865.117431640625, 1328.7965087890625]\n",
      "Pixels: 131350\n",
      "Pixel Size X: 1.58520426743\n",
      "Pixel Size Y: 1.58520426743\n",
      "Area: 330065.81200097245 µm^2\n",
      "\n",
      "Folder: Original_Raw_95_TIF\n",
      "Image Name: 201_3_20230927.tif\n",
      "Bounding Box: [1516.1202392578125, 814.4005737304688, 1827.7020263671875, 1152.4217529296875]\n",
      "Pixels: 67224\n",
      "Pixel Size X: 1.58520426743\n",
      "Pixel Size Y: 1.58520426743\n",
      "Area: 168925.34561060808 µm^2\n",
      "\n",
      "Folder: Original_Raw_95_TIF\n",
      "Image Name: 204_1_20230927.tif\n",
      "Bounding Box: [920.3279418945312, 589.8920288085938, 1274.568603515625, 941.6455078125]\n",
      "Pixels: 99551\n",
      "Pixel Size X: 2.15891138174\n",
      "Pixel Size Y: 2.15891138174\n",
      "Area: 463997.0920596128 µm^2\n",
      "\n",
      "Folder: Original_Raw_95_TIF\n",
      "Image Name: 204_2_20230927.tif\n",
      "Bounding Box: [907.8059692382812, 694.2742309570312, 1246.9163818359375, 1057.6201171875]\n",
      "Pixels: 97891\n",
      "Pixel Size X: 2.15891138174\n",
      "Pixel Size Y: 2.15891138174\n",
      "Area: 456260.00079163 µm^2\n",
      "\n",
      "Folder: Original_Raw_95_TIF\n",
      "Image Name: 204_3_20230927.tif\n",
      "Bounding Box: [1076.5501708984375, 586.8688354492188, 1422.1614990234375, 931.7162475585938]\n",
      "Pixels: 93260\n",
      "Pixel Size X: 2.15891138174\n",
      "Pixel Size Y: 2.15891138174\n",
      "Area: 434675.3805132996 µm^2\n",
      "\n",
      "Folder: Original_Raw_95_TIF\n",
      "Image Name: 204_4_20230927.tif\n",
      "Bounding Box: [893.6130981445312, 694.397216796875, 1287.072509765625, 1066.9593505859375]\n",
      "Pixels: 103013\n",
      "Pixel Size X: 2.15891138174\n",
      "Pixel Size Y: 2.15891138174\n",
      "Area: 480133.12216187577 µm^2\n",
      "\n",
      "Failed to retrieve metadata from C:/Users/richa_0/Documents/Coral Research/Images/Original_Raw_95_TIF\\204_5_20230927.tif: dictionary update sequence element #0 has length 1; 2 is required\n",
      "Folder: Original_Raw_95_TIF\n",
      "Image Name: 204_5_20230927.tif\n",
      "Bounding Box: [823.4679565429688, 639.8429565429688, 1186.4859619140625, 1018.5414428710938]\n",
      "Pixels: 101386\n",
      "Pixel Size X: 1.0\n",
      "Pixel Size Y: 1.0\n",
      "Area: 101386.0 µm^2\n",
      "\n",
      "Folder: Original_Raw_95_TIF\n",
      "Image Name: 204_6_20230927.tif\n",
      "Bounding Box: [757.4000244140625, 815.5782470703125, 1089.9163818359375, 1097.3416748046875]\n",
      "Pixels: 71209\n",
      "Pixel Size X: 2.15891138174\n",
      "Pixel Size Y: 2.15891138174\n",
      "Area: 331897.91090469173 µm^2\n",
      "\n",
      "Folder: Original_Raw_95_TIF\n",
      "Image Name: 204_7_20230927.tif\n",
      "Bounding Box: [803.7377319335938, 591.3316650390625, 1084.2938232421875, 899.5769653320312]\n",
      "Pixels: 66539\n",
      "Pixel Size X: 2.15891138174\n",
      "Pixel Size Y: 2.15891138174\n",
      "Area: 310131.5155905473 µm^2\n",
      "\n",
      "Folder: Original_Raw_95_TIF\n",
      "Image Name: 216_1_20230927.tif\n",
      "Bounding Box: [1315.8485107421875, 796.9915161132812, 1761.666259765625, 1270.18505859375]\n",
      "Pixels: 171751\n",
      "Pixel Size X: 1.58520426743\n",
      "Pixel Size Y: 1.58520426743\n",
      "Area: 431588.3766804646 µm^2\n",
      "\n",
      "Folder: Original_Raw_95_TIF\n",
      "Image Name: 216_2_20230927.tif\n",
      "Bounding Box: [1272.5762939453125, 798.2235107421875, 1792.575439453125, 1284.4293212890625]\n",
      "Pixels: 195996\n",
      "Pixel Size X: 1.58520426743\n",
      "Pixel Size Y: 1.58520426743\n",
      "Area: 492512.97212746553 µm^2\n",
      "\n",
      "Folder: Original_Raw_95_TIF\n",
      "Image Name: 216_3_20230927.tif\n",
      "Bounding Box: [1450.6090087890625, 748.867431640625, 1943.7960205078125, 1255.97119140625]\n",
      "Pixels: 190849\n",
      "Pixel Size X: 1.58520426743\n",
      "Pixel Size Y: 1.58520426743\n",
      "Area: 479579.2170123608 µm^2\n",
      "\n",
      "Folder: Original_Raw_95_TIF\n",
      "Image Name: 216_4_20230927.tif\n",
      "Bounding Box: [1274.1033935546875, 764.0228271484375, 1759.2803955078125, 1264.7393798828125]\n",
      "Pixels: 189708\n",
      "Pixel Size X: 1.58520426743\n",
      "Pixel Size Y: 1.58520426743\n",
      "Area: 476712.0294105861 µm^2\n",
      "\n",
      "Folder: Original_Raw_95_TIF\n",
      "Image Name: 216_5_20230927.tif\n",
      "Bounding Box: [1379.3052978515625, 690.654541015625, 1834.5550537109375, 1156.455322265625]\n",
      "Pixels: 163688\n",
      "Pixel Size X: 1.58520426743\n",
      "Pixel Size Y: 1.58520426743\n",
      "Area: 411327.0851527612 µm^2\n",
      "\n",
      "Folder: Original_Raw_95_TIF\n",
      "Image Name: 216_6_20230927.tif\n",
      "Bounding Box: [1357.3878173828125, 844.4118041992188, 1818.919189453125, 1329.915771484375]\n",
      "Pixels: 179415\n",
      "Pixel Size X: 1.58520426743\n",
      "Pixel Size Y: 1.58520426743\n",
      "Area: 450847.03205294616 µm^2\n",
      "\n",
      "Failed to retrieve metadata from C:/Users/richa_0/Documents/Coral Research/Images/Original_Raw_95_TIF\\216_7_20230927.tif: dictionary update sequence element #0 has length 1; 2 is required\n",
      "Folder: Original_Raw_95_TIF\n",
      "Image Name: 216_7_20230927.tif\n",
      "Bounding Box: [1141.3739013671875, 823.45556640625, 1597.117919921875, 1299.16943359375]\n",
      "Pixels: 168838\n",
      "Pixel Size X: 1.0\n",
      "Pixel Size Y: 1.0\n",
      "Area: 168838.0 µm^2\n",
      "\n"
     ]
    }
   ],
   "source": [
    "for index, folder in enumerate(folder_read_paths):\n",
    "    folder_name = os.path.basename(folder.rstrip('/'))\n",
    "    for image_file in os.listdir(folder):\n",
    "        if image_file.endswith('.tif'):\n",
    "            image_path = os.path.join(folder, image_file)\n",
    "            annotated_path = os.path.join(folder_write_path, image_file)\n",
    "            image, bbox = execute_block1(image_path)\n",
    "            masks = execute_block2(image, bbox)\n",
    "            pixels = execute_block3(image, bbox, masks, annotated_path, index)\n",
    "            pixel_size_x, pixel_size_y = get_physical(image_path)\n",
    "            area = pixel_size_x * pixel_size_y * pixels\n",
    "            new_row = {\"Folder\": folder_name, \"Image Name\": image_file, \"Pixel Area\": pixels, \"Pixel Size X\": pixel_size_x, \"Pixel Size Y\": pixel_size_y, \"µm^2\": area}\n",
    "            new_row_df = pd.DataFrame([new_row], columns=columns)\n",
    "            new_row_df.to_csv(csv_path, mode='a', header=not os.path.exists(csv_path), index=False)\n",
    "            print(\"Folder: \" + folder_name + \"\\n\" + \"Image Name: \" + image_file + \"\\n\" + \"Bounding Box: \" + str(bbox) + \"\\n\" + \"Pixels: \" + str(pixels) + \"\\n\" + \"Pixel Size X: \" + str(pixel_size_x) + \"\\n\" + \"Pixel Size Y: \" + str(pixel_size_y) + \"\\n\" + \"Area: \" + str(area) + \" µm^2\" + \"\\n\")"
   ]
  },
  {
   "cell_type": "code",
   "execution_count": null,
   "metadata": {},
   "outputs": [],
   "source": []
  }
 ],
 "metadata": {
  "accelerator": "GPU",
  "colab": {
   "gpuType": "T4",
   "provenance": []
  },
  "kernelspec": {
   "display_name": "Python 3 (ipykernel)",
   "language": "python",
   "name": "python3"
  },
  "language_info": {
   "codemirror_mode": {
    "name": "ipython",
    "version": 3
   },
   "file_extension": ".py",
   "mimetype": "text/x-python",
   "name": "python",
   "nbconvert_exporter": "python",
   "pygments_lexer": "ipython3",
   "version": "3.10.13"
  }
 },
 "nbformat": 4,
 "nbformat_minor": 4
}
