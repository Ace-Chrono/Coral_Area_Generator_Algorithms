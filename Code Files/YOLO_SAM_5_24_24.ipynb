{
 "cells": [
  {
   "cell_type": "markdown",
   "metadata": {},
   "source": [
    "## Setup up CUDA for PyTorch\n",
    "#### *Must download CUDA drive from https://developer.nvidia.com/cuda-downloads and make a venv after in anaconda, not before. Then run the kernel below. "
   ]
  },
  {
   "cell_type": "code",
   "execution_count": 1,
   "metadata": {
    "colab": {
     "base_uri": "https://localhost:8080/"
    },
    "id": "BHn6z4moM24T",
    "outputId": "b04ddf72-2f9f-44cb-9c45-66c7fbfd30d6"
   },
   "outputs": [
    {
     "name": "stdout",
     "output_type": "stream",
     "text": [
      "Looking in indexes: https://download.pytorch.org/whl/cu118\n",
      "Requirement already satisfied: torch in c:\\users\\richa_0\\anaconda3\\envs\\coral_research\\lib\\site-packages (2.2.0+cu118)\n",
      "Requirement already satisfied: torchvision in c:\\users\\richa_0\\anaconda3\\envs\\coral_research\\lib\\site-packages (0.17.0+cu118)\n",
      "Requirement already satisfied: torchaudio in c:\\users\\richa_0\\anaconda3\\envs\\coral_research\\lib\\site-packages (2.2.0+cu118)\n",
      "Requirement already satisfied: filelock in c:\\users\\richa_0\\anaconda3\\envs\\coral_research\\lib\\site-packages (from torch) (3.9.0)\n",
      "Requirement already satisfied: typing-extensions>=4.8.0 in c:\\users\\richa_0\\anaconda3\\envs\\coral_research\\lib\\site-packages (from torch) (4.9.0)\n",
      "Requirement already satisfied: sympy in c:\\users\\richa_0\\anaconda3\\envs\\coral_research\\lib\\site-packages (from torch) (1.12)\n",
      "Requirement already satisfied: networkx in c:\\users\\richa_0\\anaconda3\\envs\\coral_research\\lib\\site-packages (from torch) (3.2.1)\n",
      "Requirement already satisfied: jinja2 in c:\\users\\richa_0\\anaconda3\\envs\\coral_research\\lib\\site-packages (from torch) (3.1.3)\n",
      "Requirement already satisfied: fsspec in c:\\users\\richa_0\\anaconda3\\envs\\coral_research\\lib\\site-packages (from torch) (2023.10.0)\n",
      "Requirement already satisfied: numpy in c:\\users\\richa_0\\anaconda3\\envs\\coral_research\\lib\\site-packages (from torchvision) (1.26.3)\n",
      "Requirement already satisfied: requests in c:\\users\\richa_0\\anaconda3\\envs\\coral_research\\lib\\site-packages (from torchvision) (2.31.0)\n",
      "Requirement already satisfied: pillow!=8.3.*,>=5.3.0 in c:\\users\\richa_0\\anaconda3\\envs\\coral_research\\lib\\site-packages (from torchvision) (10.2.0)\n",
      "Requirement already satisfied: MarkupSafe>=2.0 in c:\\users\\richa_0\\anaconda3\\envs\\coral_research\\lib\\site-packages (from jinja2->torch) (2.1.3)\n",
      "Requirement already satisfied: charset-normalizer<4,>=2 in c:\\users\\richa_0\\anaconda3\\envs\\coral_research\\lib\\site-packages (from requests->torchvision) (2.0.4)\n",
      "Requirement already satisfied: idna<4,>=2.5 in c:\\users\\richa_0\\anaconda3\\envs\\coral_research\\lib\\site-packages (from requests->torchvision) (2.10)\n",
      "Requirement already satisfied: urllib3<3,>=1.21.1 in c:\\users\\richa_0\\anaconda3\\envs\\coral_research\\lib\\site-packages (from requests->torchvision) (2.1.0)\n",
      "Requirement already satisfied: certifi>=2017.4.17 in c:\\users\\richa_0\\anaconda3\\envs\\coral_research\\lib\\site-packages (from requests->torchvision) (2023.7.22)\n",
      "Requirement already satisfied: mpmath>=0.19 in c:\\users\\richa_0\\anaconda3\\envs\\coral_research\\lib\\site-packages (from sympy->torch) (1.3.0)\n"
     ]
    }
   ],
   "source": [
    "!pip3 install torch torchvision torchaudio --index-url https://download.pytorch.org/whl/cu118"
   ]
  },
  {
   "cell_type": "code",
   "execution_count": 4,
   "metadata": {
    "colab": {
     "base_uri": "https://localhost:8080/"
    },
    "id": "BHn6z4moM24T",
    "outputId": "b04ddf72-2f9f-44cb-9c45-66c7fbfd30d6"
   },
   "outputs": [
    {
     "name": "stdout",
     "output_type": "stream",
     "text": [
      "Wed Apr  3 11:27:38 2024       \n",
      "+-----------------------------------------------------------------------------------------+\n",
      "| NVIDIA-SMI 551.23                 Driver Version: 551.23         CUDA Version: 12.4     |\n",
      "|-----------------------------------------+------------------------+----------------------+\n",
      "| GPU  Name                     TCC/WDDM  | Bus-Id          Disp.A | Volatile Uncorr. ECC |\n",
      "| Fan  Temp   Perf          Pwr:Usage/Cap |           Memory-Usage | GPU-Util  Compute M. |\n",
      "|                                         |                        |               MIG M. |\n",
      "|=========================================+========================+======================|\n",
      "|   0  NVIDIA GeForce RTX 3070 ...  WDDM  |   00000000:01:00.0  On |                  N/A |\n",
      "| N/A   62C    P8             18W /   81W |     786MiB /   8192MiB |      0%      Default |\n",
      "|                                         |                        |                  N/A |\n",
      "+-----------------------------------------+------------------------+----------------------+\n",
      "                                                                                         \n",
      "+-----------------------------------------------------------------------------------------+\n",
      "| Processes:                                                                              |\n",
      "|  GPU   GI   CI        PID   Type   Process name                              GPU Memory |\n",
      "|        ID   ID                                                               Usage      |\n",
      "|=========================================================================================|\n",
      "|    0   N/A  N/A      4964    C+G   ...siveControlPanel\\SystemSettings.exe      N/A      |\n",
      "|    0   N/A  N/A     15004    C+G   ...oogle\\Chrome\\Application\\chrome.exe      N/A      |\n",
      "|    0   N/A  N/A     18952    C+G   ...ekyb3d8bbwe\\PhoneExperienceHost.exe      N/A      |\n",
      "|    0   N/A  N/A     19284    C+G   ...nt.CBS_cw5n1h2txyewy\\SearchHost.exe      N/A      |\n",
      "|    0   N/A  N/A     26312    C+G   ...CBS_cw5n1h2txyewy\\TextInputHost.exe      N/A      |\n",
      "|    0   N/A  N/A     27980    C+G   ...a\\Local\\slack\\app-4.37.98\\slack.exe      N/A      |\n",
      "|    0   N/A  N/A     28696    C+G   C:\\Windows\\explorer.exe                     N/A      |\n",
      "|    0   N/A  N/A     29920    C+G   ...2txyewy\\StartMenuExperienceHost.exe      N/A      |\n",
      "+-----------------------------------------------------------------------------------------+\n"
     ]
    }
   ],
   "source": [
    "!nvidia-smi"
   ]
  },
  {
   "cell_type": "markdown",
   "metadata": {},
   "source": [
    "## Setup RoboFlow"
   ]
  },
  {
   "cell_type": "code",
   "execution_count": 1,
   "metadata": {},
   "outputs": [],
   "source": [
    "!pip install roboflow --quiet"
   ]
  },
  {
   "cell_type": "markdown",
   "metadata": {
    "id": "2QqaZoirGcrf"
   },
   "source": [
    "## Setup SAM"
   ]
  },
  {
   "cell_type": "code",
   "execution_count": 3,
   "metadata": {
    "colab": {
     "base_uri": "https://localhost:8080/"
    },
    "id": "MAxjKnlkO5bh",
    "outputId": "3d2788a7-e1fd-417c-c30d-22660b7a819a"
   },
   "outputs": [
    {
     "name": "stdout",
     "output_type": "stream",
     "text": [
      "Collecting git+https://github.com/facebookresearch/segment-anything.git\n",
      "  Cloning https://github.com/facebookresearch/segment-anything.git to c:\\users\\richa_0\\appdata\\local\\temp\\pip-req-build-q5ostivs\n",
      "  Resolved https://github.com/facebookresearch/segment-anything.git to commit 6fdee8f2727f4506cfbbe553e23b895e27956588\n",
      "  Preparing metadata (setup.py): started\n",
      "  Preparing metadata (setup.py): finished with status 'done'\n",
      "Building wheels for collected packages: segment-anything\n",
      "  Building wheel for segment-anything (setup.py): started\n",
      "  Building wheel for segment-anything (setup.py): finished with status 'done'\n",
      "  Created wheel for segment-anything: filename=segment_anything-1.0-py3-none-any.whl size=36830 sha256=6bd36929ca9babdebffb454221eb495d81a78e706933e227f5d90e015010e448\n",
      "  Stored in directory: C:\\Users\\richa_0\\AppData\\Local\\Temp\\pip-ephem-wheel-cache-c_kn2u_r\\wheels\\10\\cf\\59\\9ccb2f0a1bcc81d4fbd0e501680b5d088d690c6cfbc02dc99d\n",
      "Successfully built segment-anything\n",
      "Installing collected packages: segment-anything\n",
      "Successfully installed segment-anything-1.0\n"
     ]
    },
    {
     "name": "stderr",
     "output_type": "stream",
     "text": [
      "  Running command git clone --filter=blob:none --quiet https://github.com/facebookresearch/segment-anything.git 'C:\\Users\\richa_0\\AppData\\Local\\Temp\\pip-req-build-q5ostivs'\n"
     ]
    }
   ],
   "source": [
    "!pip install git+https://github.com/facebookresearch/segment-anything.git"
   ]
  },
  {
   "cell_type": "code",
   "execution_count": 4,
   "metadata": {
    "colab": {
     "base_uri": "https://localhost:8080/"
    },
    "id": "sjPaUgCCO_UN",
    "outputId": "606039a4-7f7a-4306-ffca-a8ff66eab626"
   },
   "outputs": [],
   "source": [
    "!pip install -q  supervision jupyter_bbox_widget roboflow dataclasses-json"
   ]
  },
  {
   "cell_type": "markdown",
   "metadata": {
    "id": "qeRZ2RiwGzz7"
   },
   "source": [
    "#### Download SAM weights"
   ]
  },
  {
   "cell_type": "code",
   "execution_count": null,
   "metadata": {
    "colab": {
     "base_uri": "https://localhost:8080/"
    },
    "id": "WvmFI-e1PjE6",
    "outputId": "45fec68c-9423-4b1a-c0a9-cd4ab61754af"
   },
   "outputs": [],
   "source": [
    "!curl -O https://dl.fbaipublicfiles.com/segment_anything/sam_vit_h_4b8939.pth"
   ]
  },
  {
   "cell_type": "markdown",
   "metadata": {
    "id": "ks5PKNw_G8dh"
   },
   "source": [
    "## Setup Computer and Dependencies"
   ]
  },
  {
   "cell_type": "code",
   "execution_count": 1,
   "metadata": {
    "colab": {
     "base_uri": "https://localhost:8080/"
    },
    "id": "UwLbgdDVQhMS",
    "outputId": "003cd6b8-24e8-47e3-981b-5e1c21bf6b7a"
   },
   "outputs": [
    {
     "name": "stdout",
     "output_type": "stream",
     "text": [
      "2.2.0+cu118\n",
      "cuda:0\n"
     ]
    }
   ],
   "source": [
    "import torch\n",
    "print(torch.__version__)\n",
    "DEVICE = torch.device('cuda:0' if torch.cuda.is_available() else 'cpu')\n",
    "print(DEVICE)"
   ]
  },
  {
   "cell_type": "code",
   "execution_count": 4,
   "metadata": {},
   "outputs": [],
   "source": [
    "MODEL_TYPE = \"vit_h\"\n",
    "from segment_anything import sam_model_registry, SamAutomaticMaskGenerator, SamPredictor # r\"C:\\Users\\richa_0\\Downloads\\sam_model_epoch_24.pth\"\n",
    "sam = sam_model_registry[MODEL_TYPE](checkpoint=r\"C:\\Users\\richa_0\\Documents\\Coral Research\\Machine Learning Models\\sam_vit_h_4b8939.pth\").to(device=DEVICE) "
   ]
  },
  {
   "cell_type": "code",
   "execution_count": null,
   "metadata": {},
   "outputs": [],
   "source": [
    "rf = Roboflow(api_key=\"SsfDz85MaMV4PPpSPJLO\")\n",
    "project = rf.workspace().project(\"coral-finder\")\n",
    "model = project.version(3).model"
   ]
  },
  {
   "cell_type": "markdown",
   "metadata": {
    "id": "oVMUpajOHV9l"
   },
   "source": [
    "#### Add more dependencies"
   ]
  },
  {
   "cell_type": "code",
   "execution_count": 5,
   "metadata": {
    "id": "5hFeInNqGCgg"
   },
   "outputs": [],
   "source": [
    "import numpy as np\n",
    "from PIL import Image\n",
    "from PIL.ExifTags import TAGS\n",
    "import matplotlib.pyplot as plt\n",
    "import matplotlib.patches as patches \n",
    "import torchvision\n",
    "import os\n",
    "import ultralytics\n",
    "from ultralytics import YOLO\n",
    "from matplotlib import pyplot as plt\n",
    "import pandas as pd\n",
    "import torch\n",
    "import supervision as sv\n",
    "from roboflow import Roboflow\n",
    "import imageio.v3 as iio"
   ]
  },
  {
   "cell_type": "markdown",
   "metadata": {},
   "source": [
    "## Train Custom YOLO V8"
   ]
  },
  {
   "cell_type": "code",
   "execution_count": 4,
   "metadata": {},
   "outputs": [
    {
     "name": "stdout",
     "output_type": "stream",
     "text": [
      "Downloading https://github.com/ultralytics/assets/releases/download/v8.1.0/yolov8n.pt to 'yolov8n.pt'...\n"
     ]
    },
    {
     "name": "stderr",
     "output_type": "stream",
     "text": [
      "100%|██████████| 6.23M/6.23M [00:00<00:00, 8.33MB/s]\n"
     ]
    }
   ],
   "source": [
    "import yaml\n",
    "model = YOLO('yolov8n.pt')\n",
    "name = \"50_epochs-\"\n",
    "project = \"C:/Users/richa_0/Documents/Coral Research/Machine Learning Models/coral finder.v6i.yolov8/results\""
   ]
  },
  {
   "cell_type": "code",
   "execution_count": 5,
   "metadata": {},
   "outputs": [
    {
     "name": "stdout",
     "output_type": "stream",
     "text": [
      "New https://pypi.org/project/ultralytics/8.2.27 available 😃 Update with 'pip install -U ultralytics'\n",
      "Ultralytics YOLOv8.1.11 🚀 Python-3.10.13 torch-2.2.0+cu118 CUDA:0 (NVIDIA GeForce RTX 3070 Ti Laptop GPU, 8192MiB)\n",
      "\u001b[34m\u001b[1mengine\\trainer: \u001b[0mtask=detect, mode=train, model=yolov8n.pt, data=C:\\Users\\richa_0\\Documents\\Coral Research\\Machine Learning Models\\coral finder.v6i.yolov8\\data.yaml, epochs=50, time=None, patience=0, batch=4, imgsz=640, save=True, save_period=-1, cache=False, device=None, workers=8, project=C:/Users/richa_0/Documents/Coral Research/Machine Learning Models/coral finder.v6i.yolov8/results, name=50_epochs-, exist_ok=False, pretrained=True, optimizer=auto, verbose=True, seed=0, deterministic=True, single_cls=False, rect=False, cos_lr=False, close_mosaic=10, resume=False, amp=True, fraction=1.0, profile=False, freeze=None, multi_scale=False, overlap_mask=True, mask_ratio=4, dropout=0.0, val=True, split=val, save_json=False, save_hybrid=False, conf=None, iou=0.7, max_det=300, half=False, dnn=False, plots=True, source=None, vid_stride=1, stream_buffer=False, visualize=False, augment=False, agnostic_nms=False, classes=None, retina_masks=False, embed=None, show=False, save_frames=False, save_txt=False, save_conf=False, save_crop=False, show_labels=True, show_conf=True, show_boxes=True, line_width=None, format=torchscript, keras=False, optimize=False, int8=False, dynamic=False, simplify=False, opset=None, workspace=4, nms=False, lr0=0.01, lrf=0.01, momentum=0.937, weight_decay=0.0005, warmup_epochs=3.0, warmup_momentum=0.8, warmup_bias_lr=0.1, box=7.5, cls=0.5, dfl=1.5, pose=12.0, kobj=1.0, label_smoothing=0.0, nbs=64, hsv_h=0.015, hsv_s=0.7, hsv_v=0.4, degrees=0.0, translate=0.1, scale=0.5, shear=0.0, perspective=0.0, flipud=0.0, fliplr=0.5, mosaic=1.0, mixup=0.0, copy_paste=0.0, auto_augment=randaugment, erasing=0.4, crop_fraction=1.0, cfg=None, tracker=botsort.yaml, save_dir=C:\\Users\\richa_0\\Documents\\Coral Research\\Machine Learning Models\\coral finder.v6i.yolov8\\results\\50_epochs-\n",
      "Overriding model.yaml nc=80 with nc=1\n",
      "\n",
      "                   from  n    params  module                                       arguments                     \n",
      "  0                  -1  1       464  ultralytics.nn.modules.conv.Conv             [3, 16, 3, 2]                 \n",
      "  1                  -1  1      4672  ultralytics.nn.modules.conv.Conv             [16, 32, 3, 2]                \n",
      "  2                  -1  1      7360  ultralytics.nn.modules.block.C2f             [32, 32, 1, True]             \n",
      "  3                  -1  1     18560  ultralytics.nn.modules.conv.Conv             [32, 64, 3, 2]                \n",
      "  4                  -1  2     49664  ultralytics.nn.modules.block.C2f             [64, 64, 2, True]             \n",
      "  5                  -1  1     73984  ultralytics.nn.modules.conv.Conv             [64, 128, 3, 2]               \n",
      "  6                  -1  2    197632  ultralytics.nn.modules.block.C2f             [128, 128, 2, True]           \n",
      "  7                  -1  1    295424  ultralytics.nn.modules.conv.Conv             [128, 256, 3, 2]              \n",
      "  8                  -1  1    460288  ultralytics.nn.modules.block.C2f             [256, 256, 1, True]           \n",
      "  9                  -1  1    164608  ultralytics.nn.modules.block.SPPF            [256, 256, 5]                 \n",
      " 10                  -1  1         0  torch.nn.modules.upsampling.Upsample         [None, 2, 'nearest']          \n",
      " 11             [-1, 6]  1         0  ultralytics.nn.modules.conv.Concat           [1]                           \n",
      " 12                  -1  1    148224  ultralytics.nn.modules.block.C2f             [384, 128, 1]                 \n",
      " 13                  -1  1         0  torch.nn.modules.upsampling.Upsample         [None, 2, 'nearest']          \n",
      " 14             [-1, 4]  1         0  ultralytics.nn.modules.conv.Concat           [1]                           \n",
      " 15                  -1  1     37248  ultralytics.nn.modules.block.C2f             [192, 64, 1]                  \n",
      " 16                  -1  1     36992  ultralytics.nn.modules.conv.Conv             [64, 64, 3, 2]                \n",
      " 17            [-1, 12]  1         0  ultralytics.nn.modules.conv.Concat           [1]                           \n",
      " 18                  -1  1    123648  ultralytics.nn.modules.block.C2f             [192, 128, 1]                 \n",
      " 19                  -1  1    147712  ultralytics.nn.modules.conv.Conv             [128, 128, 3, 2]              \n",
      " 20             [-1, 9]  1         0  ultralytics.nn.modules.conv.Concat           [1]                           \n",
      " 21                  -1  1    493056  ultralytics.nn.modules.block.C2f             [384, 256, 1]                 \n",
      " 22        [15, 18, 21]  1    751507  ultralytics.nn.modules.head.Detect           [1, [64, 128, 256]]           \n",
      "Model summary: 225 layers, 3011043 parameters, 3011027 gradients, 8.2 GFLOPs\n",
      "\n",
      "Transferred 319/355 items from pretrained weights\n",
      "Freezing layer 'model.22.dfl.conv.weight'\n",
      "\u001b[34m\u001b[1mAMP: \u001b[0mrunning Automatic Mixed Precision (AMP) checks with YOLOv8n...\n",
      "\u001b[34m\u001b[1mAMP: \u001b[0mchecks passed ✅\n"
     ]
    },
    {
     "name": "stderr",
     "output_type": "stream",
     "text": [
      "\u001b[34m\u001b[1mtrain: \u001b[0mScanning C:\\Users\\richa_0\\Documents\\Coral Research\\Machine Learning Models\\coral finder.v6i.yolov8\\train\\labels... 1236 images, 0 backgrounds, 0 corrupt: 100%|██████████| 1236/1236 [00:00<00:00, 1276.59it/s]\n"
     ]
    },
    {
     "name": "stdout",
     "output_type": "stream",
     "text": [
      "\u001b[34m\u001b[1mtrain: \u001b[0mNew cache created: C:\\Users\\richa_0\\Documents\\Coral Research\\Machine Learning Models\\coral finder.v6i.yolov8\\train\\labels.cache\n"
     ]
    },
    {
     "name": "stderr",
     "output_type": "stream",
     "text": [
      "\u001b[34m\u001b[1mval: \u001b[0mScanning C:\\Users\\richa_0\\Documents\\Coral Research\\Machine Learning Models\\coral finder.v6i.yolov8\\valid\\labels... 354 images, 1 backgrounds, 0 corrupt: 100%|██████████| 354/354 [00:00<00:00, 936.30it/s]"
     ]
    },
    {
     "name": "stdout",
     "output_type": "stream",
     "text": [
      "\u001b[34m\u001b[1mval: \u001b[0mNew cache created: C:\\Users\\richa_0\\Documents\\Coral Research\\Machine Learning Models\\coral finder.v6i.yolov8\\valid\\labels.cache\n"
     ]
    },
    {
     "name": "stderr",
     "output_type": "stream",
     "text": [
      "\n"
     ]
    },
    {
     "name": "stdout",
     "output_type": "stream",
     "text": [
      "Plotting labels to C:\\Users\\richa_0\\Documents\\Coral Research\\Machine Learning Models\\coral finder.v6i.yolov8\\results\\50_epochs-\\labels.jpg... \n",
      "\u001b[34m\u001b[1moptimizer:\u001b[0m 'optimizer=auto' found, ignoring 'lr0=0.01' and 'momentum=0.937' and determining best 'optimizer', 'lr0' and 'momentum' automatically... \n",
      "\u001b[34m\u001b[1moptimizer:\u001b[0m AdamW(lr=0.002, momentum=0.9) with parameter groups 57 weight(decay=0.0), 64 weight(decay=0.0005), 63 bias(decay=0.0)\n",
      "Image sizes 640 train, 640 val\n",
      "Using 8 dataloader workers\n",
      "Logging results to \u001b[1mC:\\Users\\richa_0\\Documents\\Coral Research\\Machine Learning Models\\coral finder.v6i.yolov8\\results\\50_epochs-\u001b[0m\n",
      "Starting training for 50 epochs...\n",
      "\n",
      "      Epoch    GPU_mem   box_loss   cls_loss   dfl_loss  Instances       Size\n"
     ]
    },
    {
     "name": "stderr",
     "output_type": "stream",
     "text": [
      "       1/50      3.56G     0.9393      1.585      1.247         12        640: 100%|██████████| 309/309 [00:21<00:00, 14.41it/s]\n",
      "                 Class     Images  Instances      Box(P          R      mAP50  mAP50-95): 100%|██████████| 45/45 [00:02<00:00, 18.43it/s]"
     ]
    },
    {
     "name": "stdout",
     "output_type": "stream",
     "text": [
      "                   all        354        353       0.81      0.843      0.894      0.661\n"
     ]
    },
    {
     "name": "stderr",
     "output_type": "stream",
     "text": [
      "\n"
     ]
    },
    {
     "name": "stdout",
     "output_type": "stream",
     "text": [
      "\n",
      "      Epoch    GPU_mem   box_loss   cls_loss   dfl_loss  Instances       Size\n"
     ]
    },
    {
     "name": "stderr",
     "output_type": "stream",
     "text": [
      "       2/50      3.57G     0.9719      1.113      1.253          6        640: 100%|██████████| 309/309 [00:19<00:00, 16.06it/s]\n",
      "                 Class     Images  Instances      Box(P          R      mAP50  mAP50-95): 100%|██████████| 45/45 [00:02<00:00, 19.89it/s]\n"
     ]
    },
    {
     "name": "stdout",
     "output_type": "stream",
     "text": [
      "                   all        354        353      0.931       0.87      0.944      0.701\n",
      "\n",
      "      Epoch    GPU_mem   box_loss   cls_loss   dfl_loss  Instances       Size\n"
     ]
    },
    {
     "name": "stderr",
     "output_type": "stream",
     "text": [
      "       3/50      3.57G     0.9657     0.9303      1.266          7        640: 100%|██████████| 309/309 [00:18<00:00, 16.59it/s]\n",
      "                 Class     Images  Instances      Box(P          R      mAP50  mAP50-95): 100%|██████████| 45/45 [00:02<00:00, 20.75it/s]"
     ]
    },
    {
     "name": "stdout",
     "output_type": "stream",
     "text": [
      "                   all        354        353      0.957      0.924      0.971      0.753\n"
     ]
    },
    {
     "name": "stderr",
     "output_type": "stream",
     "text": [
      "\n"
     ]
    },
    {
     "name": "stdout",
     "output_type": "stream",
     "text": [
      "\n",
      "      Epoch    GPU_mem   box_loss   cls_loss   dfl_loss  Instances       Size\n"
     ]
    },
    {
     "name": "stderr",
     "output_type": "stream",
     "text": [
      "       4/50      3.57G     0.9249     0.7987      1.235          8        640: 100%|██████████| 309/309 [00:17<00:00, 17.31it/s]\n",
      "                 Class     Images  Instances      Box(P          R      mAP50  mAP50-95): 100%|██████████| 45/45 [00:02<00:00, 20.55it/s]\n"
     ]
    },
    {
     "name": "stdout",
     "output_type": "stream",
     "text": [
      "                   all        354        353      0.955      0.926      0.978      0.749\n",
      "\n",
      "      Epoch    GPU_mem   box_loss   cls_loss   dfl_loss  Instances       Size\n"
     ]
    },
    {
     "name": "stderr",
     "output_type": "stream",
     "text": [
      "       5/50      3.54G      0.931     0.7304       1.23          4        640: 100%|██████████| 309/309 [00:17<00:00, 17.51it/s]\n",
      "                 Class     Images  Instances      Box(P          R      mAP50  mAP50-95): 100%|██████████| 45/45 [00:02<00:00, 16.14it/s]\n"
     ]
    },
    {
     "name": "stdout",
     "output_type": "stream",
     "text": [
      "                   all        354        353      0.969      0.969      0.987      0.768\n",
      "\n",
      "      Epoch    GPU_mem   box_loss   cls_loss   dfl_loss  Instances       Size\n"
     ]
    },
    {
     "name": "stderr",
     "output_type": "stream",
     "text": [
      "       6/50      3.54G     0.8838     0.6975      1.195          6        640: 100%|██████████| 309/309 [00:20<00:00, 15.25it/s]\n",
      "                 Class     Images  Instances      Box(P          R      mAP50  mAP50-95): 100%|██████████| 45/45 [00:02<00:00, 19.41it/s]"
     ]
    },
    {
     "name": "stdout",
     "output_type": "stream",
     "text": [
      "                   all        354        353      0.966      0.965      0.979       0.78\n"
     ]
    },
    {
     "name": "stderr",
     "output_type": "stream",
     "text": [
      "\n"
     ]
    },
    {
     "name": "stdout",
     "output_type": "stream",
     "text": [
      "\n",
      "      Epoch    GPU_mem   box_loss   cls_loss   dfl_loss  Instances       Size\n"
     ]
    },
    {
     "name": "stderr",
     "output_type": "stream",
     "text": [
      "       7/50      3.54G      0.871     0.6645      1.208          8        640: 100%|██████████| 309/309 [00:17<00:00, 17.23it/s]\n",
      "                 Class     Images  Instances      Box(P          R      mAP50  mAP50-95): 100%|██████████| 45/45 [00:02<00:00, 21.47it/s]"
     ]
    },
    {
     "name": "stdout",
     "output_type": "stream",
     "text": [
      "                   all        354        353      0.959      0.972      0.982      0.765\n"
     ]
    },
    {
     "name": "stderr",
     "output_type": "stream",
     "text": [
      "\n"
     ]
    },
    {
     "name": "stdout",
     "output_type": "stream",
     "text": [
      "\n",
      "      Epoch    GPU_mem   box_loss   cls_loss   dfl_loss  Instances       Size\n"
     ]
    },
    {
     "name": "stderr",
     "output_type": "stream",
     "text": [
      "       8/50      3.54G     0.8744     0.6403      1.194          6        640: 100%|██████████| 309/309 [00:19<00:00, 15.46it/s]\n",
      "                 Class     Images  Instances      Box(P          R      mAP50  mAP50-95): 100%|██████████| 45/45 [00:02<00:00, 19.96it/s]"
     ]
    },
    {
     "name": "stdout",
     "output_type": "stream",
     "text": [
      "                   all        354        353      0.977      0.965      0.992      0.788\n"
     ]
    },
    {
     "name": "stderr",
     "output_type": "stream",
     "text": [
      "\n"
     ]
    },
    {
     "name": "stdout",
     "output_type": "stream",
     "text": [
      "\n",
      "      Epoch    GPU_mem   box_loss   cls_loss   dfl_loss  Instances       Size\n"
     ]
    },
    {
     "name": "stderr",
     "output_type": "stream",
     "text": [
      "       9/50      3.54G     0.8475     0.5901      1.164         12        640: 100%|██████████| 309/309 [00:20<00:00, 14.80it/s]\n",
      "                 Class     Images  Instances      Box(P          R      mAP50  mAP50-95): 100%|██████████| 45/45 [00:02<00:00, 19.51it/s]"
     ]
    },
    {
     "name": "stdout",
     "output_type": "stream",
     "text": [
      "                   all        354        353       0.96      0.972       0.99      0.797\n"
     ]
    },
    {
     "name": "stderr",
     "output_type": "stream",
     "text": [
      "\n"
     ]
    },
    {
     "name": "stdout",
     "output_type": "stream",
     "text": [
      "\n",
      "      Epoch    GPU_mem   box_loss   cls_loss   dfl_loss  Instances       Size\n"
     ]
    },
    {
     "name": "stderr",
     "output_type": "stream",
     "text": [
      "      10/50      3.54G     0.8343     0.5835      1.158          8        640: 100%|██████████| 309/309 [00:19<00:00, 15.53it/s]\n",
      "                 Class     Images  Instances      Box(P          R      mAP50  mAP50-95): 100%|██████████| 45/45 [00:02<00:00, 19.40it/s]"
     ]
    },
    {
     "name": "stdout",
     "output_type": "stream",
     "text": [
      "                   all        354        353      0.971      0.977      0.987       0.81\n"
     ]
    },
    {
     "name": "stderr",
     "output_type": "stream",
     "text": [
      "\n"
     ]
    },
    {
     "name": "stdout",
     "output_type": "stream",
     "text": [
      "\n",
      "      Epoch    GPU_mem   box_loss   cls_loss   dfl_loss  Instances       Size\n"
     ]
    },
    {
     "name": "stderr",
     "output_type": "stream",
     "text": [
      "      11/50      3.54G     0.8317      0.563      1.153          8        640: 100%|██████████| 309/309 [00:18<00:00, 16.45it/s]\n",
      "                 Class     Images  Instances      Box(P          R      mAP50  mAP50-95): 100%|██████████| 45/45 [00:02<00:00, 21.48it/s]"
     ]
    },
    {
     "name": "stdout",
     "output_type": "stream",
     "text": [
      "                   all        354        353      0.977       0.98      0.992      0.811\n"
     ]
    },
    {
     "name": "stderr",
     "output_type": "stream",
     "text": [
      "\n"
     ]
    },
    {
     "name": "stdout",
     "output_type": "stream",
     "text": [
      "\n",
      "      Epoch    GPU_mem   box_loss   cls_loss   dfl_loss  Instances       Size\n"
     ]
    },
    {
     "name": "stderr",
     "output_type": "stream",
     "text": [
      "      12/50      3.54G     0.7839     0.5382      1.142          4        640: 100%|██████████| 309/309 [00:18<00:00, 16.73it/s]\n",
      "                 Class     Images  Instances      Box(P          R      mAP50  mAP50-95): 100%|██████████| 45/45 [00:02<00:00, 21.14it/s]"
     ]
    },
    {
     "name": "stdout",
     "output_type": "stream",
     "text": [
      "                   all        354        353      0.966      0.953      0.988        0.8\n"
     ]
    },
    {
     "name": "stderr",
     "output_type": "stream",
     "text": [
      "\n"
     ]
    },
    {
     "name": "stdout",
     "output_type": "stream",
     "text": [
      "\n",
      "      Epoch    GPU_mem   box_loss   cls_loss   dfl_loss  Instances       Size\n"
     ]
    },
    {
     "name": "stderr",
     "output_type": "stream",
     "text": [
      "      13/50      3.54G      0.748     0.5174       1.12          9        640: 100%|██████████| 309/309 [00:19<00:00, 15.89it/s]\n",
      "                 Class     Images  Instances      Box(P          R      mAP50  mAP50-95): 100%|██████████| 45/45 [00:02<00:00, 20.13it/s]"
     ]
    },
    {
     "name": "stdout",
     "output_type": "stream",
     "text": [
      "                   all        354        353      0.974       0.98      0.989      0.814\n"
     ]
    },
    {
     "name": "stderr",
     "output_type": "stream",
     "text": [
      "\n"
     ]
    },
    {
     "name": "stdout",
     "output_type": "stream",
     "text": [
      "\n",
      "      Epoch    GPU_mem   box_loss   cls_loss   dfl_loss  Instances       Size\n"
     ]
    },
    {
     "name": "stderr",
     "output_type": "stream",
     "text": [
      "      14/50      3.54G     0.7974      0.531      1.161          7        640: 100%|██████████| 309/309 [00:19<00:00, 16.25it/s]\n",
      "                 Class     Images  Instances      Box(P          R      mAP50  mAP50-95): 100%|██████████| 45/45 [00:02<00:00, 20.67it/s]"
     ]
    },
    {
     "name": "stdout",
     "output_type": "stream",
     "text": [
      "                   all        354        353      0.987      0.983      0.993      0.827\n"
     ]
    },
    {
     "name": "stderr",
     "output_type": "stream",
     "text": [
      "\n"
     ]
    },
    {
     "name": "stdout",
     "output_type": "stream",
     "text": [
      "\n",
      "      Epoch    GPU_mem   box_loss   cls_loss   dfl_loss  Instances       Size\n"
     ]
    },
    {
     "name": "stderr",
     "output_type": "stream",
     "text": [
      "      15/50      3.54G     0.7532     0.4939       1.12          7        640: 100%|██████████| 309/309 [00:18<00:00, 16.41it/s]\n",
      "                 Class     Images  Instances      Box(P          R      mAP50  mAP50-95): 100%|██████████| 45/45 [00:02<00:00, 19.71it/s]\n"
     ]
    },
    {
     "name": "stdout",
     "output_type": "stream",
     "text": [
      "                   all        354        353      0.972      0.991      0.993      0.824\n",
      "\n",
      "      Epoch    GPU_mem   box_loss   cls_loss   dfl_loss  Instances       Size\n"
     ]
    },
    {
     "name": "stderr",
     "output_type": "stream",
     "text": [
      "      16/50      3.54G      0.774     0.5275       1.13         11        640: 100%|██████████| 309/309 [00:18<00:00, 16.66it/s]\n",
      "                 Class     Images  Instances      Box(P          R      mAP50  mAP50-95): 100%|██████████| 45/45 [00:02<00:00, 20.99it/s]"
     ]
    },
    {
     "name": "stdout",
     "output_type": "stream",
     "text": [
      "                   all        354        353      0.982      0.986      0.993      0.814\n"
     ]
    },
    {
     "name": "stderr",
     "output_type": "stream",
     "text": [
      "\n"
     ]
    },
    {
     "name": "stdout",
     "output_type": "stream",
     "text": [
      "\n",
      "      Epoch    GPU_mem   box_loss   cls_loss   dfl_loss  Instances       Size\n"
     ]
    },
    {
     "name": "stderr",
     "output_type": "stream",
     "text": [
      "      17/50      3.54G     0.7558     0.5017      1.137          6        640: 100%|██████████| 309/309 [00:18<00:00, 16.83it/s]\n",
      "                 Class     Images  Instances      Box(P          R      mAP50  mAP50-95): 100%|██████████| 45/45 [00:02<00:00, 19.52it/s]\n"
     ]
    },
    {
     "name": "stdout",
     "output_type": "stream",
     "text": [
      "                   all        354        353      0.976      0.986      0.992      0.834\n",
      "\n",
      "      Epoch    GPU_mem   box_loss   cls_loss   dfl_loss  Instances       Size\n"
     ]
    },
    {
     "name": "stderr",
     "output_type": "stream",
     "text": [
      "      18/50      3.54G     0.7701     0.4816      1.124          6        640: 100%|██████████| 309/309 [00:18<00:00, 17.00it/s]\n",
      "                 Class     Images  Instances      Box(P          R      mAP50  mAP50-95): 100%|██████████| 45/45 [00:02<00:00, 20.36it/s]"
     ]
    },
    {
     "name": "stdout",
     "output_type": "stream",
     "text": [
      "                   all        354        353      0.985      0.983      0.992      0.837\n"
     ]
    },
    {
     "name": "stderr",
     "output_type": "stream",
     "text": [
      "\n"
     ]
    },
    {
     "name": "stdout",
     "output_type": "stream",
     "text": [
      "\n",
      "      Epoch    GPU_mem   box_loss   cls_loss   dfl_loss  Instances       Size\n"
     ]
    },
    {
     "name": "stderr",
     "output_type": "stream",
     "text": [
      "      19/50      3.54G     0.7179     0.4628      1.096         13        640: 100%|██████████| 309/309 [00:19<00:00, 16.14it/s]\n",
      "                 Class     Images  Instances      Box(P          R      mAP50  mAP50-95): 100%|██████████| 45/45 [00:02<00:00, 21.61it/s]"
     ]
    },
    {
     "name": "stdout",
     "output_type": "stream",
     "text": [
      "                   all        354        353      0.977      0.992      0.993      0.835\n"
     ]
    },
    {
     "name": "stderr",
     "output_type": "stream",
     "text": [
      "\n"
     ]
    },
    {
     "name": "stdout",
     "output_type": "stream",
     "text": [
      "\n",
      "      Epoch    GPU_mem   box_loss   cls_loss   dfl_loss  Instances       Size\n"
     ]
    },
    {
     "name": "stderr",
     "output_type": "stream",
     "text": [
      "      20/50      3.54G     0.7184     0.4549      1.103          5        640: 100%|██████████| 309/309 [00:18<00:00, 16.79it/s]\n",
      "                 Class     Images  Instances      Box(P          R      mAP50  mAP50-95): 100%|██████████| 45/45 [00:02<00:00, 20.88it/s]"
     ]
    },
    {
     "name": "stdout",
     "output_type": "stream",
     "text": [
      "                   all        354        353      0.991      0.983      0.994      0.834\n"
     ]
    },
    {
     "name": "stderr",
     "output_type": "stream",
     "text": [
      "\n"
     ]
    },
    {
     "name": "stdout",
     "output_type": "stream",
     "text": [
      "\n",
      "      Epoch    GPU_mem   box_loss   cls_loss   dfl_loss  Instances       Size\n"
     ]
    },
    {
     "name": "stderr",
     "output_type": "stream",
     "text": [
      "      21/50      3.54G     0.7546     0.4708      1.135          8        640: 100%|██████████| 309/309 [00:18<00:00, 16.92it/s]\n",
      "                 Class     Images  Instances      Box(P          R      mAP50  mAP50-95): 100%|██████████| 45/45 [00:02<00:00, 20.57it/s]"
     ]
    },
    {
     "name": "stdout",
     "output_type": "stream",
     "text": [
      "                   all        354        353      0.991      0.983      0.994      0.832\n"
     ]
    },
    {
     "name": "stderr",
     "output_type": "stream",
     "text": [
      "\n"
     ]
    },
    {
     "name": "stdout",
     "output_type": "stream",
     "text": [
      "\n",
      "      Epoch    GPU_mem   box_loss   cls_loss   dfl_loss  Instances       Size\n"
     ]
    },
    {
     "name": "stderr",
     "output_type": "stream",
     "text": [
      "      22/50      3.54G     0.7327     0.4539      1.111         10        640: 100%|██████████| 309/309 [00:19<00:00, 16.26it/s]\n",
      "                 Class     Images  Instances      Box(P          R      mAP50  mAP50-95): 100%|██████████| 45/45 [00:02<00:00, 20.77it/s]"
     ]
    },
    {
     "name": "stdout",
     "output_type": "stream",
     "text": [
      "                   all        354        353      0.994      0.982      0.994      0.852\n"
     ]
    },
    {
     "name": "stderr",
     "output_type": "stream",
     "text": [
      "\n"
     ]
    },
    {
     "name": "stdout",
     "output_type": "stream",
     "text": [
      "\n",
      "      Epoch    GPU_mem   box_loss   cls_loss   dfl_loss  Instances       Size\n"
     ]
    },
    {
     "name": "stderr",
     "output_type": "stream",
     "text": [
      "      23/50      3.54G      0.718       0.45      1.093          4        640: 100%|██████████| 309/309 [00:18<00:00, 16.27it/s]\n",
      "                 Class     Images  Instances      Box(P          R      mAP50  mAP50-95): 100%|██████████| 45/45 [00:02<00:00, 21.49it/s]"
     ]
    },
    {
     "name": "stdout",
     "output_type": "stream",
     "text": [
      "                   all        354        353      0.989      0.986      0.994      0.838\n"
     ]
    },
    {
     "name": "stderr",
     "output_type": "stream",
     "text": [
      "\n"
     ]
    },
    {
     "name": "stdout",
     "output_type": "stream",
     "text": [
      "\n",
      "      Epoch    GPU_mem   box_loss   cls_loss   dfl_loss  Instances       Size\n"
     ]
    },
    {
     "name": "stderr",
     "output_type": "stream",
     "text": [
      "      24/50      3.54G     0.7133     0.4336      1.099          6        640: 100%|██████████| 309/309 [00:19<00:00, 15.96it/s]\n",
      "                 Class     Images  Instances      Box(P          R      mAP50  mAP50-95): 100%|██████████| 45/45 [00:02<00:00, 19.16it/s]\n"
     ]
    },
    {
     "name": "stdout",
     "output_type": "stream",
     "text": [
      "                   all        354        353      0.983      0.986      0.994      0.841\n",
      "\n",
      "      Epoch    GPU_mem   box_loss   cls_loss   dfl_loss  Instances       Size\n"
     ]
    },
    {
     "name": "stderr",
     "output_type": "stream",
     "text": [
      "      25/50      3.54G     0.7221     0.4458      1.102          8        640: 100%|██████████| 309/309 [00:19<00:00, 15.72it/s]\n",
      "                 Class     Images  Instances      Box(P          R      mAP50  mAP50-95): 100%|██████████| 45/45 [00:02<00:00, 21.07it/s]"
     ]
    },
    {
     "name": "stdout",
     "output_type": "stream",
     "text": [
      "                   all        354        353      0.975      0.983      0.991      0.837\n"
     ]
    },
    {
     "name": "stderr",
     "output_type": "stream",
     "text": [
      "\n"
     ]
    },
    {
     "name": "stdout",
     "output_type": "stream",
     "text": [
      "\n",
      "      Epoch    GPU_mem   box_loss   cls_loss   dfl_loss  Instances       Size\n"
     ]
    },
    {
     "name": "stderr",
     "output_type": "stream",
     "text": [
      "      26/50      3.54G      0.705     0.4386      1.095         10        640: 100%|██████████| 309/309 [00:19<00:00, 16.15it/s]\n",
      "                 Class     Images  Instances      Box(P          R      mAP50  mAP50-95): 100%|██████████| 45/45 [00:02<00:00, 20.91it/s]"
     ]
    },
    {
     "name": "stdout",
     "output_type": "stream",
     "text": [
      "                   all        354        353      0.986       0.98      0.993      0.836\n"
     ]
    },
    {
     "name": "stderr",
     "output_type": "stream",
     "text": [
      "\n"
     ]
    },
    {
     "name": "stdout",
     "output_type": "stream",
     "text": [
      "\n",
      "      Epoch    GPU_mem   box_loss   cls_loss   dfl_loss  Instances       Size\n"
     ]
    },
    {
     "name": "stderr",
     "output_type": "stream",
     "text": [
      "      27/50      3.54G     0.6946      0.422      1.076          8        640: 100%|██████████| 309/309 [00:18<00:00, 16.80it/s]\n",
      "                 Class     Images  Instances      Box(P          R      mAP50  mAP50-95): 100%|██████████| 45/45 [00:02<00:00, 20.05it/s]"
     ]
    },
    {
     "name": "stdout",
     "output_type": "stream",
     "text": [
      "                   all        354        353       0.99      0.989      0.994      0.855\n"
     ]
    },
    {
     "name": "stderr",
     "output_type": "stream",
     "text": [
      "\n"
     ]
    },
    {
     "name": "stdout",
     "output_type": "stream",
     "text": [
      "\n",
      "      Epoch    GPU_mem   box_loss   cls_loss   dfl_loss  Instances       Size\n"
     ]
    },
    {
     "name": "stderr",
     "output_type": "stream",
     "text": [
      "      28/50      3.54G     0.6934       0.43      1.078          9        640: 100%|██████████| 309/309 [00:18<00:00, 16.68it/s]\n",
      "                 Class     Images  Instances      Box(P          R      mAP50  mAP50-95): 100%|██████████| 45/45 [00:02<00:00, 21.33it/s]"
     ]
    },
    {
     "name": "stdout",
     "output_type": "stream",
     "text": [
      "                   all        354        353      0.991      0.986      0.994       0.85\n"
     ]
    },
    {
     "name": "stderr",
     "output_type": "stream",
     "text": [
      "\n"
     ]
    },
    {
     "name": "stdout",
     "output_type": "stream",
     "text": [
      "\n",
      "      Epoch    GPU_mem   box_loss   cls_loss   dfl_loss  Instances       Size\n"
     ]
    },
    {
     "name": "stderr",
     "output_type": "stream",
     "text": [
      "      29/50      3.54G     0.6908      0.424      1.098         13        640: 100%|██████████| 309/309 [00:18<00:00, 16.69it/s]\n",
      "                 Class     Images  Instances      Box(P          R      mAP50  mAP50-95): 100%|██████████| 45/45 [00:02<00:00, 21.47it/s]"
     ]
    },
    {
     "name": "stdout",
     "output_type": "stream",
     "text": [
      "                   all        354        353      0.982      0.989      0.994      0.851\n"
     ]
    },
    {
     "name": "stderr",
     "output_type": "stream",
     "text": [
      "\n"
     ]
    },
    {
     "name": "stdout",
     "output_type": "stream",
     "text": [
      "\n",
      "      Epoch    GPU_mem   box_loss   cls_loss   dfl_loss  Instances       Size\n"
     ]
    },
    {
     "name": "stderr",
     "output_type": "stream",
     "text": [
      "      30/50      3.54G     0.6823     0.4296      1.092         12        640: 100%|██████████| 309/309 [00:18<00:00, 17.14it/s]\n",
      "                 Class     Images  Instances      Box(P          R      mAP50  mAP50-95): 100%|██████████| 45/45 [00:02<00:00, 19.43it/s]\n"
     ]
    },
    {
     "name": "stdout",
     "output_type": "stream",
     "text": [
      "                   all        354        353      0.986      0.993      0.994      0.855\n",
      "\n",
      "      Epoch    GPU_mem   box_loss   cls_loss   dfl_loss  Instances       Size\n"
     ]
    },
    {
     "name": "stderr",
     "output_type": "stream",
     "text": [
      "      31/50      3.54G      0.674      0.415      1.082          4        640: 100%|██████████| 309/309 [00:18<00:00, 16.28it/s]\n",
      "                 Class     Images  Instances      Box(P          R      mAP50  mAP50-95): 100%|██████████| 45/45 [00:02<00:00, 21.17it/s]"
     ]
    },
    {
     "name": "stdout",
     "output_type": "stream",
     "text": [
      "                   all        354        353      0.992      0.992      0.994      0.864\n"
     ]
    },
    {
     "name": "stderr",
     "output_type": "stream",
     "text": [
      "\n"
     ]
    },
    {
     "name": "stdout",
     "output_type": "stream",
     "text": [
      "\n",
      "      Epoch    GPU_mem   box_loss   cls_loss   dfl_loss  Instances       Size\n"
     ]
    },
    {
     "name": "stderr",
     "output_type": "stream",
     "text": [
      "      32/50      3.54G     0.6731     0.4001      1.073         10        640: 100%|██████████| 309/309 [00:18<00:00, 17.04it/s]\n",
      "                 Class     Images  Instances      Box(P          R      mAP50  mAP50-95): 100%|██████████| 45/45 [00:02<00:00, 21.49it/s]"
     ]
    },
    {
     "name": "stdout",
     "output_type": "stream",
     "text": [
      "                   all        354        353      0.976      0.994      0.992      0.855\n"
     ]
    },
    {
     "name": "stderr",
     "output_type": "stream",
     "text": [
      "\n"
     ]
    },
    {
     "name": "stdout",
     "output_type": "stream",
     "text": [
      "\n",
      "      Epoch    GPU_mem   box_loss   cls_loss   dfl_loss  Instances       Size\n"
     ]
    },
    {
     "name": "stderr",
     "output_type": "stream",
     "text": [
      "      33/50      3.54G     0.6639     0.3967      1.074          7        640: 100%|██████████| 309/309 [00:18<00:00, 16.85it/s]\n",
      "                 Class     Images  Instances      Box(P          R      mAP50  mAP50-95): 100%|██████████| 45/45 [00:02<00:00, 19.34it/s]"
     ]
    },
    {
     "name": "stdout",
     "output_type": "stream",
     "text": [
      "                   all        354        353      0.986       0.98      0.993      0.859\n"
     ]
    },
    {
     "name": "stderr",
     "output_type": "stream",
     "text": [
      "\n"
     ]
    },
    {
     "name": "stdout",
     "output_type": "stream",
     "text": [
      "\n",
      "      Epoch    GPU_mem   box_loss   cls_loss   dfl_loss  Instances       Size\n"
     ]
    },
    {
     "name": "stderr",
     "output_type": "stream",
     "text": [
      "      34/50      3.54G     0.6586     0.3864      1.075          5        640: 100%|██████████| 309/309 [00:18<00:00, 16.72it/s]\n",
      "                 Class     Images  Instances      Box(P          R      mAP50  mAP50-95): 100%|██████████| 45/45 [00:02<00:00, 21.24it/s]"
     ]
    },
    {
     "name": "stdout",
     "output_type": "stream",
     "text": [
      "                   all        354        353      0.984      0.986      0.993      0.868\n"
     ]
    },
    {
     "name": "stderr",
     "output_type": "stream",
     "text": [
      "\n"
     ]
    },
    {
     "name": "stdout",
     "output_type": "stream",
     "text": [
      "\n",
      "      Epoch    GPU_mem   box_loss   cls_loss   dfl_loss  Instances       Size\n"
     ]
    },
    {
     "name": "stderr",
     "output_type": "stream",
     "text": [
      "      35/50      3.54G     0.6296     0.3745      1.054          8        640: 100%|██████████| 309/309 [00:18<00:00, 16.47it/s]\n",
      "                 Class     Images  Instances      Box(P          R      mAP50  mAP50-95): 100%|██████████| 45/45 [00:02<00:00, 20.69it/s]\n"
     ]
    },
    {
     "name": "stdout",
     "output_type": "stream",
     "text": [
      "                   all        354        353      0.983      0.991      0.994      0.862\n",
      "\n",
      "      Epoch    GPU_mem   box_loss   cls_loss   dfl_loss  Instances       Size\n"
     ]
    },
    {
     "name": "stderr",
     "output_type": "stream",
     "text": [
      "      36/50      3.54G     0.6531     0.3823      1.074          7        640: 100%|██████████| 309/309 [00:19<00:00, 15.45it/s]\n",
      "                 Class     Images  Instances      Box(P          R      mAP50  mAP50-95): 100%|██████████| 45/45 [00:02<00:00, 19.42it/s]"
     ]
    },
    {
     "name": "stdout",
     "output_type": "stream",
     "text": [
      "                   all        354        353      0.991       0.98      0.994       0.87\n"
     ]
    },
    {
     "name": "stderr",
     "output_type": "stream",
     "text": [
      "\n"
     ]
    },
    {
     "name": "stdout",
     "output_type": "stream",
     "text": [
      "\n",
      "      Epoch    GPU_mem   box_loss   cls_loss   dfl_loss  Instances       Size\n"
     ]
    },
    {
     "name": "stderr",
     "output_type": "stream",
     "text": [
      "      37/50      3.54G     0.6369     0.3745      1.055          5        640: 100%|██████████| 309/309 [00:18<00:00, 16.30it/s]\n",
      "                 Class     Images  Instances      Box(P          R      mAP50  mAP50-95): 100%|██████████| 45/45 [00:02<00:00, 21.67it/s]"
     ]
    },
    {
     "name": "stdout",
     "output_type": "stream",
     "text": [
      "                   all        354        353      0.983      0.989      0.992      0.866\n"
     ]
    },
    {
     "name": "stderr",
     "output_type": "stream",
     "text": [
      "\n"
     ]
    },
    {
     "name": "stdout",
     "output_type": "stream",
     "text": [
      "\n",
      "      Epoch    GPU_mem   box_loss   cls_loss   dfl_loss  Instances       Size\n"
     ]
    },
    {
     "name": "stderr",
     "output_type": "stream",
     "text": [
      "      38/50      3.54G     0.6345     0.3662      1.053          5        640: 100%|██████████| 309/309 [00:18<00:00, 16.60it/s]\n",
      "                 Class     Images  Instances      Box(P          R      mAP50  mAP50-95): 100%|██████████| 45/45 [00:02<00:00, 21.47it/s]"
     ]
    },
    {
     "name": "stdout",
     "output_type": "stream",
     "text": [
      "                   all        354        353      0.978      0.999      0.993      0.881\n"
     ]
    },
    {
     "name": "stderr",
     "output_type": "stream",
     "text": [
      "\n"
     ]
    },
    {
     "name": "stdout",
     "output_type": "stream",
     "text": [
      "\n",
      "      Epoch    GPU_mem   box_loss   cls_loss   dfl_loss  Instances       Size\n"
     ]
    },
    {
     "name": "stderr",
     "output_type": "stream",
     "text": [
      "      39/50      3.54G     0.6172     0.3539      1.045          5        640: 100%|██████████| 309/309 [00:18<00:00, 16.81it/s]\n",
      "                 Class     Images  Instances      Box(P          R      mAP50  mAP50-95): 100%|██████████| 45/45 [00:02<00:00, 18.16it/s]"
     ]
    },
    {
     "name": "stdout",
     "output_type": "stream",
     "text": [
      "                   all        354        353      0.981      0.999      0.993      0.865\n"
     ]
    },
    {
     "name": "stderr",
     "output_type": "stream",
     "text": [
      "\n"
     ]
    },
    {
     "name": "stdout",
     "output_type": "stream",
     "text": [
      "\n",
      "      Epoch    GPU_mem   box_loss   cls_loss   dfl_loss  Instances       Size\n"
     ]
    },
    {
     "name": "stderr",
     "output_type": "stream",
     "text": [
      "      40/50      3.54G     0.6135     0.3449      1.053          7        640: 100%|██████████| 309/309 [00:18<00:00, 16.74it/s]\n",
      "                 Class     Images  Instances      Box(P          R      mAP50  mAP50-95): 100%|██████████| 45/45 [00:02<00:00, 17.32it/s]"
     ]
    },
    {
     "name": "stdout",
     "output_type": "stream",
     "text": [
      "                   all        354        353      0.991      0.991      0.993      0.865\n"
     ]
    },
    {
     "name": "stderr",
     "output_type": "stream",
     "text": [
      "\n"
     ]
    },
    {
     "name": "stdout",
     "output_type": "stream",
     "text": [
      "Closing dataloader mosaic\n",
      "\n",
      "      Epoch    GPU_mem   box_loss   cls_loss   dfl_loss  Instances       Size\n"
     ]
    },
    {
     "name": "stderr",
     "output_type": "stream",
     "text": [
      "      41/50      3.54G     0.5379      0.287     0.9783          4        640: 100%|██████████| 309/309 [00:18<00:00, 16.90it/s]\n",
      "                 Class     Images  Instances      Box(P          R      mAP50  mAP50-95): 100%|██████████| 45/45 [00:02<00:00, 22.30it/s]"
     ]
    },
    {
     "name": "stdout",
     "output_type": "stream",
     "text": [
      "                   all        354        353       0.98       0.99      0.992      0.855\n"
     ]
    },
    {
     "name": "stderr",
     "output_type": "stream",
     "text": [
      "\n"
     ]
    },
    {
     "name": "stdout",
     "output_type": "stream",
     "text": [
      "\n",
      "      Epoch    GPU_mem   box_loss   cls_loss   dfl_loss  Instances       Size\n"
     ]
    },
    {
     "name": "stderr",
     "output_type": "stream",
     "text": [
      "      42/50      3.54G      0.541     0.2848     0.9911          4        640: 100%|██████████| 309/309 [00:19<00:00, 16.08it/s]\n",
      "                 Class     Images  Instances      Box(P          R      mAP50  mAP50-95): 100%|██████████| 45/45 [00:02<00:00, 16.72it/s]"
     ]
    },
    {
     "name": "stdout",
     "output_type": "stream",
     "text": [
      "                   all        354        353      0.991      0.984      0.994      0.865\n"
     ]
    },
    {
     "name": "stderr",
     "output_type": "stream",
     "text": [
      "\n"
     ]
    },
    {
     "name": "stdout",
     "output_type": "stream",
     "text": [
      "\n",
      "      Epoch    GPU_mem   box_loss   cls_loss   dfl_loss  Instances       Size\n"
     ]
    },
    {
     "name": "stderr",
     "output_type": "stream",
     "text": [
      "      43/50      3.54G     0.5274     0.2769     0.9863          4        640: 100%|██████████| 309/309 [00:17<00:00, 17.75it/s]\n",
      "                 Class     Images  Instances      Box(P          R      mAP50  mAP50-95): 100%|██████████| 45/45 [00:01<00:00, 22.71it/s]"
     ]
    },
    {
     "name": "stdout",
     "output_type": "stream",
     "text": [
      "                   all        354        353      0.994      0.989      0.995       0.87\n"
     ]
    },
    {
     "name": "stderr",
     "output_type": "stream",
     "text": [
      "\n"
     ]
    },
    {
     "name": "stdout",
     "output_type": "stream",
     "text": [
      "\n",
      "      Epoch    GPU_mem   box_loss   cls_loss   dfl_loss  Instances       Size\n"
     ]
    },
    {
     "name": "stderr",
     "output_type": "stream",
     "text": [
      "      44/50      3.54G     0.5224     0.2747     0.9856          4        640: 100%|██████████| 309/309 [00:18<00:00, 16.31it/s]\n",
      "                 Class     Images  Instances      Box(P          R      mAP50  mAP50-95): 100%|██████████| 45/45 [00:02<00:00, 17.74it/s]"
     ]
    },
    {
     "name": "stdout",
     "output_type": "stream",
     "text": [
      "                   all        354        353      0.975      0.992      0.994      0.877\n"
     ]
    },
    {
     "name": "stderr",
     "output_type": "stream",
     "text": [
      "\n"
     ]
    },
    {
     "name": "stdout",
     "output_type": "stream",
     "text": [
      "\n",
      "      Epoch    GPU_mem   box_loss   cls_loss   dfl_loss  Instances       Size\n"
     ]
    },
    {
     "name": "stderr",
     "output_type": "stream",
     "text": [
      "      45/50      3.54G     0.5193      0.263     0.9802          4        640: 100%|██████████| 309/309 [00:21<00:00, 14.27it/s]\n",
      "                 Class     Images  Instances      Box(P          R      mAP50  mAP50-95): 100%|██████████| 45/45 [00:02<00:00, 19.04it/s]"
     ]
    },
    {
     "name": "stdout",
     "output_type": "stream",
     "text": [
      "                   all        354        353      0.991      0.992      0.994      0.872\n"
     ]
    },
    {
     "name": "stderr",
     "output_type": "stream",
     "text": [
      "\n"
     ]
    },
    {
     "name": "stdout",
     "output_type": "stream",
     "text": [
      "\n",
      "      Epoch    GPU_mem   box_loss   cls_loss   dfl_loss  Instances       Size\n"
     ]
    },
    {
     "name": "stderr",
     "output_type": "stream",
     "text": [
      "      46/50      3.54G      0.508      0.255     0.9653          4        640: 100%|██████████| 309/309 [00:19<00:00, 15.76it/s]\n",
      "                 Class     Images  Instances      Box(P          R      mAP50  mAP50-95): 100%|██████████| 45/45 [00:02<00:00, 20.49it/s]\n"
     ]
    },
    {
     "name": "stdout",
     "output_type": "stream",
     "text": [
      "                   all        354        353      0.991      0.991      0.994      0.874\n",
      "\n",
      "      Epoch    GPU_mem   box_loss   cls_loss   dfl_loss  Instances       Size\n"
     ]
    },
    {
     "name": "stderr",
     "output_type": "stream",
     "text": [
      "      47/50      3.54G     0.5085     0.2524      0.962          4        640: 100%|██████████| 309/309 [00:19<00:00, 15.94it/s]\n",
      "                 Class     Images  Instances      Box(P          R      mAP50  mAP50-95): 100%|██████████| 45/45 [00:02<00:00, 19.39it/s]"
     ]
    },
    {
     "name": "stdout",
     "output_type": "stream",
     "text": [
      "                   all        354        353      0.986      0.999      0.994      0.874\n"
     ]
    },
    {
     "name": "stderr",
     "output_type": "stream",
     "text": [
      "\n"
     ]
    },
    {
     "name": "stdout",
     "output_type": "stream",
     "text": [
      "\n",
      "      Epoch    GPU_mem   box_loss   cls_loss   dfl_loss  Instances       Size\n"
     ]
    },
    {
     "name": "stderr",
     "output_type": "stream",
     "text": [
      "      48/50      3.54G     0.5047     0.2501     0.9624          4        640: 100%|██████████| 309/309 [00:20<00:00, 15.38it/s]\n",
      "                 Class     Images  Instances      Box(P          R      mAP50  mAP50-95): 100%|██████████| 45/45 [00:02<00:00, 20.90it/s]"
     ]
    },
    {
     "name": "stdout",
     "output_type": "stream",
     "text": [
      "                   all        354        353      0.986          1      0.994      0.876\n"
     ]
    },
    {
     "name": "stderr",
     "output_type": "stream",
     "text": [
      "\n"
     ]
    },
    {
     "name": "stdout",
     "output_type": "stream",
     "text": [
      "\n",
      "      Epoch    GPU_mem   box_loss   cls_loss   dfl_loss  Instances       Size\n"
     ]
    },
    {
     "name": "stderr",
     "output_type": "stream",
     "text": [
      "      49/50      3.54G     0.4895     0.2434     0.9538          4        640: 100%|██████████| 309/309 [00:19<00:00, 15.79it/s]\n",
      "                 Class     Images  Instances      Box(P          R      mAP50  mAP50-95): 100%|██████████| 45/45 [00:02<00:00, 19.99it/s]\n"
     ]
    },
    {
     "name": "stdout",
     "output_type": "stream",
     "text": [
      "                   all        354        353      0.989      0.993      0.994      0.883\n",
      "\n",
      "      Epoch    GPU_mem   box_loss   cls_loss   dfl_loss  Instances       Size\n"
     ]
    },
    {
     "name": "stderr",
     "output_type": "stream",
     "text": [
      "      50/50      3.54G     0.4966     0.2434     0.9592          4        640: 100%|██████████| 309/309 [00:19<00:00, 15.95it/s]\n",
      "                 Class     Images  Instances      Box(P          R      mAP50  mAP50-95): 100%|██████████| 45/45 [00:02<00:00, 20.38it/s]"
     ]
    },
    {
     "name": "stdout",
     "output_type": "stream",
     "text": [
      "                   all        354        353      0.989      0.994      0.994      0.886\n"
     ]
    },
    {
     "name": "stderr",
     "output_type": "stream",
     "text": [
      "\n"
     ]
    },
    {
     "name": "stdout",
     "output_type": "stream",
     "text": [
      "\n",
      "50 epochs completed in 0.311 hours.\n",
      "Optimizer stripped from C:\\Users\\richa_0\\Documents\\Coral Research\\Machine Learning Models\\coral finder.v6i.yolov8\\results\\50_epochs-\\weights\\last.pt, 6.3MB\n",
      "Optimizer stripped from C:\\Users\\richa_0\\Documents\\Coral Research\\Machine Learning Models\\coral finder.v6i.yolov8\\results\\50_epochs-\\weights\\best.pt, 6.3MB\n",
      "\n",
      "Validating C:\\Users\\richa_0\\Documents\\Coral Research\\Machine Learning Models\\coral finder.v6i.yolov8\\results\\50_epochs-\\weights\\best.pt...\n",
      "Ultralytics YOLOv8.1.11 🚀 Python-3.10.13 torch-2.2.0+cu118 CUDA:0 (NVIDIA GeForce RTX 3070 Ti Laptop GPU, 8192MiB)\n",
      "Model summary (fused): 168 layers, 3005843 parameters, 0 gradients, 8.1 GFLOPs\n"
     ]
    },
    {
     "name": "stderr",
     "output_type": "stream",
     "text": [
      "                 Class     Images  Instances      Box(P          R      mAP50  mAP50-95): 100%|██████████| 45/45 [00:01<00:00, 23.72it/s]\n"
     ]
    },
    {
     "name": "stdout",
     "output_type": "stream",
     "text": [
      "                   all        354        353      0.989      0.994      0.994      0.885\n",
      "Speed: 0.2ms preprocess, 1.7ms inference, 0.0ms loss, 0.9ms postprocess per image\n",
      "Results saved to \u001b[1mC:\\Users\\richa_0\\Documents\\Coral Research\\Machine Learning Models\\coral finder.v6i.yolov8\\results\\50_epochs-\u001b[0m\n"
     ]
    }
   ],
   "source": [
    "results = model.train(data=r\"C:\\Users\\richa_0\\Documents\\Coral Research\\Machine Learning Models\\coral finder.v6i.yolov8\\data.yaml\",\n",
    "                      project=project,\n",
    "                      name=name,\n",
    "                      epochs=50,\n",
    "                      patience=0, #I am setting patience=0 to disable early stopping.\n",
    "                      batch=4,\n",
    "                      imgsz=640)"
   ]
  },
  {
   "cell_type": "markdown",
   "metadata": {},
   "source": [
    "## Define Methods"
   ]
  },
  {
   "cell_type": "code",
   "execution_count": 6,
   "metadata": {},
   "outputs": [],
   "source": [
    "def show_mask(mask, ax, random_color=False):\n",
    "    if random_color:\n",
    "        color = np.concatenate([np.random.random(3), np.array([0.6])], axis=0)\n",
    "    else:\n",
    "        color = np.array([30/255, 144/255, 255/255, 0.2]) #0.6\n",
    "    h, w = mask.shape[-2:]\n",
    "    mask_image = mask.reshape(h, w, 1) * color.reshape(1, 1, -1)\n",
    "    ax.imshow(mask_image)\n",
    "\n",
    "def show_points(coords, labels, ax, marker_size=375): #Extra method for the SAM inputs that we don't use\n",
    "    pos_points = coords[labels==1]\n",
    "    neg_points = coords[labels==0]\n",
    "    ax.scatter(pos_points[:, 0], pos_points[:, 1], color='green', marker='*', s=marker_size, edgecolor='white', linewidth=1.25)\n",
    "    ax.scatter(neg_points[:, 0], neg_points[:, 1], color='red', marker='*', s=marker_size, edgecolor='white', linewidth=1.25)\n",
    "\n",
    "def show_box(box, ax): #For debugging purposes to check if YOLO V8 is working\n",
    "    x0, y0 = box[0], box[1]\n",
    "    w, h = box[2] - box[0], box[3] - box[1]\n",
    "    rect = plt.Rectangle((x0, y0), w, h, edgecolor='green', facecolor=(0,0,0,0), lw=2)\n",
    "    ax.add_patch(rect)\n",
    "\n",
    "def get_area(mask): #Prints the mask onto the image in a blue color\n",
    "    true_count = np.count_nonzero(mask)\n",
    "    return true_count\n",
    "    \n",
    "\n",
    "def get_physical_tag(image):\n",
    "    physical_size_x = 1\n",
    "    physical_size_y = 1\n",
    "    exifdata = image.getexif()\n",
    "    for tagid in exifdata:\n",
    "        tagname = TAGS.get(tagid, tagid)\n",
    "        if tagname == \"ImageDescription\":\n",
    "            try:\n",
    "                value = exifdata.get(tagid)\n",
    "                start_index_x = value.find('PhysicalSizeX=\"') + len('PhysicalSizeX=\"')\n",
    "                end_index_x = value.find('\"', start_index_x)\n",
    "                physical_size_x = value[start_index_x:end_index_x]\n",
    "                start_index_x_unit = value.find('PhysicalSizeXUnit=\"') + len('PhysicalSizeXUnit=\"')\n",
    "                end_index_x_unit = value.find('\"', start_index_x_unit)\n",
    "                physical_size_x_unit = value[start_index_x_unit:end_index_x_unit]\n",
    "                start_index_y = value.find('PhysicalSizeY=\"') + len('PhysicalSizeY=\"')\n",
    "                end_index_y = value.find('\"', start_index_y)\n",
    "                physical_size_y = value[start_index_y:end_index_y]\n",
    "                start_index_y_unit = value.find('PhysicalSizeYUnit=\"') + len('PhysicalSizeYUnit=\"')\n",
    "                end_index_y_unit = value.find('\"', start_index_y_unit)\n",
    "                physical_size_y_unit = value[start_index_y_unit:end_index_y_unit]\n",
    "            except Exception as e:\n",
    "                print(f'Failed to process {image}: {e}')\n",
    "                continue\n",
    "    return float(physical_size_x), float(physical_size_y)\n",
    "\n",
    "\"\"\"\n",
    "\n",
    "def get_physical(image_path):\n",
    "    physical_size_x = 1\n",
    "    physical_size_y = 1\n",
    "    try:\n",
    "        metadata = iio.immeta(image_path)\n",
    "        physical_size_x = metadata.get('pixelsizex', 'N/A')\n",
    "        physical_size_y = metadata.get('pixelsizey', 'N/A')\n",
    "        physical_size_x = float((\"%.17f\" % physical_size_x).rstrip('0').rstrip('.')) * 10 ** 6\n",
    "        physical_size_y = float((\"%.17f\" % physical_size_y).rstrip('0').rstrip('.')) * 10 ** 6\n",
    "    except Exception as e:\n",
    "        print(f'Failed to retrieve metadata from {image_path}: {e}')\n",
    "    return float(physical_size_x), float(physical_size_y)\n",
    "\"\"\"\n",
    "\n",
    "def get_physical(image_path):\n",
    "    physical_size_x = 1\n",
    "    physical_size_y = 1\n",
    "    try:\n",
    "        # Retrieve metadata\n",
    "        metadata = iio.immeta(image_path)\n",
    "\n",
    "        # Debugging output to understand metadata structure\n",
    "        print(f\"Metadata for {image_path}: {metadata}\")\n",
    "        \n",
    "        # Ensure the 'pixelsizex' and 'pixelsizey' keys are present in the metadata\n",
    "        physical_size_x = metadata.get('pixelsizex', 'N/A')\n",
    "        physical_size_y = metadata.get('pixelsizey', 'N/A')\n",
    "\n",
    "        # Check if the physical sizes are retrieved correctly\n",
    "        if physical_size_x == 'N/A' or physical_size_y == 'N/A':\n",
    "            raise ValueError(\"Physical size information not found in metadata\")\n",
    "\n",
    "        # Convert to micrometers\n",
    "        physical_size_x = float(physical_size_x) * 10**6\n",
    "        physical_size_y = float(physical_size_y) * 10**6\n",
    "    except Exception as e:\n",
    "        print(f'Failed to retrieve metadata from {image_path}: {e}')\n",
    "    \n",
    "    return float(physical_size_x), float(physical_size_y)"
   ]
  },
  {
   "cell_type": "code",
   "execution_count": 7,
   "metadata": {},
   "outputs": [],
   "source": [
    "def execute_block1(image_path):\n",
    "    image = Image.open(image_path)\n",
    "    image_np = np.array(image)\n",
    "    height, width, channels = image_np.shape\n",
    "    model = YOLO(\"C:/Users/richa_0/Documents/Coral Research/Machine Learning Models/coral finder.v6i.yolov8/results/50_epochs-/weights/best.pt\") #Coral_Area_Generator_V1.yolov8\n",
    "    results = model.predict(image, verbose=False)\n",
    "    for result in results:\n",
    "        boxes = result.boxes\n",
    "    if boxes.xyxy.tolist():\n",
    "        bbox = boxes.xyxy.tolist()[0]\n",
    "    else:\n",
    "        bbox = [0, width, 0, height]\n",
    "    return image, bbox\n",
    "\n",
    "def execute_block2(image, bbox):\n",
    "    predictor = SamPredictor(sam)\n",
    "    predictor.set_image(np.array(image))\n",
    "    input_box = np.array(bbox)\n",
    "    masks, _, _ = predictor.predict(\n",
    "        point_coords=None,\n",
    "        point_labels=None,\n",
    "        box=input_box[None, :],\n",
    "    multimask_output=False,\n",
    "    )\n",
    "    return masks\n",
    "\n",
    "def execute_block3(image, bbox, masks, annotated_path, index):\n",
    "    input_box = np.array(bbox)\n",
    "    image_np = np.array(image)\n",
    "    height, width, channels = image_np.shape\n",
    "    scale_factor = 100\n",
    "    fig, ax = plt.subplots(figsize=(width / scale_factor, height / scale_factor))\n",
    "    ax.set_position([0, 0, 1, 1])\n",
    "    ax.set_axis_off()\n",
    "    ax.imshow(image, aspect='auto')\n",
    "    show_mask(masks[0], ax)\n",
    "    show_box(input_box, ax)\n",
    "    fig.savefig(annotated_path, dpi=100)\n",
    "    plt.close(fig)\n",
    "    pixels = get_area(masks[0])\n",
    "    return pixels"
   ]
  },
  {
   "cell_type": "markdown",
   "metadata": {},
   "source": [
    "## Define Important Variables"
   ]
  },
  {
   "cell_type": "code",
   "execution_count": 8,
   "metadata": {},
   "outputs": [],
   "source": [
    "folder_read_paths = [\n",
    "    \"C:/Users/richa_0/Documents/Coral Research/Images/Original_Raw_95_TIF/\",\n",
    "    #\"/content/gdrive/MyDrive/Coral Area Generator V1 Folder/1-100/\",\n",
    "    #\"/content/gdrive/MyDrive/Coral Area Generator V1 Folder/101-200/\",\n",
    "    #\"/content/gdrive/MyDrive/Coral Area Generator V1 Folder/201-300/\",\n",
    "    #\"/content/gdrive/MyDrive/Coral Area Generator V1 Folder/301-400/\",\n",
    "    #\"/content/gdrive/MyDrive/Coral Area Generator V1 Folder/401-500/\",\n",
    "    #\"/content/gdrive/MyDrive/Coral Area Generator V1 Folder/501-600/\",\n",
    "    #\"/content/gdrive/MyDrive/Coral Area Generator V1 Folder/601-700/\",\n",
    "    #\"/content/gdrive/MyDrive/Coral Area Generator V1 Folder/701-783/\"\n",
    "]\n",
    "folder_write_path = \"C:/Users/richa_0/Documents/Coral Research/Code Output/\"\n",
    "csv_path = folder_write_path + \"coral_areas_output.csv\"\n",
    "columns = [\"Folder\", \"Image Name\", \"Pixel Area\", \"Pixel Size X\", \"Pixel Size Y\", \"µm^2\"]"
   ]
  },
  {
   "cell_type": "markdown",
   "metadata": {},
   "source": [
    "## Run Area Generator"
   ]
  },
  {
   "cell_type": "code",
   "execution_count": 9,
   "metadata": {},
   "outputs": [
    {
     "name": "stdout",
     "output_type": "stream",
     "text": [
      "Metadata for C:/Users/richa_0/Documents/Coral Research/Images/Original_Raw_95_TIF/101_1_20230925.tif: {'byteorder': '<', 'is_pilatus': False, 'is_mediacy': False, 'is_vista': False, 'is_scn': False, 'is_ndpi': False, 'is_shaped': False, 'is_metaseries': False, 'is_dng': False, 'is_astrotiff': False, 'is_nih': False, 'is_andor': False, 'is_uniform': True, 'is_geotiff': False, 'is_streak': False, 'is_multipage': False, 'is_micromanager': False, 'is_mrc': False, 'is_fluoview': False, 'is_sem': False, 'is_gdal': False, 'is_virtual': False, 'is_tiffep': False, 'is_philips': False, 'is_volumetric': False, 'is_epics': False, 'is_bif': False, 'is_indica': False, 'is_subifd': False, 'is_scanimage': False, 'is_stk': False, 'is_ome': False, 'is_svs': False, 'is_fei': False, 'is_imagej': False, 'is_mdgel': False, 'is_agilent': False, 'is_mmstack': False, 'is_eer': False, 'is_frame': False, 'is_qpi': False, 'is_sis': True, 'name': '', 'datetime': datetime.datetime(2023, 9, 25, 11, 3), 'pixelsizex': 2.1589113817403494e-06, 'pixelsizey': 2.1589113817403494e-06, 'magnification': 1.5, 'cameraname': '', 'picturetype': '', 'is_tvips': False, 'is_ndtiff': False, 'is_lsm': False}\n",
      "Folder: Original_Raw_95_TIF\n",
      "Image Name: 101_1_20230925.tif\n",
      "Bounding Box: [931.1951293945312, 668.2921752929688, 1290.6900634765625, 994.7177734375]\n",
      "Pixels: 112204\n",
      "Pixel Size X: 2.1589113817403494\n",
      "Pixel Size Y: 2.1589113817403494\n",
      "Area: 522971.43893555715 µm^2\n",
      "\n",
      "Metadata for C:/Users/richa_0/Documents/Coral Research/Images/Original_Raw_95_TIF/101_2_20230925.tif: {'byteorder': '<', 'is_pilatus': False, 'is_mediacy': False, 'is_vista': False, 'is_scn': False, 'is_ndpi': False, 'is_shaped': False, 'is_metaseries': False, 'is_dng': False, 'is_astrotiff': False, 'is_nih': False, 'is_andor': False, 'is_uniform': True, 'is_geotiff': False, 'is_streak': False, 'is_multipage': False, 'is_micromanager': False, 'is_mrc': False, 'is_fluoview': False, 'is_sem': False, 'is_gdal': False, 'is_virtual': False, 'is_tiffep': False, 'is_philips': False, 'is_volumetric': False, 'is_epics': False, 'is_bif': False, 'is_indica': False, 'is_subifd': False, 'is_scanimage': False, 'is_stk': False, 'is_ome': False, 'is_svs': False, 'is_fei': False, 'is_imagej': False, 'is_mdgel': False, 'is_agilent': False, 'is_mmstack': False, 'is_eer': False, 'is_frame': False, 'is_qpi': False, 'is_sis': True, 'name': '', 'datetime': datetime.datetime(2023, 9, 25, 11, 4), 'pixelsizex': 2.1589113817403494e-06, 'pixelsizey': 2.1589113817403494e-06, 'magnification': 1.5, 'cameraname': '', 'picturetype': '', 'is_tvips': False, 'is_ndtiff': False, 'is_lsm': False}\n",
      "Folder: Original_Raw_95_TIF\n",
      "Image Name: 101_2_20230925.tif\n",
      "Bounding Box: [930.2699584960938, 628.5872192382812, 1258.068359375, 987.83984375]\n",
      "Pixels: 98086\n",
      "Pixel Size X: 2.1589113817403494\n",
      "Pixel Size Y: 2.1589113817403494\n",
      "Area: 457168.87597084825 µm^2\n",
      "\n",
      "Metadata for C:/Users/richa_0/Documents/Coral Research/Images/Original_Raw_95_TIF/101_3_20230925.tif: {'byteorder': '<', 'is_pilatus': False, 'is_mediacy': False, 'is_vista': False, 'is_scn': False, 'is_ndpi': False, 'is_shaped': False, 'is_metaseries': False, 'is_dng': False, 'is_astrotiff': False, 'is_nih': False, 'is_andor': False, 'is_uniform': True, 'is_geotiff': False, 'is_streak': False, 'is_multipage': False, 'is_micromanager': False, 'is_mrc': False, 'is_fluoview': False, 'is_sem': False, 'is_gdal': False, 'is_virtual': False, 'is_tiffep': False, 'is_philips': False, 'is_volumetric': False, 'is_epics': False, 'is_bif': False, 'is_indica': False, 'is_subifd': False, 'is_scanimage': False, 'is_stk': False, 'is_ome': False, 'is_svs': False, 'is_fei': False, 'is_imagej': False, 'is_mdgel': False, 'is_agilent': False, 'is_mmstack': False, 'is_eer': False, 'is_frame': False, 'is_qpi': False, 'is_sis': True, 'name': '', 'datetime': datetime.datetime(2023, 9, 25, 11, 6), 'pixelsizex': 2.1589113817403494e-06, 'pixelsizey': 2.1589113817403494e-06, 'magnification': 1.5, 'cameraname': '', 'picturetype': '', 'is_tvips': False, 'is_ndtiff': False, 'is_lsm': False}\n",
      "Folder: Original_Raw_95_TIF\n",
      "Image Name: 101_3_20230925.tif\n",
      "Bounding Box: [951.9406127929688, 620.1467895507812, 1256.4019775390625, 978.3746948242188]\n",
      "Pixels: 90626\n",
      "Pixel Size X: 2.1589113817403494\n",
      "Pixel Size Y: 2.1589113817403494\n",
      "Area: 422398.5742484564 µm^2\n",
      "\n",
      "Metadata for C:/Users/richa_0/Documents/Coral Research/Images/Original_Raw_95_TIF/101_4_20230925.tif: {'byteorder': '<', 'is_pilatus': False, 'is_mediacy': False, 'is_vista': False, 'is_scn': False, 'is_ndpi': False, 'is_shaped': False, 'is_metaseries': False, 'is_dng': False, 'is_astrotiff': False, 'is_nih': False, 'is_andor': False, 'is_uniform': True, 'is_geotiff': False, 'is_streak': False, 'is_multipage': False, 'is_micromanager': False, 'is_mrc': False, 'is_fluoview': False, 'is_sem': False, 'is_gdal': False, 'is_virtual': False, 'is_tiffep': False, 'is_philips': False, 'is_volumetric': False, 'is_epics': False, 'is_bif': False, 'is_indica': False, 'is_subifd': False, 'is_scanimage': False, 'is_stk': False, 'is_ome': False, 'is_svs': False, 'is_fei': False, 'is_imagej': False, 'is_mdgel': False, 'is_agilent': False, 'is_mmstack': False, 'is_eer': False, 'is_frame': False, 'is_qpi': False, 'is_sis': True, 'name': '', 'datetime': datetime.datetime(2023, 9, 25, 11, 8), 'pixelsizex': 2.1589113817403494e-06, 'pixelsizey': 2.1589113817403494e-06, 'magnification': 1.5, 'cameraname': '', 'picturetype': '', 'is_tvips': False, 'is_ndtiff': False, 'is_lsm': False}\n",
      "Folder: Original_Raw_95_TIF\n",
      "Image Name: 101_4_20230925.tif\n",
      "Bounding Box: [801.4241943359375, 562.0635986328125, 1143.3699951171875, 931.7442626953125]\n",
      "Pixels: 108014\n",
      "Pixel Size X: 2.1589113817403494\n",
      "Pixel Size Y: 2.1589113817403494\n",
      "Area: 503442.2748314255 µm^2\n",
      "\n",
      "Metadata for C:/Users/richa_0/Documents/Coral Research/Images/Original_Raw_95_TIF/102_1_20230925.tif: {'byteorder': '<', 'is_pilatus': False, 'is_mediacy': False, 'is_vista': False, 'is_scn': False, 'is_ndpi': False, 'is_shaped': False, 'is_metaseries': False, 'is_dng': False, 'is_astrotiff': False, 'is_nih': False, 'is_andor': False, 'is_uniform': True, 'is_geotiff': False, 'is_streak': False, 'is_multipage': False, 'is_micromanager': False, 'is_mrc': False, 'is_fluoview': False, 'is_sem': False, 'is_gdal': False, 'is_virtual': False, 'is_tiffep': False, 'is_philips': False, 'is_volumetric': False, 'is_epics': False, 'is_bif': False, 'is_indica': False, 'is_subifd': False, 'is_scanimage': False, 'is_stk': False, 'is_ome': False, 'is_svs': False, 'is_fei': False, 'is_imagej': False, 'is_mdgel': False, 'is_agilent': False, 'is_mmstack': False, 'is_eer': False, 'is_frame': False, 'is_qpi': False, 'is_sis': True, 'name': '', 'datetime': datetime.datetime(2023, 9, 25, 11, 23), 'pixelsizex': 2.1589113817403494e-06, 'pixelsizey': 2.1589113817403494e-06, 'magnification': 1.5, 'cameraname': '', 'picturetype': '', 'is_tvips': False, 'is_ndtiff': False, 'is_lsm': False}\n",
      "Folder: Original_Raw_95_TIF\n",
      "Image Name: 102_1_20230925.tif\n",
      "Bounding Box: [912.6273803710938, 641.5375366210938, 1273.6226806640625, 987.6276245117188]\n",
      "Pixels: 102771\n",
      "Pixel Size X: 2.1589113817403494\n",
      "Pixel Size Y: 2.1589113817403494\n",
      "Area: 479005.18476031284 µm^2\n",
      "\n",
      "Metadata for C:/Users/richa_0/Documents/Coral Research/Images/Original_Raw_95_TIF/102_2_20230925.tif: {'byteorder': '<', 'is_pilatus': False, 'is_mediacy': False, 'is_vista': False, 'is_scn': False, 'is_ndpi': False, 'is_shaped': False, 'is_metaseries': False, 'is_dng': False, 'is_astrotiff': False, 'is_nih': False, 'is_andor': False, 'is_uniform': True, 'is_geotiff': False, 'is_streak': False, 'is_multipage': False, 'is_micromanager': False, 'is_mrc': False, 'is_fluoview': False, 'is_sem': False, 'is_gdal': False, 'is_virtual': False, 'is_tiffep': False, 'is_philips': False, 'is_volumetric': False, 'is_epics': False, 'is_bif': False, 'is_indica': False, 'is_subifd': False, 'is_scanimage': False, 'is_stk': False, 'is_ome': False, 'is_svs': False, 'is_fei': False, 'is_imagej': False, 'is_mdgel': False, 'is_agilent': False, 'is_mmstack': False, 'is_eer': False, 'is_frame': False, 'is_qpi': False, 'is_sis': True, 'name': '', 'datetime': datetime.datetime(2023, 9, 25, 11, 25), 'pixelsizex': 2.1589113817403494e-06, 'pixelsizey': 2.1589113817403494e-06, 'magnification': 1.5, 'cameraname': '', 'picturetype': '', 'is_tvips': False, 'is_ndtiff': False, 'is_lsm': False}\n",
      "Folder: Original_Raw_95_TIF\n",
      "Image Name: 102_2_20230925.tif\n",
      "Bounding Box: [1015.669921875, 567.1024780273438, 1370.2567138671875, 930.5885009765625]\n",
      "Pixels: 107423\n",
      "Pixel Size X: 2.1589113817403494\n",
      "Pixel Size Y: 2.1589113817403494\n",
      "Area: 500687.68390408857 µm^2\n",
      "\n",
      "Metadata for C:/Users/richa_0/Documents/Coral Research/Images/Original_Raw_95_TIF/102_3_20230925.tif: {'byteorder': '<', 'is_pilatus': False, 'is_mediacy': False, 'is_vista': False, 'is_scn': False, 'is_ndpi': False, 'is_shaped': False, 'is_metaseries': False, 'is_dng': False, 'is_astrotiff': False, 'is_nih': False, 'is_andor': False, 'is_uniform': True, 'is_geotiff': False, 'is_streak': False, 'is_multipage': False, 'is_micromanager': False, 'is_mrc': False, 'is_fluoview': False, 'is_sem': False, 'is_gdal': False, 'is_virtual': False, 'is_tiffep': False, 'is_philips': False, 'is_volumetric': False, 'is_epics': False, 'is_bif': False, 'is_indica': False, 'is_subifd': False, 'is_scanimage': False, 'is_stk': False, 'is_ome': False, 'is_svs': False, 'is_fei': False, 'is_imagej': False, 'is_mdgel': False, 'is_agilent': False, 'is_mmstack': False, 'is_eer': False, 'is_frame': False, 'is_qpi': False, 'is_sis': True, 'name': '', 'datetime': datetime.datetime(2023, 9, 25, 11, 27), 'pixelsizex': 2.1589113817403494e-06, 'pixelsizey': 2.1589113817403494e-06, 'magnification': 1.5, 'cameraname': '', 'picturetype': '', 'is_tvips': False, 'is_ndtiff': False, 'is_lsm': False}\n",
      "Folder: Original_Raw_95_TIF\n",
      "Image Name: 102_3_20230925.tif\n",
      "Bounding Box: [876.3685913085938, 781.57373046875, 1124.041259765625, 1037.0968017578125]\n",
      "Pixels: 52606\n",
      "Pixel Size X: 2.1589113817403494\n",
      "Pixel Size Y: 2.1589113817403494\n",
      "Area: 245191.21882146734 µm^2\n",
      "\n",
      "Metadata for C:/Users/richa_0/Documents/Coral Research/Images/Original_Raw_95_TIF/102_4_20230925.tif: {'byteorder': '<', 'is_pilatus': False, 'is_mediacy': False, 'is_vista': False, 'is_scn': False, 'is_ndpi': False, 'is_shaped': False, 'is_metaseries': False, 'is_dng': False, 'is_astrotiff': False, 'is_nih': False, 'is_andor': False, 'is_uniform': True, 'is_geotiff': False, 'is_streak': False, 'is_multipage': False, 'is_micromanager': False, 'is_mrc': False, 'is_fluoview': False, 'is_sem': False, 'is_gdal': False, 'is_virtual': False, 'is_tiffep': False, 'is_philips': False, 'is_volumetric': False, 'is_epics': False, 'is_bif': False, 'is_indica': False, 'is_subifd': False, 'is_scanimage': False, 'is_stk': False, 'is_ome': False, 'is_svs': False, 'is_fei': False, 'is_imagej': False, 'is_mdgel': False, 'is_agilent': False, 'is_mmstack': False, 'is_eer': False, 'is_frame': False, 'is_qpi': False, 'is_sis': True, 'name': '', 'datetime': datetime.datetime(2023, 9, 25, 11, 28), 'pixelsizex': 2.1589113817403494e-06, 'pixelsizey': 2.1589113817403494e-06, 'magnification': 1.5, 'cameraname': '', 'picturetype': '', 'is_tvips': False, 'is_ndtiff': False, 'is_lsm': False}\n",
      "Folder: Original_Raw_95_TIF\n",
      "Image Name: 102_4_20230925.tif\n",
      "Bounding Box: [882.3984375, 696.177734375, 1056.1737060546875, 868.0441284179688]\n",
      "Pixels: 25956\n",
      "Pixel Size X: 2.1589113817403494\n",
      "Pixel Size Y: 2.1589113817403494\n",
      "Area: 120978.27768182347 µm^2\n",
      "\n",
      "Metadata for C:/Users/richa_0/Documents/Coral Research/Images/Original_Raw_95_TIF/104_1_20230925.tif: {'byteorder': '<', 'is_pilatus': False, 'is_mediacy': False, 'is_vista': False, 'is_scn': False, 'is_ndpi': False, 'is_shaped': False, 'is_metaseries': False, 'is_dng': False, 'is_astrotiff': False, 'is_nih': False, 'is_andor': False, 'is_uniform': True, 'is_geotiff': False, 'is_streak': False, 'is_multipage': False, 'is_micromanager': False, 'is_mrc': False, 'is_fluoview': False, 'is_sem': False, 'is_gdal': False, 'is_virtual': False, 'is_tiffep': False, 'is_philips': False, 'is_volumetric': False, 'is_epics': False, 'is_bif': False, 'is_indica': False, 'is_subifd': False, 'is_scanimage': False, 'is_stk': False, 'is_ome': False, 'is_svs': False, 'is_fei': False, 'is_imagej': False, 'is_mdgel': False, 'is_agilent': False, 'is_mmstack': False, 'is_eer': False, 'is_frame': False, 'is_qpi': False, 'is_sis': True, 'name': '', 'datetime': datetime.datetime(2023, 9, 25, 11, 45), 'pixelsizex': 2.1589113817403494e-06, 'pixelsizey': 2.1589113817403494e-06, 'magnification': 1.5, 'cameraname': '', 'picturetype': '', 'is_tvips': False, 'is_ndtiff': False, 'is_lsm': False}\n",
      "Folder: Original_Raw_95_TIF\n",
      "Image Name: 104_1_20230925.tif\n",
      "Bounding Box: [760.6345825195312, 643.3323364257812, 1077.9168701171875, 943.9342651367188]\n",
      "Pixels: 82017\n",
      "Pixel Size X: 2.1589113817403494\n",
      "Pixel Size Y: 2.1589113817403494\n",
      "Area: 382272.9003170795 µm^2\n",
      "\n",
      "Metadata for C:/Users/richa_0/Documents/Coral Research/Images/Original_Raw_95_TIF/104_2_20230925.tif: {'byteorder': '<', 'is_pilatus': False, 'is_mediacy': False, 'is_vista': False, 'is_scn': False, 'is_ndpi': False, 'is_shaped': False, 'is_metaseries': False, 'is_dng': False, 'is_astrotiff': False, 'is_nih': False, 'is_andor': False, 'is_uniform': True, 'is_geotiff': False, 'is_streak': False, 'is_multipage': False, 'is_micromanager': False, 'is_mrc': False, 'is_fluoview': False, 'is_sem': False, 'is_gdal': False, 'is_virtual': False, 'is_tiffep': False, 'is_philips': False, 'is_volumetric': False, 'is_epics': False, 'is_bif': False, 'is_indica': False, 'is_subifd': False, 'is_scanimage': False, 'is_stk': False, 'is_ome': False, 'is_svs': False, 'is_fei': False, 'is_imagej': False, 'is_mdgel': False, 'is_agilent': False, 'is_mmstack': False, 'is_eer': False, 'is_frame': False, 'is_qpi': False, 'is_sis': True, 'name': '', 'datetime': datetime.datetime(2023, 9, 25, 11, 46), 'pixelsizex': 2.1589113817403494e-06, 'pixelsizey': 2.1589113817403494e-06, 'magnification': 1.5, 'cameraname': '', 'picturetype': '', 'is_tvips': False, 'is_ndtiff': False, 'is_lsm': False}\n",
      "Folder: Original_Raw_95_TIF\n",
      "Image Name: 104_2_20230925.tif\n",
      "Bounding Box: [868.0484619140625, 665.5770263671875, 1165.5457763671875, 1011.2523803710938]\n",
      "Pixels: 76764\n",
      "Pixel Size X: 2.1589113817403494\n",
      "Pixel Size Y: 2.1589113817403494\n",
      "Area: 357789.20126242476 µm^2\n",
      "\n",
      "Metadata for C:/Users/richa_0/Documents/Coral Research/Images/Original_Raw_95_TIF/104_3_20230925.tif: {'byteorder': '<', 'is_pilatus': False, 'is_mediacy': False, 'is_vista': False, 'is_scn': False, 'is_ndpi': False, 'is_shaped': False, 'is_metaseries': False, 'is_dng': False, 'is_astrotiff': False, 'is_nih': False, 'is_andor': False, 'is_uniform': True, 'is_geotiff': False, 'is_streak': False, 'is_multipage': False, 'is_micromanager': False, 'is_mrc': False, 'is_fluoview': False, 'is_sem': False, 'is_gdal': False, 'is_virtual': False, 'is_tiffep': False, 'is_philips': False, 'is_volumetric': False, 'is_epics': False, 'is_bif': False, 'is_indica': False, 'is_subifd': False, 'is_scanimage': False, 'is_stk': False, 'is_ome': False, 'is_svs': False, 'is_fei': False, 'is_imagej': False, 'is_mdgel': False, 'is_agilent': False, 'is_mmstack': False, 'is_eer': False, 'is_frame': False, 'is_qpi': False, 'is_sis': True, 'name': '', 'datetime': datetime.datetime(2023, 9, 25, 11, 46), 'pixelsizex': 2.1589113817403494e-06, 'pixelsizey': 2.1589113817403494e-06, 'magnification': 1.5, 'cameraname': '', 'picturetype': '', 'is_tvips': False, 'is_ndtiff': False, 'is_lsm': False}\n",
      "Folder: Original_Raw_95_TIF\n",
      "Image Name: 104_3_20230925.tif\n",
      "Bounding Box: [898.658203125, 641.2449340820312, 1225.9476318359375, 948.7356567382812]\n",
      "Pixels: 83658\n",
      "Pixel Size X: 2.1589113817403494\n",
      "Pixel Size Y: 2.1589113817403494\n",
      "Area: 389921.4345163349 µm^2\n",
      "\n",
      "Metadata for C:/Users/richa_0/Documents/Coral Research/Images/Original_Raw_95_TIF/105_1_20230925.tif: {'byteorder': '<', 'is_pilatus': False, 'is_mediacy': False, 'is_vista': False, 'is_scn': False, 'is_ndpi': False, 'is_shaped': False, 'is_metaseries': False, 'is_dng': False, 'is_astrotiff': False, 'is_nih': False, 'is_andor': False, 'is_uniform': True, 'is_geotiff': False, 'is_streak': False, 'is_multipage': False, 'is_micromanager': False, 'is_mrc': False, 'is_fluoview': False, 'is_sem': False, 'is_gdal': False, 'is_virtual': False, 'is_tiffep': False, 'is_philips': False, 'is_volumetric': False, 'is_epics': False, 'is_bif': False, 'is_indica': False, 'is_subifd': False, 'is_scanimage': False, 'is_stk': False, 'is_ome': False, 'is_svs': False, 'is_fei': False, 'is_imagej': False, 'is_mdgel': False, 'is_agilent': False, 'is_mmstack': False, 'is_eer': False, 'is_frame': False, 'is_qpi': False, 'is_sis': True, 'name': '', 'datetime': datetime.datetime(2023, 9, 25, 11, 53), 'pixelsizex': 2.1589113817403494e-06, 'pixelsizey': 2.1589113817403494e-06, 'magnification': 1.5, 'cameraname': '', 'picturetype': '', 'is_tvips': False, 'is_ndtiff': False, 'is_lsm': False}\n"
     ]
    },
    {
     "ename": "PermissionError",
     "evalue": "[Errno 13] Permission denied: 'C:/Users/richa_0/Documents/Coral Research/Code Output/coral_areas_output.csv'",
     "output_type": "error",
     "traceback": [
      "\u001b[1;31m---------------------------------------------------------------------------\u001b[0m",
      "\u001b[1;31mPermissionError\u001b[0m                           Traceback (most recent call last)",
      "Cell \u001b[1;32mIn[9], line 16\u001b[0m\n\u001b[0;32m     14\u001b[0m new_row \u001b[38;5;241m=\u001b[39m {\u001b[38;5;124m\"\u001b[39m\u001b[38;5;124mFolder\u001b[39m\u001b[38;5;124m\"\u001b[39m: folder_name, \u001b[38;5;124m\"\u001b[39m\u001b[38;5;124mImage Name\u001b[39m\u001b[38;5;124m\"\u001b[39m: image_file, \u001b[38;5;124m\"\u001b[39m\u001b[38;5;124mPixel Area\u001b[39m\u001b[38;5;124m\"\u001b[39m: pixels, \u001b[38;5;124m\"\u001b[39m\u001b[38;5;124mPixel Size X\u001b[39m\u001b[38;5;124m\"\u001b[39m: pixel_size_x, \u001b[38;5;124m\"\u001b[39m\u001b[38;5;124mPixel Size Y\u001b[39m\u001b[38;5;124m\"\u001b[39m: pixel_size_y, \u001b[38;5;124m\"\u001b[39m\u001b[38;5;124mµm^2\u001b[39m\u001b[38;5;124m\"\u001b[39m: area}\n\u001b[0;32m     15\u001b[0m new_row_df \u001b[38;5;241m=\u001b[39m pd\u001b[38;5;241m.\u001b[39mDataFrame([new_row], columns\u001b[38;5;241m=\u001b[39mcolumns)\n\u001b[1;32m---> 16\u001b[0m \u001b[43mnew_row_df\u001b[49m\u001b[38;5;241;43m.\u001b[39;49m\u001b[43mto_csv\u001b[49m\u001b[43m(\u001b[49m\u001b[43mcsv_path\u001b[49m\u001b[43m,\u001b[49m\u001b[43m \u001b[49m\u001b[43mmode\u001b[49m\u001b[38;5;241;43m=\u001b[39;49m\u001b[38;5;124;43m'\u001b[39;49m\u001b[38;5;124;43ma\u001b[39;49m\u001b[38;5;124;43m'\u001b[39;49m\u001b[43m,\u001b[49m\u001b[43m \u001b[49m\u001b[43mheader\u001b[49m\u001b[38;5;241;43m=\u001b[39;49m\u001b[38;5;129;43;01mnot\u001b[39;49;00m\u001b[43m \u001b[49m\u001b[43mos\u001b[49m\u001b[38;5;241;43m.\u001b[39;49m\u001b[43mpath\u001b[49m\u001b[38;5;241;43m.\u001b[39;49m\u001b[43mexists\u001b[49m\u001b[43m(\u001b[49m\u001b[43mcsv_path\u001b[49m\u001b[43m)\u001b[49m\u001b[43m,\u001b[49m\u001b[43m \u001b[49m\u001b[43mindex\u001b[49m\u001b[38;5;241;43m=\u001b[39;49m\u001b[38;5;28;43;01mFalse\u001b[39;49;00m\u001b[43m)\u001b[49m\n\u001b[0;32m     17\u001b[0m \u001b[38;5;28mprint\u001b[39m(\u001b[38;5;124m\"\u001b[39m\u001b[38;5;124mFolder: \u001b[39m\u001b[38;5;124m\"\u001b[39m \u001b[38;5;241m+\u001b[39m folder_name \u001b[38;5;241m+\u001b[39m \u001b[38;5;124m\"\u001b[39m\u001b[38;5;130;01m\\n\u001b[39;00m\u001b[38;5;124m\"\u001b[39m \u001b[38;5;241m+\u001b[39m \u001b[38;5;124m\"\u001b[39m\u001b[38;5;124mImage Name: \u001b[39m\u001b[38;5;124m\"\u001b[39m \u001b[38;5;241m+\u001b[39m image_file \u001b[38;5;241m+\u001b[39m \u001b[38;5;124m\"\u001b[39m\u001b[38;5;130;01m\\n\u001b[39;00m\u001b[38;5;124m\"\u001b[39m \u001b[38;5;241m+\u001b[39m \u001b[38;5;124m\"\u001b[39m\u001b[38;5;124mBounding Box: \u001b[39m\u001b[38;5;124m\"\u001b[39m \u001b[38;5;241m+\u001b[39m \u001b[38;5;28mstr\u001b[39m(bbox) \u001b[38;5;241m+\u001b[39m \u001b[38;5;124m\"\u001b[39m\u001b[38;5;130;01m\\n\u001b[39;00m\u001b[38;5;124m\"\u001b[39m \u001b[38;5;241m+\u001b[39m \u001b[38;5;124m\"\u001b[39m\u001b[38;5;124mPixels: \u001b[39m\u001b[38;5;124m\"\u001b[39m \u001b[38;5;241m+\u001b[39m \u001b[38;5;28mstr\u001b[39m(pixels) \u001b[38;5;241m+\u001b[39m \u001b[38;5;124m\"\u001b[39m\u001b[38;5;130;01m\\n\u001b[39;00m\u001b[38;5;124m\"\u001b[39m \u001b[38;5;241m+\u001b[39m \u001b[38;5;124m\"\u001b[39m\u001b[38;5;124mPixel Size X: \u001b[39m\u001b[38;5;124m\"\u001b[39m \u001b[38;5;241m+\u001b[39m \u001b[38;5;28mstr\u001b[39m(pixel_size_x) \u001b[38;5;241m+\u001b[39m \u001b[38;5;124m\"\u001b[39m\u001b[38;5;130;01m\\n\u001b[39;00m\u001b[38;5;124m\"\u001b[39m \u001b[38;5;241m+\u001b[39m \u001b[38;5;124m\"\u001b[39m\u001b[38;5;124mPixel Size Y: \u001b[39m\u001b[38;5;124m\"\u001b[39m \u001b[38;5;241m+\u001b[39m \u001b[38;5;28mstr\u001b[39m(pixel_size_y) \u001b[38;5;241m+\u001b[39m \u001b[38;5;124m\"\u001b[39m\u001b[38;5;130;01m\\n\u001b[39;00m\u001b[38;5;124m\"\u001b[39m \u001b[38;5;241m+\u001b[39m \u001b[38;5;124m\"\u001b[39m\u001b[38;5;124mArea: \u001b[39m\u001b[38;5;124m\"\u001b[39m \u001b[38;5;241m+\u001b[39m \u001b[38;5;28mstr\u001b[39m(area) \u001b[38;5;241m+\u001b[39m \u001b[38;5;124m\"\u001b[39m\u001b[38;5;124m µm^2\u001b[39m\u001b[38;5;124m\"\u001b[39m \u001b[38;5;241m+\u001b[39m \u001b[38;5;124m\"\u001b[39m\u001b[38;5;130;01m\\n\u001b[39;00m\u001b[38;5;124m\"\u001b[39m)\n",
      "File \u001b[1;32m~\\anaconda3\\envs\\Coral_Research\\lib\\site-packages\\pandas\\util\\_decorators.py:333\u001b[0m, in \u001b[0;36mdeprecate_nonkeyword_arguments.<locals>.decorate.<locals>.wrapper\u001b[1;34m(*args, **kwargs)\u001b[0m\n\u001b[0;32m    327\u001b[0m \u001b[38;5;28;01mif\u001b[39;00m \u001b[38;5;28mlen\u001b[39m(args) \u001b[38;5;241m>\u001b[39m num_allow_args:\n\u001b[0;32m    328\u001b[0m     warnings\u001b[38;5;241m.\u001b[39mwarn(\n\u001b[0;32m    329\u001b[0m         msg\u001b[38;5;241m.\u001b[39mformat(arguments\u001b[38;5;241m=\u001b[39m_format_argument_list(allow_args)),\n\u001b[0;32m    330\u001b[0m         \u001b[38;5;167;01mFutureWarning\u001b[39;00m,\n\u001b[0;32m    331\u001b[0m         stacklevel\u001b[38;5;241m=\u001b[39mfind_stack_level(),\n\u001b[0;32m    332\u001b[0m     )\n\u001b[1;32m--> 333\u001b[0m \u001b[38;5;28;01mreturn\u001b[39;00m func(\u001b[38;5;241m*\u001b[39margs, \u001b[38;5;241m*\u001b[39m\u001b[38;5;241m*\u001b[39mkwargs)\n",
      "File \u001b[1;32m~\\anaconda3\\envs\\Coral_Research\\lib\\site-packages\\pandas\\core\\generic.py:3961\u001b[0m, in \u001b[0;36mNDFrame.to_csv\u001b[1;34m(self, path_or_buf, sep, na_rep, float_format, columns, header, index, index_label, mode, encoding, compression, quoting, quotechar, lineterminator, chunksize, date_format, doublequote, escapechar, decimal, errors, storage_options)\u001b[0m\n\u001b[0;32m   3950\u001b[0m df \u001b[38;5;241m=\u001b[39m \u001b[38;5;28mself\u001b[39m \u001b[38;5;28;01mif\u001b[39;00m \u001b[38;5;28misinstance\u001b[39m(\u001b[38;5;28mself\u001b[39m, ABCDataFrame) \u001b[38;5;28;01melse\u001b[39;00m \u001b[38;5;28mself\u001b[39m\u001b[38;5;241m.\u001b[39mto_frame()\n\u001b[0;32m   3952\u001b[0m formatter \u001b[38;5;241m=\u001b[39m DataFrameFormatter(\n\u001b[0;32m   3953\u001b[0m     frame\u001b[38;5;241m=\u001b[39mdf,\n\u001b[0;32m   3954\u001b[0m     header\u001b[38;5;241m=\u001b[39mheader,\n\u001b[1;32m   (...)\u001b[0m\n\u001b[0;32m   3958\u001b[0m     decimal\u001b[38;5;241m=\u001b[39mdecimal,\n\u001b[0;32m   3959\u001b[0m )\n\u001b[1;32m-> 3961\u001b[0m \u001b[38;5;28;01mreturn\u001b[39;00m \u001b[43mDataFrameRenderer\u001b[49m\u001b[43m(\u001b[49m\u001b[43mformatter\u001b[49m\u001b[43m)\u001b[49m\u001b[38;5;241;43m.\u001b[39;49m\u001b[43mto_csv\u001b[49m\u001b[43m(\u001b[49m\n\u001b[0;32m   3962\u001b[0m \u001b[43m    \u001b[49m\u001b[43mpath_or_buf\u001b[49m\u001b[43m,\u001b[49m\n\u001b[0;32m   3963\u001b[0m \u001b[43m    \u001b[49m\u001b[43mlineterminator\u001b[49m\u001b[38;5;241;43m=\u001b[39;49m\u001b[43mlineterminator\u001b[49m\u001b[43m,\u001b[49m\n\u001b[0;32m   3964\u001b[0m \u001b[43m    \u001b[49m\u001b[43msep\u001b[49m\u001b[38;5;241;43m=\u001b[39;49m\u001b[43msep\u001b[49m\u001b[43m,\u001b[49m\n\u001b[0;32m   3965\u001b[0m \u001b[43m    \u001b[49m\u001b[43mencoding\u001b[49m\u001b[38;5;241;43m=\u001b[39;49m\u001b[43mencoding\u001b[49m\u001b[43m,\u001b[49m\n\u001b[0;32m   3966\u001b[0m \u001b[43m    \u001b[49m\u001b[43merrors\u001b[49m\u001b[38;5;241;43m=\u001b[39;49m\u001b[43merrors\u001b[49m\u001b[43m,\u001b[49m\n\u001b[0;32m   3967\u001b[0m \u001b[43m    \u001b[49m\u001b[43mcompression\u001b[49m\u001b[38;5;241;43m=\u001b[39;49m\u001b[43mcompression\u001b[49m\u001b[43m,\u001b[49m\n\u001b[0;32m   3968\u001b[0m \u001b[43m    \u001b[49m\u001b[43mquoting\u001b[49m\u001b[38;5;241;43m=\u001b[39;49m\u001b[43mquoting\u001b[49m\u001b[43m,\u001b[49m\n\u001b[0;32m   3969\u001b[0m \u001b[43m    \u001b[49m\u001b[43mcolumns\u001b[49m\u001b[38;5;241;43m=\u001b[39;49m\u001b[43mcolumns\u001b[49m\u001b[43m,\u001b[49m\n\u001b[0;32m   3970\u001b[0m \u001b[43m    \u001b[49m\u001b[43mindex_label\u001b[49m\u001b[38;5;241;43m=\u001b[39;49m\u001b[43mindex_label\u001b[49m\u001b[43m,\u001b[49m\n\u001b[0;32m   3971\u001b[0m \u001b[43m    \u001b[49m\u001b[43mmode\u001b[49m\u001b[38;5;241;43m=\u001b[39;49m\u001b[43mmode\u001b[49m\u001b[43m,\u001b[49m\n\u001b[0;32m   3972\u001b[0m \u001b[43m    \u001b[49m\u001b[43mchunksize\u001b[49m\u001b[38;5;241;43m=\u001b[39;49m\u001b[43mchunksize\u001b[49m\u001b[43m,\u001b[49m\n\u001b[0;32m   3973\u001b[0m \u001b[43m    \u001b[49m\u001b[43mquotechar\u001b[49m\u001b[38;5;241;43m=\u001b[39;49m\u001b[43mquotechar\u001b[49m\u001b[43m,\u001b[49m\n\u001b[0;32m   3974\u001b[0m \u001b[43m    \u001b[49m\u001b[43mdate_format\u001b[49m\u001b[38;5;241;43m=\u001b[39;49m\u001b[43mdate_format\u001b[49m\u001b[43m,\u001b[49m\n\u001b[0;32m   3975\u001b[0m \u001b[43m    \u001b[49m\u001b[43mdoublequote\u001b[49m\u001b[38;5;241;43m=\u001b[39;49m\u001b[43mdoublequote\u001b[49m\u001b[43m,\u001b[49m\n\u001b[0;32m   3976\u001b[0m \u001b[43m    \u001b[49m\u001b[43mescapechar\u001b[49m\u001b[38;5;241;43m=\u001b[39;49m\u001b[43mescapechar\u001b[49m\u001b[43m,\u001b[49m\n\u001b[0;32m   3977\u001b[0m \u001b[43m    \u001b[49m\u001b[43mstorage_options\u001b[49m\u001b[38;5;241;43m=\u001b[39;49m\u001b[43mstorage_options\u001b[49m\u001b[43m,\u001b[49m\n\u001b[0;32m   3978\u001b[0m \u001b[43m\u001b[49m\u001b[43m)\u001b[49m\n",
      "File \u001b[1;32m~\\anaconda3\\envs\\Coral_Research\\lib\\site-packages\\pandas\\io\\formats\\format.py:1014\u001b[0m, in \u001b[0;36mDataFrameRenderer.to_csv\u001b[1;34m(self, path_or_buf, encoding, sep, columns, index_label, mode, compression, quoting, quotechar, lineterminator, chunksize, date_format, doublequote, escapechar, errors, storage_options)\u001b[0m\n\u001b[0;32m    993\u001b[0m     created_buffer \u001b[38;5;241m=\u001b[39m \u001b[38;5;28;01mFalse\u001b[39;00m\n\u001b[0;32m    995\u001b[0m csv_formatter \u001b[38;5;241m=\u001b[39m CSVFormatter(\n\u001b[0;32m    996\u001b[0m     path_or_buf\u001b[38;5;241m=\u001b[39mpath_or_buf,\n\u001b[0;32m    997\u001b[0m     lineterminator\u001b[38;5;241m=\u001b[39mlineterminator,\n\u001b[1;32m   (...)\u001b[0m\n\u001b[0;32m   1012\u001b[0m     formatter\u001b[38;5;241m=\u001b[39m\u001b[38;5;28mself\u001b[39m\u001b[38;5;241m.\u001b[39mfmt,\n\u001b[0;32m   1013\u001b[0m )\n\u001b[1;32m-> 1014\u001b[0m \u001b[43mcsv_formatter\u001b[49m\u001b[38;5;241;43m.\u001b[39;49m\u001b[43msave\u001b[49m\u001b[43m(\u001b[49m\u001b[43m)\u001b[49m\n\u001b[0;32m   1016\u001b[0m \u001b[38;5;28;01mif\u001b[39;00m created_buffer:\n\u001b[0;32m   1017\u001b[0m     \u001b[38;5;28;01massert\u001b[39;00m \u001b[38;5;28misinstance\u001b[39m(path_or_buf, StringIO)\n",
      "File \u001b[1;32m~\\anaconda3\\envs\\Coral_Research\\lib\\site-packages\\pandas\\io\\formats\\csvs.py:251\u001b[0m, in \u001b[0;36mCSVFormatter.save\u001b[1;34m(self)\u001b[0m\n\u001b[0;32m    247\u001b[0m \u001b[38;5;250m\u001b[39m\u001b[38;5;124;03m\"\"\"\u001b[39;00m\n\u001b[0;32m    248\u001b[0m \u001b[38;5;124;03mCreate the writer & save.\u001b[39;00m\n\u001b[0;32m    249\u001b[0m \u001b[38;5;124;03m\"\"\"\u001b[39;00m\n\u001b[0;32m    250\u001b[0m \u001b[38;5;66;03m# apply compression and byte/text conversion\u001b[39;00m\n\u001b[1;32m--> 251\u001b[0m \u001b[38;5;28;01mwith\u001b[39;00m \u001b[43mget_handle\u001b[49m\u001b[43m(\u001b[49m\n\u001b[0;32m    252\u001b[0m \u001b[43m    \u001b[49m\u001b[38;5;28;43mself\u001b[39;49m\u001b[38;5;241;43m.\u001b[39;49m\u001b[43mfilepath_or_buffer\u001b[49m\u001b[43m,\u001b[49m\n\u001b[0;32m    253\u001b[0m \u001b[43m    \u001b[49m\u001b[38;5;28;43mself\u001b[39;49m\u001b[38;5;241;43m.\u001b[39;49m\u001b[43mmode\u001b[49m\u001b[43m,\u001b[49m\n\u001b[0;32m    254\u001b[0m \u001b[43m    \u001b[49m\u001b[43mencoding\u001b[49m\u001b[38;5;241;43m=\u001b[39;49m\u001b[38;5;28;43mself\u001b[39;49m\u001b[38;5;241;43m.\u001b[39;49m\u001b[43mencoding\u001b[49m\u001b[43m,\u001b[49m\n\u001b[0;32m    255\u001b[0m \u001b[43m    \u001b[49m\u001b[43merrors\u001b[49m\u001b[38;5;241;43m=\u001b[39;49m\u001b[38;5;28;43mself\u001b[39;49m\u001b[38;5;241;43m.\u001b[39;49m\u001b[43merrors\u001b[49m\u001b[43m,\u001b[49m\n\u001b[0;32m    256\u001b[0m \u001b[43m    \u001b[49m\u001b[43mcompression\u001b[49m\u001b[38;5;241;43m=\u001b[39;49m\u001b[38;5;28;43mself\u001b[39;49m\u001b[38;5;241;43m.\u001b[39;49m\u001b[43mcompression\u001b[49m\u001b[43m,\u001b[49m\n\u001b[0;32m    257\u001b[0m \u001b[43m    \u001b[49m\u001b[43mstorage_options\u001b[49m\u001b[38;5;241;43m=\u001b[39;49m\u001b[38;5;28;43mself\u001b[39;49m\u001b[38;5;241;43m.\u001b[39;49m\u001b[43mstorage_options\u001b[49m\u001b[43m,\u001b[49m\n\u001b[0;32m    258\u001b[0m \u001b[43m\u001b[49m\u001b[43m)\u001b[49m \u001b[38;5;28;01mas\u001b[39;00m handles:\n\u001b[0;32m    259\u001b[0m     \u001b[38;5;66;03m# Note: self.encoding is irrelevant here\u001b[39;00m\n\u001b[0;32m    260\u001b[0m     \u001b[38;5;28mself\u001b[39m\u001b[38;5;241m.\u001b[39mwriter \u001b[38;5;241m=\u001b[39m csvlib\u001b[38;5;241m.\u001b[39mwriter(\n\u001b[0;32m    261\u001b[0m         handles\u001b[38;5;241m.\u001b[39mhandle,\n\u001b[0;32m    262\u001b[0m         lineterminator\u001b[38;5;241m=\u001b[39m\u001b[38;5;28mself\u001b[39m\u001b[38;5;241m.\u001b[39mlineterminator,\n\u001b[1;32m   (...)\u001b[0m\n\u001b[0;32m    267\u001b[0m         quotechar\u001b[38;5;241m=\u001b[39m\u001b[38;5;28mself\u001b[39m\u001b[38;5;241m.\u001b[39mquotechar,\n\u001b[0;32m    268\u001b[0m     )\n\u001b[0;32m    270\u001b[0m     \u001b[38;5;28mself\u001b[39m\u001b[38;5;241m.\u001b[39m_save()\n",
      "File \u001b[1;32m~\\anaconda3\\envs\\Coral_Research\\lib\\site-packages\\pandas\\io\\common.py:873\u001b[0m, in \u001b[0;36mget_handle\u001b[1;34m(path_or_buf, mode, encoding, compression, memory_map, is_text, errors, storage_options)\u001b[0m\n\u001b[0;32m    868\u001b[0m \u001b[38;5;28;01melif\u001b[39;00m \u001b[38;5;28misinstance\u001b[39m(handle, \u001b[38;5;28mstr\u001b[39m):\n\u001b[0;32m    869\u001b[0m     \u001b[38;5;66;03m# Check whether the filename is to be opened in binary mode.\u001b[39;00m\n\u001b[0;32m    870\u001b[0m     \u001b[38;5;66;03m# Binary mode does not support 'encoding' and 'newline'.\u001b[39;00m\n\u001b[0;32m    871\u001b[0m     \u001b[38;5;28;01mif\u001b[39;00m ioargs\u001b[38;5;241m.\u001b[39mencoding \u001b[38;5;129;01mand\u001b[39;00m \u001b[38;5;124m\"\u001b[39m\u001b[38;5;124mb\u001b[39m\u001b[38;5;124m\"\u001b[39m \u001b[38;5;129;01mnot\u001b[39;00m \u001b[38;5;129;01min\u001b[39;00m ioargs\u001b[38;5;241m.\u001b[39mmode:\n\u001b[0;32m    872\u001b[0m         \u001b[38;5;66;03m# Encoding\u001b[39;00m\n\u001b[1;32m--> 873\u001b[0m         handle \u001b[38;5;241m=\u001b[39m \u001b[38;5;28;43mopen\u001b[39;49m\u001b[43m(\u001b[49m\n\u001b[0;32m    874\u001b[0m \u001b[43m            \u001b[49m\u001b[43mhandle\u001b[49m\u001b[43m,\u001b[49m\n\u001b[0;32m    875\u001b[0m \u001b[43m            \u001b[49m\u001b[43mioargs\u001b[49m\u001b[38;5;241;43m.\u001b[39;49m\u001b[43mmode\u001b[49m\u001b[43m,\u001b[49m\n\u001b[0;32m    876\u001b[0m \u001b[43m            \u001b[49m\u001b[43mencoding\u001b[49m\u001b[38;5;241;43m=\u001b[39;49m\u001b[43mioargs\u001b[49m\u001b[38;5;241;43m.\u001b[39;49m\u001b[43mencoding\u001b[49m\u001b[43m,\u001b[49m\n\u001b[0;32m    877\u001b[0m \u001b[43m            \u001b[49m\u001b[43merrors\u001b[49m\u001b[38;5;241;43m=\u001b[39;49m\u001b[43merrors\u001b[49m\u001b[43m,\u001b[49m\n\u001b[0;32m    878\u001b[0m \u001b[43m            \u001b[49m\u001b[43mnewline\u001b[49m\u001b[38;5;241;43m=\u001b[39;49m\u001b[38;5;124;43m\"\u001b[39;49m\u001b[38;5;124;43m\"\u001b[39;49m\u001b[43m,\u001b[49m\n\u001b[0;32m    879\u001b[0m \u001b[43m        \u001b[49m\u001b[43m)\u001b[49m\n\u001b[0;32m    880\u001b[0m     \u001b[38;5;28;01melse\u001b[39;00m:\n\u001b[0;32m    881\u001b[0m         \u001b[38;5;66;03m# Binary mode\u001b[39;00m\n\u001b[0;32m    882\u001b[0m         handle \u001b[38;5;241m=\u001b[39m \u001b[38;5;28mopen\u001b[39m(handle, ioargs\u001b[38;5;241m.\u001b[39mmode)\n",
      "\u001b[1;31mPermissionError\u001b[0m: [Errno 13] Permission denied: 'C:/Users/richa_0/Documents/Coral Research/Code Output/coral_areas_output.csv'"
     ]
    }
   ],
   "source": [
    "for index, folder in enumerate(folder_read_paths):\n",
    "    folder_name = os.path.basename(folder.rstrip('/'))\n",
    "    for image_file in os.listdir(folder):\n",
    "        if image_file.endswith('.tif'):\n",
    "            image_path = os.path.join(folder, image_file)\n",
    "            annotated_path = os.path.join(folder_write_path, image_file)\n",
    "            image, bbox = execute_block1(image_path)\n",
    "            masks = execute_block2(image, bbox)\n",
    "            pixels = execute_block3(image, bbox, masks, annotated_path, index)\n",
    "            pixel_size_x, pixel_size_y = get_physical(image_path)\n",
    "            if (pixel_size_x == 1):\n",
    "                pixel_size_x, pixel_size_y = get_physical_tag(image)\n",
    "            area = pixel_size_x * pixel_size_y * pixels\n",
    "            new_row = {\"Folder\": folder_name, \"Image Name\": image_file, \"Pixel Area\": pixels, \"Pixel Size X\": pixel_size_x, \"Pixel Size Y\": pixel_size_y, \"µm^2\": area}\n",
    "            new_row_df = pd.DataFrame([new_row], columns=columns)\n",
    "            new_row_df.to_csv(csv_path, mode='a', header=not os.path.exists(csv_path), index=False)\n",
    "            print(\"Folder: \" + folder_name + \"\\n\" + \"Image Name: \" + image_file + \"\\n\" + \"Bounding Box: \" + str(bbox) + \"\\n\" + \"Pixels: \" + str(pixels) + \"\\n\" + \"Pixel Size X: \" + str(pixel_size_x) + \"\\n\" + \"Pixel Size Y: \" + str(pixel_size_y) + \"\\n\" + \"Area: \" + str(area) + \" µm^2\" + \"\\n\")"
   ]
  },
  {
   "cell_type": "code",
   "execution_count": null,
   "metadata": {},
   "outputs": [],
   "source": []
  }
 ],
 "metadata": {
  "accelerator": "GPU",
  "colab": {
   "gpuType": "T4",
   "provenance": []
  },
  "kernelspec": {
   "display_name": "Python 3 (ipykernel)",
   "language": "python",
   "name": "python3"
  },
  "language_info": {
   "codemirror_mode": {
    "name": "ipython",
    "version": 3
   },
   "file_extension": ".py",
   "mimetype": "text/x-python",
   "name": "python",
   "nbconvert_exporter": "python",
   "pygments_lexer": "ipython3",
   "version": "3.10.13"
  }
 },
 "nbformat": 4,
 "nbformat_minor": 4
}
